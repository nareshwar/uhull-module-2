{
 "cells": [
  {
   "cell_type": "markdown",
   "id": "f7d52059",
   "metadata": {
    "id": "f7d52059"
   },
   "source": [
    "# **dataset 2: Triple MNIST**"
   ]
  },
  {
   "cell_type": "markdown",
   "id": "abb548e1-2374-4486-8ec8-0a5b91663939",
   "metadata": {},
   "source": [
    "## Step-by-Step Guide to Build a CNN for Multi-Label Classification Problems:\n",
    "\n",
    "### 1. Import Libraries and Function\n",
    "\n",
    "Begin by importing all the required libraries and functions for data processing, model building, and evaluation.\n",
    "\n",
    "### 2. Load the Dataset\n",
    "Load the training, validation, and test datasets from the specified directories.\n",
    "\n",
    "### 3. Preprocess the Dataset\n",
    "\n",
    "- Reshape: Adjust the shape of the data to fit the model input requirements.\n",
    "- Normalize Pixel Values: Scale the pixel values to the range [0, 1].\n",
    "- Define Number of Categories: Specify the number of categories for each digit position.\n",
    "- Flatten: Convert multi-dimensional arrays to a single dimension.\n",
    "- Convert Labels to Categorical: Use one-hot encoding to convert labels for multi-label classification.\n",
    "- Flatten Label Lists: Convert the label lists to dictionaries for multi-output models.\n",
    "- Custom Data Generator: Define a custom data generator to yield batches of data during training.\n",
    "\n",
    "### 4. Define Learning Rate and K-Fold Cross Validation\n",
    "- Set up a learning rate scheduler to adjust the learning rate during training.\n",
    "- Use K-fold cross-validation to better estimate model performance.\n",
    "\n",
    "### 5. Set Up Callbacks for Early Stopping, Model Checkpoint, and TensorBoard\n",
    "Configure callbacks for early stopping, saving the best model, and logging training progress for visualization in TensorBoard.\n",
    "Implement early stopping to prevent overfitting by stopping training when the validation loss stops improving.\n",
    "\n",
    "### 6. Define Function to Plot Learning Curves\n",
    "Create a function to visualize training and validation accuracy and loss over epochs.\n",
    "\n",
    "### 7. Define the CNN Model Architecture\n",
    "Set Up the Input Shape. Build the CNN model architecture.\n",
    "To be compared:\n",
    "The last layer/ Output layer uses a sigmoid versus softmax.\n",
    "The loss function uses categorical crossentropy versus binary crossentropy.\n",
    "\n",
    "### 8. Train the Model\n",
    "Train the model using the training data and validate it on the validation data, while using the defined callbacks.\n",
    "\n",
    "### 9. Evaluate the Model\n",
    "Evaluate the model and print the accuracy and loss metrics.\n",
    "\n",
    "### 10. Perform Hyperparameter tuning \n",
    "- Perform 'keras-tuner' tuning to identify the best model parameters.\n",
    "- Apply regularization techniques to prevent overfitting.\n",
    "- Use cross-validation to obtain a more reliable estimate of the model's performance.\n",
    "\n",
    "### 11. Re-Evaluate the Model\n",
    "Re-Evaluate the model after Hyperparameter Tuning.\n",
    "\n",
    "### 12. Final evaluation on the Test set\n",
    "After finishing all the training and testing on the validation data, we trained the model one last time on all the training data. Then, we tested it on a completely new set of data that the model had never seen before (the Test set). This final evaluation checks how well the model performs on totally new data, making sure it’s ready for real life."
   ]
  },
  {
   "cell_type": "markdown",
   "id": "hq6FD1Jfs-FV",
   "metadata": {
    "id": "hq6FD1Jfs-FV"
   },
   "source": [
    "##  **1. Import necessary libraries and functions.**"
   ]
  },
  {
   "cell_type": "code",
   "execution_count": 95,
   "id": "489bea0a-6e72-4a64-b0f1-d3ae21c12753",
   "metadata": {
    "id": "489bea0a-6e72-4a64-b0f1-d3ae21c12753"
   },
   "outputs": [],
   "source": [
    "!pip install -qqq keras-tuner"
   ]
  },
  {
   "cell_type": "code",
   "execution_count": 97,
   "id": "03bd4a29",
   "metadata": {
    "id": "03bd4a29"
   },
   "outputs": [],
   "source": [
    "import os\n",
    "import numpy as np\n",
    "from PIL import Image\n",
    "import datetime\n",
    "import matplotlib.pyplot as plt\n",
    "from tensorflow.keras.models import Model\n",
    "from tensorflow.keras.layers import Input, Dense, Dropout, Conv2D, MaxPooling2D, Flatten, BatchNormalization\n",
    "from tensorflow.keras.regularizers import l2\n",
    "from tensorflow.keras.regularizers import l2\n",
    "from tensorflow.keras.utils import to_categorical\n",
    "from tensorflow.keras.callbacks import EarlyStopping, TensorBoard, LearningRateScheduler\n",
    "from tensorflow.keras.preprocessing.image import ImageDataGenerator\n",
    "from sklearn.model_selection import KFold\n",
    "from tensorflow.keras.regularizers import l2\n",
    "from tensorflow.keras.utils import to_categorical\n",
    "import keras_tuner as kt\n",
    "import warnings\n",
    "warnings.filterwarnings('ignore')"
   ]
  },
  {
   "cell_type": "markdown",
   "id": "OG5oD6wBEj5W",
   "metadata": {
    "id": "OG5oD6wBEj5W"
   },
   "source": [
    "## **2. Load the Dataset**"
   ]
  },
  {
   "cell_type": "code",
   "execution_count": 7,
   "id": "9bea96b9-534d-4e66-a95f-90471818e8db",
   "metadata": {},
   "outputs": [],
   "source": [
    "def load_images_from_folder(folder, img_size=(28, 28)):\n",
    "    images = []\n",
    "    labels = []\n",
    "    for subdir in os.listdir(folder):\n",
    "        subdir_path = os.path.join(folder, subdir)\n",
    "        if os.path.isdir(subdir_path):\n",
    "            label = [int(digit) for digit in subdir]  # the subdir name is the label\n",
    "            for filename in os.listdir(subdir_path):\n",
    "                img_path = os.path.join(subdir_path, filename)\n",
    "                try:\n",
    "                    img = Image.open(img_path).convert('L')\n",
    "                    img = img.resize(img_size)\n",
    "                    img = np.array(img)\n",
    "                    img = np.expand_dims(img, axis=-1)  # Add channel dimension\n",
    "                    images.append(img)\n",
    "                    labels.append(label)\n",
    "                except Exception as e:\n",
    "                    print(f\"Failed to process image {img_path}: {e}\")\n",
    "    return np.array(images), np.array(labels)\n"
   ]
  },
  {
   "cell_type": "code",
   "execution_count": 9,
   "id": "kBL7kk33ww9S",
   "metadata": {
    "id": "kBL7kk33ww9S"
   },
   "outputs": [
    {
     "name": "stdout",
     "output_type": "stream",
     "text": [
      "Train directory contains: ['000', '004', '005', '006', '007', '009', '011', '013', '015', '018', '020', '021', '022', '023', '024', '026', '027', '028', '030', '031', '032', '033', '034', '035', '036', '037', '038', '040', '041', '042', '043', '045', '048', '049', '050', '052', '054', '055', '057', '059', '061', '062', '063', '064', '066', '070', '071', '072', '074', '075', '078', '079', '080', '082', '084', '085', '089', '090', '091', '093', '094', '095', '097', '100', '101', '102', '103', '104', '105', '107', '110', '114', '115', '116', '117', '118', '119', '120', '121', '122', '124', '125', '127', '128', '131', '132', '134', '138', '142', '145', '147', '148', '150', '151', '153', '155', '156', '157', '159', '160', '161', '162', '163', '164', '165', '166', '167', '169', '170', '171', '172', '174', '175', '177', '178', '179', '181', '182', '183', '184', '185', '188', '189', '190', '191', '192', '195', '196', '199', '200', '201', '202', '203', '204', '205', '209', '210', '211', '212', '216', '217', '219', '221', '223', '226', '227', '228', '229', '230', '231', '232', '233', '234', '235', '236', '237', '239', '240', '241', '242', '243', '245', '246', '248', '249', '250', '252', '254', '256', '258', '260', '261', '263', '264', '266', '267', '268', '269', '270', '272', '273', '274', '275', '276', '277', '278', '279', '280', '282', '283', '284', '285', '287', '288', '289', '291', '292', '294', '295', '297', '298', '299', '300', '302', '303', '306', '307', '308', '309', '310', '311', '313', '314', '316', '317', '318', '320', '326', '327', '328', '329', '331', '332', '333', '335', '336', '338', '343', '344', '345', '346', '347', '348', '349', '351', '352', '353', '356', '362', '363', '366', '367', '368', '369', '370', '372', '373', '374', '375', '376', '378', '379', '381', '384', '386', '387', '388', '389', '391', '392', '395', '396', '397', '398', '399', '402', '403', '404', '406', '408', '414', '415', '416', '417', '421', '425', '426', '427', '429', '430', '431', '435', '437', '443', '444', '445', '446', '447', '448', '449', '450', '452', '453', '455', '456', '457', '458', '461', '462', '463', '468', '469', '470', '474', '476', '478', '479', '482', '483', '485', '487', '491', '492', '498', '499', '500', '505', '508', '509', '511', '512', '514', '517', '518', '520', '521', '522', '523', '524', '525', '526', '527', '528', '529', '531', '532', '533', '534', '536', '538', '541', '542', '543', '545', '546', '547', '548', '549', '551', '553', '554', '556', '558', '560', '561', '563', '564', '565', '566', '567', '568', '571', '577', '578', '580', '581', '584', '585', '586', '587', '590', '591', '594', '597', '598', '599', '600', '603', '605', '606', '607', '610', '613', '614', '616', '617', '618', '619', '620', '621', '623', '624', '625', '626', '632', '633', '637', '640', '641', '642', '643', '644', '646', '648', '650', '652', '653', '654', '655', '656', '657', '659', '660', '662', '663', '664', '666', '667', '668', '669', '670', '671', '672', '674', '675', '676', '677', '678', '682', '683', '684', '685', '687', '688', '689', '690', '691', '692', '693', '694', '696', '698', '699', '700', '701', '702', '704', '705', '706', '708', '709', '710', '711', '712', '713', '714', '716', '719', '721', '722', '723', '724', '725', '727', '728', '729', '730', '732', '733', '734', '735', '736', '738', '739', '743', '744', '747', '748', '749', '751', '752', '753', '754', '756', '757', '758', '760', '761', '764', '767', '769', '770', '771', '773', '774', '776', '777', '778', '783', '784', '785', '786', '787', '788', '791', '792', '793', '795', '797', '798', '799', '800', '801', '802', '803', '804', '805', '807', '808', '809', '810', '811', '813', '814', '818', '820', '821', '822', '825', '827', '828', '830', '831', '832', '833', '834', '835', '838', '839', '840', '844', '845', '848', '849', '850', '853', '854', '856', '857', '858', '859', '861', '863', '864', '868', '869', '870', '871', '872', '874', '875', '876', '877', '881', '882', '883', '887', '891', '892', '893', '894', '896', '897', '898', '901', '902', '903', '905', '908', '909', '913', '914', '916', '917', '918', '920', '921', '922', '923', '924', '925', '927', '928', '930', '931', '932', '933', '934', '935', '936', '937', '938', '939', '941', '943', '946', '947', '948', '949', '950', '952', '953', '958', '959', '960', '965', '966', '967', '968', '969', '970', '971', '972', '973', '974', '977', '978', '979', '982', '983', '984', '985', '986', '987', '989', '991', '993', '994', '995', '997']\n",
      "Validation directory contains: ['001', '010', '012', '019', '025', '029', '044', '053', '069', '081', '083', '092', '108', '112', '126', '130', '133', '136', '137', '143', '144', '149', '152', '168', '173', '187', '194', '197', '207', '215', '218', '220', '225', '238', '247', '251', '281', '286', '293', '312', '324', '325', '330', '334', '337', '341', '350', '355', '361', '383', '393', '400', '405', '407', '410', '413', '422', '423', '432', '436', '439', '441', '442', '454', '459', '464', '466', '475', '477', '488', '494', '495', '501', '502', '503', '506', '507', '516', '519', '535', '540', '550', '557', '562', '570', '572', '573', '574', '579', '583', '589', '592', '593', '601', '602', '604', '609', '611', '612', '622', '627', '629', '634', '636', '639', '649', '651', '658', '673', '679', '686', '697', '703', '707', '715', '718', '726', '731', '740', '741', '746', '750', '772', '775', '779', '789', '794', '796', '816', '829', '841', '847', '851', '852', '855', '879', '880', '886', '888', '889', '890', '900', '904', '906', '910', '911', '912', '915', '926', '940', '944', '955', '961', '962', '963', '975', '980', '981', '992', '999']\n",
      "Test directory contains: ['002', '003', '008', '014', '016', '017', '039', '046', '047', '051', '056', '058', '060', '065', '067', '068', '073', '076', '077', '086', '087', '088', '096', '098', '099', '106', '109', '111', '113', '123', '129', '135', '139', '140', '141', '146', '154', '158', '176', '180', '186', '193', '198', '206', '208', '213', '214', '222', '224', '244', '253', '255', '257', '259', '262', '265', '271', '290', '296', '301', '304', '305', '315', '319', '321', '322', '323', '339', '340', '342', '354', '357', '358', '359', '360', '364', '365', '371', '377', '380', '382', '385', '390', '394', '401', '409', '411', '412', '418', '419', '420', '424', '428', '433', '434', '438', '440', '451', '460', '465', '467', '471', '472', '473', '480', '481', '484', '486', '489', '490', '493', '496', '497', '504', '510', '513', '515', '530', '537', '539', '544', '552', '555', '559', '569', '575', '576', '582', '588', '595', '596', '608', '615', '628', '630', '631', '635', '638', '645', '647', '661', '665', '680', '681', '695', '717', '720', '737', '742', '745', '755', '759', '762', '763', '765', '766', '768', '780', '781', '782', '790', '806', '812', '815', '817', '819', '823', '824', '826', '836', '837', '842', '843', '846', '860', '862', '865', '866', '867', '873', '878', '884', '885', '895', '899', '907', '919', '929', '942', '945', '951', '954', '956', '957', '964', '976', '988', '990', '996', '998']\n"
     ]
    }
   ],
   "source": [
    "# Define the directories\n",
    "train_dir = r'D:\\EDU\\HULL_MSc_202370140\\2.771948_MachineLearning_DeepLearning\\Assignment\\triple_mnist\\train'\n",
    "test_dir = r'D:\\EDU\\HULL_MSc_202370140\\2.771948_MachineLearning_DeepLearning\\Assignment\\triple_mnist\\test'\n",
    "val_dir = r'D:\\EDU\\HULL_MSc_202370140\\2.771948_MachineLearning_DeepLearning\\Assignment\\triple_mnist\\val'\n",
    "\n",
    "print(\"Train directory contains:\", os.listdir(train_dir))\n",
    "print(\"Validation directory contains:\", os.listdir(val_dir))\n",
    "print(\"Test directory contains:\", os.listdir(test_dir))"
   ]
  },
  {
   "cell_type": "code",
   "execution_count": 11,
   "id": "5298cb62-0645-43cb-b634-d477a5c8e5eb",
   "metadata": {},
   "outputs": [],
   "source": [
    "# Load the datasets\n",
    "X_train, y_train = load_images_from_folder(train_dir, img_size=(28, 28))\n",
    "X_val, y_val = load_images_from_folder(val_dir, img_size=(28, 28))\n",
    "X_test, y_test = load_images_from_folder(test_dir, img_size=(28, 28))"
   ]
  },
  {
   "cell_type": "code",
   "execution_count": 17,
   "id": "f0329450-1f3e-455b-8446-e1afe4e065d0",
   "metadata": {},
   "outputs": [
    {
     "data": {
      "text/plain": [
       "(64000, 28, 28, 1)"
      ]
     },
     "execution_count": 17,
     "metadata": {},
     "output_type": "execute_result"
    }
   ],
   "source": [
    "X_train.shape"
   ]
  },
  {
   "cell_type": "code",
   "execution_count": 19,
   "id": "23ab3800-c67b-463a-b745-04aaa7e47cb5",
   "metadata": {},
   "outputs": [
    {
     "data": {
      "text/plain": [
       "dtype('uint8')"
      ]
     },
     "execution_count": 19,
     "metadata": {},
     "output_type": "execute_result"
    }
   ],
   "source": [
    "X_train.dtype"
   ]
  },
  {
   "cell_type": "code",
   "execution_count": 21,
   "id": "baa5a47b-b7a7-4c33-953a-8ce83dc107f2",
   "metadata": {},
   "outputs": [
    {
     "data": {
      "text/plain": [
       "0"
      ]
     },
     "execution_count": 21,
     "metadata": {},
     "output_type": "execute_result"
    }
   ],
   "source": [
    "X_train.min()"
   ]
  },
  {
   "cell_type": "code",
   "execution_count": 23,
   "id": "d7a95331-c65a-4a08-967e-a857b770d9e6",
   "metadata": {},
   "outputs": [
    {
     "data": {
      "text/plain": [
       "255"
      ]
     },
     "execution_count": 23,
     "metadata": {},
     "output_type": "execute_result"
    }
   ],
   "source": [
    "X_train.max()"
   ]
  },
  {
   "cell_type": "code",
   "execution_count": 25,
   "id": "88a327b3-f38f-4e63-b963-548e2acf74c9",
   "metadata": {},
   "outputs": [],
   "source": [
    "#X_train[0]"
   ]
  },
  {
   "cell_type": "code",
   "execution_count": 27,
   "id": "aefd15f4-8701-48e1-84d1-0efb69884ea4",
   "metadata": {},
   "outputs": [
    {
     "data": {
      "text/plain": [
       "<matplotlib.image.AxesImage at 0x24db325e370>"
      ]
     },
     "execution_count": 27,
     "metadata": {},
     "output_type": "execute_result"
    },
    {
     "data": {
      "image/png": "[encoded data removed]",
      "text/plain": [
       "<Figure size 640x480 with 1 Axes>"
      ]
     },
     "metadata": {},
     "output_type": "display_data"
    }
   ],
   "source": [
    "image = X_train[0]\n",
    "plt.imshow(image, cmap = 'gray')"
   ]
  },
  {
   "cell_type": "markdown",
   "id": "44dd6857-cb92-4c7c-9348-0e0cda0793d7",
   "metadata": {},
   "source": [
    "we can now see that this is a 28x28 pixel image of a 000. The answer is in the y_train data, which contains correct labels for the data"
   ]
  },
  {
   "cell_type": "code",
   "execution_count": 30,
   "id": "a925a3bd-10c0-4401-96e7-c38450138026",
   "metadata": {},
   "outputs": [
    {
     "data": {
      "text/plain": [
       "array([0, 0, 0])"
      ]
     },
     "execution_count": 30,
     "metadata": {},
     "output_type": "execute_result"
    }
   ],
   "source": [
    "y_train[0]"
   ]
  },
  {
   "cell_type": "code",
   "execution_count": 32,
   "id": "f0bf9f4b-bb38-4f3d-8bc9-9c1eaf328db8",
   "metadata": {},
   "outputs": [
    {
     "data": {
      "text/plain": [
       "(20000, 28, 28, 1)"
      ]
     },
     "execution_count": 32,
     "metadata": {},
     "output_type": "execute_result"
    }
   ],
   "source": [
    "X_test.shape"
   ]
  },
  {
   "cell_type": "code",
   "execution_count": 34,
   "id": "aff0a52c-1248-4b67-baf4-94266f286920",
   "metadata": {},
   "outputs": [
    {
     "data": {
      "text/plain": [
       "(16000, 28, 28, 1)"
      ]
     },
     "execution_count": 34,
     "metadata": {},
     "output_type": "execute_result"
    }
   ],
   "source": [
    "X_val.shape"
   ]
  },
  {
   "cell_type": "code",
   "execution_count": 36,
   "id": "10d269ee-9baa-4f96-9b85-04f7564f2adb",
   "metadata": {},
   "outputs": [
    {
     "name": "stdout",
     "output_type": "stream",
     "text": [
      "X_train shape: (64000, 28, 28, 1)\n",
      "y_train[0] shape: (3,)\n",
      "y_train[1] shape: (3,)\n",
      "y_train[2] shape: (3,)\n",
      "X_val shape: (16000, 28, 28, 1)\n",
      "y_val[0] shape: (3,)\n",
      "y_val[1] shape: (3,)\n",
      "y_val[2] shape: (3,)\n",
      "X_test shape: (20000, 28, 28, 1)\n",
      "y_test[0] shape: (3,)\n",
      "y_test[1] shape: (3,)\n",
      "y_test[2] shape: (3,)\n"
     ]
    }
   ],
   "source": [
    "# Print shapes to verify\n",
    "print(f\"X_train shape: {X_train.shape}\")\n",
    "for i in range(3):\n",
    "    print(f\"y_train[{i}] shape: {y_train[i].shape}\")\n",
    "print(f\"X_val shape: {X_val.shape}\")\n",
    "for i in range(3):\n",
    "    print(f\"y_val[{i}] shape: {y_val[i].shape}\")\n",
    "print(f\"X_test shape: {X_test.shape}\")\n",
    "for i in range(3):\n",
    "    print(f\"y_test[{i}] shape: {y_test[i].shape}\")"
   ]
  },
  {
   "cell_type": "markdown",
   "id": "fd421a81-f9ff-4abe-b35f-07064f5bd8f4",
   "metadata": {},
   "source": [
    "## **3. Preprocess the Dataset**"
   ]
  },
  {
   "cell_type": "code",
   "execution_count": 39,
   "id": "f0244a08-6117-42c0-a957-24ddba24f605",
   "metadata": {},
   "outputs": [],
   "source": [
    "#X_train[0]"
   ]
  },
  {
   "cell_type": "code",
   "execution_count": 41,
   "id": "be4fe0ca-3549-43c2-adfc-5979e7276fd6",
   "metadata": {},
   "outputs": [],
   "source": [
    "# Normalize pixel values to scale the pixel values to the range [0, 1].\n",
    "\n",
    "X_train = X_train.astype('float32') / 255.0\n",
    "X_val = X_val.astype('float32') / 255.0\n",
    "X_test = X_test.astype('float32') / 255.0"
   ]
  },
  {
   "cell_type": "code",
   "execution_count": 42,
   "id": "fed15b01-96b9-482b-8663-792c50a24421",
   "metadata": {},
   "outputs": [],
   "source": [
    "# Ensure the images have the correct shape for CNN input\n",
    "X_train = X_train.reshape(-1, 28, 28, 1)\n",
    "X_val = X_val.reshape(-1, 28, 28, 1)\n",
    "X_test = X_test.reshape(-1, 28, 28, 1)"
   ]
  },
  {
   "cell_type": "code",
   "execution_count": 45,
   "id": "f5c5a153-922b-4772-ba68-e2a5b1335fe6",
   "metadata": {},
   "outputs": [
    {
     "data": {
      "text/plain": [
       "(64000, 28, 28, 1)"
      ]
     },
     "execution_count": 45,
     "metadata": {},
     "output_type": "execute_result"
    }
   ],
   "source": [
    "X_train.shape"
   ]
  },
  {
   "cell_type": "markdown",
   "id": "683ba897-c46f-4956-a141-97b5697cb527",
   "metadata": {},
   "source": [
    "We can now see that the values are all floating between 0.0 and 1.0 after Normalized"
   ]
  },
  {
   "cell_type": "code",
   "execution_count": 48,
   "id": "b140fd11-d260-47b3-9650-96a844f01a4a",
   "metadata": {},
   "outputs": [
    {
     "data": {
      "text/plain": [
       "dtype('float32')"
      ]
     },
     "execution_count": 48,
     "metadata": {},
     "output_type": "execute_result"
    }
   ],
   "source": [
    "X_train.dtype"
   ]
  },
  {
   "cell_type": "code",
   "execution_count": 49,
   "id": "c4dc6d64-0af4-44d3-9473-c20c88a3e8dc",
   "metadata": {},
   "outputs": [
    {
     "data": {
      "text/plain": [
       "0.0"
      ]
     },
     "execution_count": 49,
     "metadata": {},
     "output_type": "execute_result"
    }
   ],
   "source": [
    "X_train.min()"
   ]
  },
  {
   "cell_type": "code",
   "execution_count": 52,
   "id": "266a2e1c-058e-4226-a282-62f1eaab700a",
   "metadata": {},
   "outputs": [
    {
     "data": {
      "text/plain": [
       "1.0"
      ]
     },
     "execution_count": 52,
     "metadata": {},
     "output_type": "execute_result"
    }
   ],
   "source": [
    "X_train.max()"
   ]
  },
  {
   "cell_type": "code",
   "execution_count": 53,
   "id": "a92d4817-d4c9-4af8-9618-623e580d35ad",
   "metadata": {},
   "outputs": [],
   "source": [
    "# Number of categories for each digit position\n",
    "num_categories = 10"
   ]
  },
  {
   "cell_type": "code",
   "execution_count": 56,
   "id": "55c2628d-0e9d-42f2-b0e7-6a045ed711f1",
   "metadata": {},
   "outputs": [],
   "source": [
    "# Convert labels to categorical (one-hot encoding)\n",
    "y_train = [to_categorical([label[i] for label in y_train], num_categories) for i in range(3)]\n",
    "y_val = [to_categorical([label[i] for label in y_val], num_categories) for i in range(3)]\n",
    "y_test = [to_categorical([label[i] for label in y_test], num_categories) for i in range(3)]"
   ]
  },
  {
   "cell_type": "code",
   "execution_count": 57,
   "id": "d62cb007-1c76-4f78-978e-d72c3c22b3a0",
   "metadata": {},
   "outputs": [],
   "source": [
    "# Flatten the label lists to dictionaries\n",
    "y_train_dict = {f'digit_{i}': y_train[i] for i in range(3)}\n",
    "y_val_dict = {f'digit_{i}': y_val[i] for i in range(3)}\n",
    "y_test_dict = {f'digit_{i}': y_test[i] for i in range(3)}"
   ]
  },
  {
   "cell_type": "code",
   "execution_count": 60,
   "id": "1776ad9b-48fe-4519-8c3d-349ee83a904e",
   "metadata": {},
   "outputs": [
    {
     "data": {
      "text/plain": [
       "[array([[1., 0., 0., ..., 0., 0., 0.],\n",
       "        [1., 0., 0., ..., 0., 0., 0.],\n",
       "        [1., 0., 0., ..., 0., 0., 0.],\n",
       "        ...,\n",
       "        [0., 0., 0., ..., 0., 0., 1.],\n",
       "        [0., 0., 0., ..., 0., 0., 1.],\n",
       "        [0., 0., 0., ..., 0., 0., 1.]], dtype=float32),\n",
       " array([[1., 0., 0., ..., 0., 0., 0.],\n",
       "        [1., 0., 0., ..., 0., 0., 0.],\n",
       "        [1., 0., 0., ..., 0., 0., 0.],\n",
       "        ...,\n",
       "        [0., 0., 0., ..., 0., 0., 1.],\n",
       "        [0., 0., 0., ..., 0., 0., 1.],\n",
       "        [0., 0., 0., ..., 0., 0., 1.]], dtype=float32),\n",
       " array([[1., 0., 0., ..., 0., 0., 0.],\n",
       "        [1., 0., 0., ..., 0., 0., 0.],\n",
       "        [1., 0., 0., ..., 0., 0., 0.],\n",
       "        ...,\n",
       "        [0., 0., 0., ..., 1., 0., 0.],\n",
       "        [0., 0., 0., ..., 1., 0., 0.],\n",
       "        [0., 0., 0., ..., 1., 0., 0.]], dtype=float32)]"
      ]
     },
     "execution_count": 60,
     "metadata": {},
     "output_type": "execute_result"
    }
   ],
   "source": [
    "y_train"
   ]
  },
  {
   "cell_type": "code",
   "execution_count": 62,
   "id": "e1c0feb4-f017-4acc-b15e-1e9b7f4925ba",
   "metadata": {},
   "outputs": [
    {
     "name": "stdout",
     "output_type": "stream",
     "text": [
      "X_train shape: (64000, 28, 28, 1)\n",
      "y_train[0] shape: (64000, 10)\n",
      "y_train[1] shape: (64000, 10)\n",
      "y_train[2] shape: (64000, 10)\n",
      "X_val shape: (16000, 28, 28, 1)\n",
      "y_val[0] shape: (16000, 10)\n",
      "y_val[1] shape: (16000, 10)\n",
      "y_val[2] shape: (16000, 10)\n",
      "X_test shape: (20000, 28, 28, 1)\n",
      "y_test[0] shape: (20000, 10)\n",
      "y_test[1] shape: (20000, 10)\n",
      "y_test[2] shape: (20000, 10)\n"
     ]
    }
   ],
   "source": [
    "# Print shapes to verify\n",
    "print(f\"X_train shape: {X_train.shape}\")\n",
    "for i in range(3):\n",
    "    print(f\"y_train[{i}] shape: {y_train[i].shape}\")\n",
    "print(f\"X_val shape: {X_val.shape}\")\n",
    "for i in range(3):\n",
    "    print(f\"y_val[{i}] shape: {y_val[i].shape}\")\n",
    "print(f\"X_test shape: {X_test.shape}\")\n",
    "for i in range(3):\n",
    "    print(f\"y_test[{i}] shape: {y_test[i].shape}\")"
   ]
  },
  {
   "cell_type": "code",
   "execution_count": 64,
   "id": "d82a4fe9-85c9-4b88-9105-ca9417a443de",
   "metadata": {},
   "outputs": [
    {
     "data": {
      "text/plain": [
       "[array([[1., 0., 0., ..., 0., 0., 0.],\n",
       "        [1., 0., 0., ..., 0., 0., 0.],\n",
       "        [1., 0., 0., ..., 0., 0., 0.],\n",
       "        ...,\n",
       "        [0., 0., 0., ..., 0., 0., 1.],\n",
       "        [0., 0., 0., ..., 0., 0., 1.],\n",
       "        [0., 0., 0., ..., 0., 0., 1.]], dtype=float32),\n",
       " array([[1., 0., 0., ..., 0., 0., 0.],\n",
       "        [1., 0., 0., ..., 0., 0., 0.],\n",
       "        [1., 0., 0., ..., 0., 0., 0.],\n",
       "        ...,\n",
       "        [0., 0., 0., ..., 0., 0., 1.],\n",
       "        [0., 0., 0., ..., 0., 0., 1.],\n",
       "        [0., 0., 0., ..., 0., 0., 1.]], dtype=float32),\n",
       " array([[1., 0., 0., ..., 0., 0., 0.],\n",
       "        [1., 0., 0., ..., 0., 0., 0.],\n",
       "        [1., 0., 0., ..., 0., 0., 0.],\n",
       "        ...,\n",
       "        [0., 0., 0., ..., 1., 0., 0.],\n",
       "        [0., 0., 0., ..., 1., 0., 0.],\n",
       "        [0., 0., 0., ..., 1., 0., 0.]], dtype=float32)]"
      ]
     },
     "execution_count": 64,
     "metadata": {},
     "output_type": "execute_result"
    }
   ],
   "source": [
    "y_train[0:9]"
   ]
  },
  {
   "cell_type": "code",
   "execution_count": 66,
   "id": "044ab5ed-9789-408e-89c3-64105ef15ffc",
   "metadata": {},
   "outputs": [
    {
     "data": {
      "text/plain": [
       "{'digit_0': array([[1., 0., 0., ..., 0., 0., 0.],\n",
       "        [1., 0., 0., ..., 0., 0., 0.],\n",
       "        [1., 0., 0., ..., 0., 0., 0.],\n",
       "        ...,\n",
       "        [0., 0., 0., ..., 0., 0., 1.],\n",
       "        [0., 0., 0., ..., 0., 0., 1.],\n",
       "        [0., 0., 0., ..., 0., 0., 1.]], dtype=float32),\n",
       " 'digit_1': array([[1., 0., 0., ..., 0., 0., 0.],\n",
       "        [1., 0., 0., ..., 0., 0., 0.],\n",
       "        [1., 0., 0., ..., 0., 0., 0.],\n",
       "        ...,\n",
       "        [0., 0., 0., ..., 0., 0., 1.],\n",
       "        [0., 0., 0., ..., 0., 0., 1.],\n",
       "        [0., 0., 0., ..., 0., 0., 1.]], dtype=float32),\n",
       " 'digit_2': array([[1., 0., 0., ..., 0., 0., 0.],\n",
       "        [1., 0., 0., ..., 0., 0., 0.],\n",
       "        [1., 0., 0., ..., 0., 0., 0.],\n",
       "        ...,\n",
       "        [0., 0., 0., ..., 1., 0., 0.],\n",
       "        [0., 0., 0., ..., 1., 0., 0.],\n",
       "        [0., 0., 0., ..., 1., 0., 0.]], dtype=float32)}"
      ]
     },
     "execution_count": 66,
     "metadata": {},
     "output_type": "execute_result"
    }
   ],
   "source": [
    "y_train_dict"
   ]
  },
  {
   "cell_type": "code",
   "execution_count": 68,
   "id": "b8b5cf21-1ee5-4613-86dd-9ddb47676037",
   "metadata": {},
   "outputs": [
    {
     "data": {
      "text/plain": [
       "{'digit_0': array([[1., 0., 0., ..., 0., 0., 0.],\n",
       "        [1., 0., 0., ..., 0., 0., 0.],\n",
       "        [1., 0., 0., ..., 0., 0., 0.],\n",
       "        ...,\n",
       "        [0., 0., 0., ..., 0., 0., 1.],\n",
       "        [0., 0., 0., ..., 0., 0., 1.],\n",
       "        [0., 0., 0., ..., 0., 0., 1.]], dtype=float32),\n",
       " 'digit_1': array([[1., 0., 0., ..., 0., 0., 0.],\n",
       "        [1., 0., 0., ..., 0., 0., 0.],\n",
       "        [1., 0., 0., ..., 0., 0., 0.],\n",
       "        ...,\n",
       "        [0., 0., 0., ..., 0., 0., 1.],\n",
       "        [0., 0., 0., ..., 0., 0., 1.],\n",
       "        [0., 0., 0., ..., 0., 0., 1.]], dtype=float32),\n",
       " 'digit_2': array([[0., 1., 0., ..., 0., 0., 0.],\n",
       "        [0., 1., 0., ..., 0., 0., 0.],\n",
       "        [0., 1., 0., ..., 0., 0., 0.],\n",
       "        ...,\n",
       "        [0., 0., 0., ..., 0., 0., 1.],\n",
       "        [0., 0., 0., ..., 0., 0., 1.],\n",
       "        [0., 0., 0., ..., 0., 0., 1.]], dtype=float32)}"
      ]
     },
     "execution_count": 68,
     "metadata": {},
     "output_type": "execute_result"
    }
   ],
   "source": [
    "y_val_dict"
   ]
  },
  {
   "cell_type": "code",
   "execution_count": 70,
   "id": "029b8ada-e620-4f81-a48a-3f048aef35a6",
   "metadata": {},
   "outputs": [],
   "source": [
    "# Custom Data Generator\n",
    "\n",
    "def custom_data_generator(X, y, batch_size):\n",
    "    while True:\n",
    "        idx = np.random.permutation(len(X))\n",
    "        X = X[idx]\n",
    "        y = {key: y[key][idx] for key in y}\n",
    "        for i in range(0, len(X), batch_size):\n",
    "            X_batch = X[i:i + batch_size]\n",
    "            y_batch = {key: y[key][i:i + batch_size] for key in y}\n",
    "            yield X_batch, y_batch"
   ]
  },
  {
   "cell_type": "markdown",
   "id": "cc820a0d-883c-42d5-975d-cf77c8661285",
   "metadata": {},
   "source": [
    "## **4. Define Learning Rate and K-Fold Cross Validation**"
   ]
  },
  {
   "cell_type": "code",
   "execution_count": 73,
   "id": "ddbafc77-5d03-4190-b95f-dc2383c128f7",
   "metadata": {},
   "outputs": [],
   "source": [
    "#Set up learning rate scheduler to adjust the learning rate during training.\n",
    "\n",
    "def lr_schedule(epoch):\n",
    "    lr = 1e-3\n",
    "    if epoch > 10:\n",
    "        lr *= 0.1\n",
    "    elif epoch > 20:\n",
    "        lr *= 0.01\n",
    "    return lr"
   ]
  },
  {
   "cell_type": "code",
   "execution_count": 75,
   "id": "f9284fc8-e49c-4d7d-ba18-c9e99500745f",
   "metadata": {},
   "outputs": [],
   "source": [
    "log_dir = \"logs/fit/\" + datetime.datetime.now().strftime(\"%Y%m%d-%H%M%S\")\n",
    "tensorboard_callback = TensorBoard(log_dir=log_dir, histogram_freq=1)\n",
    "\n",
    "lr_scheduler = LearningRateScheduler(lr_schedule)"
   ]
  },
  {
   "cell_type": "code",
   "execution_count": 77,
   "id": "2dfa872a-c0f5-49ac-b017-775988e29408",
   "metadata": {},
   "outputs": [],
   "source": [
    "# K-Fold Cross Validation\n",
    "kf = KFold(n_splits=2, shuffle=True)"
   ]
  },
  {
   "cell_type": "markdown",
   "id": "645f611f-df80-4f2e-8851-7080a61f7693",
   "metadata": {},
   "source": [
    "k=2 to save time and resources.  With fewer folds, the training process will be faster because there are fewer iterations."
   ]
  },
  {
   "cell_type": "markdown",
   "id": "b17bc601-b72a-48ee-82ec-77837f364205",
   "metadata": {},
   "source": [
    "## **5. Set Up Callbacks for Early Stopping**\n",
    "Configure callbacks for early stopping, saving the best model, and logging training progress for visualization in TensorBoard. Implement early stopping to prevent overfitting by stopping training when the validation loss stops improving."
   ]
  },
  {
   "cell_type": "code",
   "execution_count": 81,
   "id": "220bab6a-ded0-4242-8f7a-ae36dfdaa79b",
   "metadata": {},
   "outputs": [],
   "source": [
    "# Callback for early stopping with adjusted patience.\n",
    "# If the validation loss does not improve for 20 consecutive epochs, training will stop early.\n",
    "\n",
    "early_stopping = EarlyStopping(monitor='val_loss', patience=20, restore_best_weights=True)"
   ]
  },
  {
   "cell_type": "markdown",
   "id": "652349e4-2453-4e61-a96b-d1120d0d9225",
   "metadata": {},
   "source": [
    "The early stopping callback is used/ triggered to stop training early if the validation loss does not improve for a certain number of epochs (patience). "
   ]
  },
  {
   "cell_type": "markdown",
   "id": "f818f3e7-13bf-4bf4-93c2-b25a149905fb",
   "metadata": {},
   "source": [
    "## **6. Define Function to Plot Learning Curves**\n",
    "Create a function to visualize training and validation accuracy and loss over epochs."
   ]
  },
  {
   "cell_type": "code",
   "execution_count": 85,
   "id": "9359a82d-483e-4196-8762-1f58753e2760",
   "metadata": {},
   "outputs": [],
   "source": [
    "def plot_learning_curves(history):\n",
    "    acc = [history.history[f'digit_{i}_accuracy'] for i in range(3)]\n",
    "    val_acc = [history.history[f'val_digit_{i}_accuracy'] for i in range(3)]\n",
    "    loss = history.history['loss']\n",
    "    val_loss = history.history['val_loss']\n",
    "    epochs = range(1, len(loss) + 1)\n",
    "\n",
    "    plt.figure(figsize=(14, 5))\n",
    "    plt.subplot(1, 2, 1)\n",
    "    for i in range(3):\n",
    "        plt.plot(epochs, acc[i], label=f'Training accuracy digit_{i}')\n",
    "        plt.plot(epochs, val_acc[i], label=f'Validation accuracy digit_{i}')\n",
    "    plt.title('Training and validation accuracy')\n",
    "    plt.xlabel('Epochs')\n",
    "    plt.ylabel('Accuracy')\n",
    "    plt.legend()\n",
    "\n",
    "    plt.subplot(1, 2, 2)\n",
    "    plt.plot(epochs, loss, 'bo-', label='Training loss')\n",
    "    plt.plot(epochs, val_loss, 'ro-', label='Validation loss')\n",
    "    plt.title('Training and validation loss')\n",
    "    plt.xlabel('Epochs')\n",
    "    plt.ylabel('Loss')\n",
    "    plt.legend()\n",
    "\n",
    "    plt.show()"
   ]
  },
  {
   "cell_type": "markdown",
   "id": "ffef9faa-ce68-42cf-be38-4a7fa08bebcd",
   "metadata": {},
   "source": [
    "## **7A. Define the CNN Model uses categorical_crossentropy function as the loss function.**\n",
    "Build the CNN model architecture. \r\n",
    "The last layer/ Output layer uses a sigmoid function for multi-label classificatio\n",
    "."
   ]
  },
  {
   "cell_type": "markdown",
   "id": "5c1c1c51-bb44-448e-bc0b-5d95c540da5e",
   "metadata": {},
   "source": [
    "#### For multi-label classification, the last layer in the model should uses a sigmoid function for label prediction, and the training process should uses a binary_crossentropy function as the loss function. \n",
    "#### But for comparison purpose, we will use loss='categorical_crossentropy' function as the loss function first."
   ]
  },
  {
   "cell_type": "code",
   "execution_count": 46,
   "id": "f535cb8b-8155-44cc-aed2-6c09a8485e24",
   "metadata": {},
   "outputs": [
    {
     "data": {
      "text/html": [
       "<pre style=\"white-space:pre;overflow-x:auto;line-height:normal;font-family:Menlo,'DejaVu Sans Mono',consolas,'Courier New',monospace\"><span style=\"font-weight: bold\">Model: \"functional_17\"</span>\n",
       "</pre>\n"
      ],
      "text/plain": [
       "\u001b[1mModel: \"functional_17\"\u001b[0m\n"
      ]
     },
     "metadata": {},
     "output_type": "display_data"
    },
    {
     "data": {
      "text/html": [
       "<pre style=\"white-space:pre;overflow-x:auto;line-height:normal;font-family:Menlo,'DejaVu Sans Mono',consolas,'Courier New',monospace\">┏━━━━━━━━━━━━━━━━━━━━━┳━━━━━━━━━━━━━━━━━━━┳━━━━━━━━━━━━┳━━━━━━━━━━━━━━━━━━━┓\n",
       "┃<span style=\"font-weight: bold\"> Layer (type)        </span>┃<span style=\"font-weight: bold\"> Output Shape      </span>┃<span style=\"font-weight: bold\">    Param # </span>┃<span style=\"font-weight: bold\"> Connected to      </span>┃\n",
       "┡━━━━━━━━━━━━━━━━━━━━━╇━━━━━━━━━━━━━━━━━━━╇━━━━━━━━━━━━╇━━━━━━━━━━━━━━━━━━━┩\n",
       "│ input_layer_8       │ (<span style=\"color: #00d7ff; text-decoration-color: #00d7ff\">None</span>, <span style=\"color: #00af00; text-decoration-color: #00af00\">28</span>, <span style=\"color: #00af00; text-decoration-color: #00af00\">28</span>, <span style=\"color: #00af00; text-decoration-color: #00af00\">1</span>) │          <span style=\"color: #00af00; text-decoration-color: #00af00\">0</span> │ -                 │\n",
       "│ (<span style=\"color: #0087ff; text-decoration-color: #0087ff\">InputLayer</span>)        │                   │            │                   │\n",
       "├─────────────────────┼───────────────────┼────────────┼───────────────────┤\n",
       "│ conv2d_16 (<span style=\"color: #0087ff; text-decoration-color: #0087ff\">Conv2D</span>)  │ (<span style=\"color: #00d7ff; text-decoration-color: #00d7ff\">None</span>, <span style=\"color: #00af00; text-decoration-color: #00af00\">26</span>, <span style=\"color: #00af00; text-decoration-color: #00af00\">26</span>,    │        <span style=\"color: #00af00; text-decoration-color: #00af00\">320</span> │ input_layer_8[<span style=\"color: #00af00; text-decoration-color: #00af00\">0</span>]… │\n",
       "│                     │ <span style=\"color: #00af00; text-decoration-color: #00af00\">32</span>)               │            │                   │\n",
       "├─────────────────────┼───────────────────┼────────────┼───────────────────┤\n",
       "│ max_pooling2d_16    │ (<span style=\"color: #00d7ff; text-decoration-color: #00d7ff\">None</span>, <span style=\"color: #00af00; text-decoration-color: #00af00\">13</span>, <span style=\"color: #00af00; text-decoration-color: #00af00\">13</span>,    │          <span style=\"color: #00af00; text-decoration-color: #00af00\">0</span> │ conv2d_16[<span style=\"color: #00af00; text-decoration-color: #00af00\">0</span>][<span style=\"color: #00af00; text-decoration-color: #00af00\">0</span>]   │\n",
       "│ (<span style=\"color: #0087ff; text-decoration-color: #0087ff\">MaxPooling2D</span>)      │ <span style=\"color: #00af00; text-decoration-color: #00af00\">32</span>)               │            │                   │\n",
       "├─────────────────────┼───────────────────┼────────────┼───────────────────┤\n",
       "│ dropout_24          │ (<span style=\"color: #00d7ff; text-decoration-color: #00d7ff\">None</span>, <span style=\"color: #00af00; text-decoration-color: #00af00\">13</span>, <span style=\"color: #00af00; text-decoration-color: #00af00\">13</span>,    │          <span style=\"color: #00af00; text-decoration-color: #00af00\">0</span> │ max_pooling2d_16… │\n",
       "│ (<span style=\"color: #0087ff; text-decoration-color: #0087ff\">Dropout</span>)           │ <span style=\"color: #00af00; text-decoration-color: #00af00\">32</span>)               │            │                   │\n",
       "├─────────────────────┼───────────────────┼────────────┼───────────────────┤\n",
       "│ conv2d_17 (<span style=\"color: #0087ff; text-decoration-color: #0087ff\">Conv2D</span>)  │ (<span style=\"color: #00d7ff; text-decoration-color: #00d7ff\">None</span>, <span style=\"color: #00af00; text-decoration-color: #00af00\">11</span>, <span style=\"color: #00af00; text-decoration-color: #00af00\">11</span>,    │     <span style=\"color: #00af00; text-decoration-color: #00af00\">18,496</span> │ dropout_24[<span style=\"color: #00af00; text-decoration-color: #00af00\">0</span>][<span style=\"color: #00af00; text-decoration-color: #00af00\">0</span>]  │\n",
       "│                     │ <span style=\"color: #00af00; text-decoration-color: #00af00\">64</span>)               │            │                   │\n",
       "├─────────────────────┼───────────────────┼────────────┼───────────────────┤\n",
       "│ max_pooling2d_17    │ (<span style=\"color: #00d7ff; text-decoration-color: #00d7ff\">None</span>, <span style=\"color: #00af00; text-decoration-color: #00af00\">5</span>, <span style=\"color: #00af00; text-decoration-color: #00af00\">5</span>, <span style=\"color: #00af00; text-decoration-color: #00af00\">64</span>)  │          <span style=\"color: #00af00; text-decoration-color: #00af00\">0</span> │ conv2d_17[<span style=\"color: #00af00; text-decoration-color: #00af00\">0</span>][<span style=\"color: #00af00; text-decoration-color: #00af00\">0</span>]   │\n",
       "│ (<span style=\"color: #0087ff; text-decoration-color: #0087ff\">MaxPooling2D</span>)      │                   │            │                   │\n",
       "├─────────────────────┼───────────────────┼────────────┼───────────────────┤\n",
       "│ dropout_25          │ (<span style=\"color: #00d7ff; text-decoration-color: #00d7ff\">None</span>, <span style=\"color: #00af00; text-decoration-color: #00af00\">5</span>, <span style=\"color: #00af00; text-decoration-color: #00af00\">5</span>, <span style=\"color: #00af00; text-decoration-color: #00af00\">64</span>)  │          <span style=\"color: #00af00; text-decoration-color: #00af00\">0</span> │ max_pooling2d_17… │\n",
       "│ (<span style=\"color: #0087ff; text-decoration-color: #0087ff\">Dropout</span>)           │                   │            │                   │\n",
       "├─────────────────────┼───────────────────┼────────────┼───────────────────┤\n",
       "│ flatten_8 (<span style=\"color: #0087ff; text-decoration-color: #0087ff\">Flatten</span>) │ (<span style=\"color: #00d7ff; text-decoration-color: #00d7ff\">None</span>, <span style=\"color: #00af00; text-decoration-color: #00af00\">1600</span>)      │          <span style=\"color: #00af00; text-decoration-color: #00af00\">0</span> │ dropout_25[<span style=\"color: #00af00; text-decoration-color: #00af00\">0</span>][<span style=\"color: #00af00; text-decoration-color: #00af00\">0</span>]  │\n",
       "├─────────────────────┼───────────────────┼────────────┼───────────────────┤\n",
       "│ dense_8 (<span style=\"color: #0087ff; text-decoration-color: #0087ff\">Dense</span>)     │ (<span style=\"color: #00d7ff; text-decoration-color: #00d7ff\">None</span>, <span style=\"color: #00af00; text-decoration-color: #00af00\">256</span>)       │    <span style=\"color: #00af00; text-decoration-color: #00af00\">409,856</span> │ flatten_8[<span style=\"color: #00af00; text-decoration-color: #00af00\">0</span>][<span style=\"color: #00af00; text-decoration-color: #00af00\">0</span>]   │\n",
       "├─────────────────────┼───────────────────┼────────────┼───────────────────┤\n",
       "│ dropout_26          │ (<span style=\"color: #00d7ff; text-decoration-color: #00d7ff\">None</span>, <span style=\"color: #00af00; text-decoration-color: #00af00\">256</span>)       │          <span style=\"color: #00af00; text-decoration-color: #00af00\">0</span> │ dense_8[<span style=\"color: #00af00; text-decoration-color: #00af00\">0</span>][<span style=\"color: #00af00; text-decoration-color: #00af00\">0</span>]     │\n",
       "│ (<span style=\"color: #0087ff; text-decoration-color: #0087ff\">Dropout</span>)           │                   │            │                   │\n",
       "├─────────────────────┼───────────────────┼────────────┼───────────────────┤\n",
       "│ digit_0 (<span style=\"color: #0087ff; text-decoration-color: #0087ff\">Dense</span>)     │ (<span style=\"color: #00d7ff; text-decoration-color: #00d7ff\">None</span>, <span style=\"color: #00af00; text-decoration-color: #00af00\">10</span>)        │      <span style=\"color: #00af00; text-decoration-color: #00af00\">2,570</span> │ dropout_26[<span style=\"color: #00af00; text-decoration-color: #00af00\">0</span>][<span style=\"color: #00af00; text-decoration-color: #00af00\">0</span>]  │\n",
       "├─────────────────────┼───────────────────┼────────────┼───────────────────┤\n",
       "│ digit_1 (<span style=\"color: #0087ff; text-decoration-color: #0087ff\">Dense</span>)     │ (<span style=\"color: #00d7ff; text-decoration-color: #00d7ff\">None</span>, <span style=\"color: #00af00; text-decoration-color: #00af00\">10</span>)        │      <span style=\"color: #00af00; text-decoration-color: #00af00\">2,570</span> │ dropout_26[<span style=\"color: #00af00; text-decoration-color: #00af00\">0</span>][<span style=\"color: #00af00; text-decoration-color: #00af00\">0</span>]  │\n",
       "├─────────────────────┼───────────────────┼────────────┼───────────────────┤\n",
       "│ digit_2 (<span style=\"color: #0087ff; text-decoration-color: #0087ff\">Dense</span>)     │ (<span style=\"color: #00d7ff; text-decoration-color: #00d7ff\">None</span>, <span style=\"color: #00af00; text-decoration-color: #00af00\">10</span>)        │      <span style=\"color: #00af00; text-decoration-color: #00af00\">2,570</span> │ dropout_26[<span style=\"color: #00af00; text-decoration-color: #00af00\">0</span>][<span style=\"color: #00af00; text-decoration-color: #00af00\">0</span>]  │\n",
       "└─────────────────────┴───────────────────┴────────────┴───────────────────┘\n",
       "</pre>\n"
      ],
      "text/plain": [
       "┏━━━━━━━━━━━━━━━━━━━━━┳━━━━━━━━━━━━━━━━━━━┳━━━━━━━━━━━━┳━━━━━━━━━━━━━━━━━━━┓\n",
       "┃\u001b[1m \u001b[0m\u001b[1mLayer (type)       \u001b[0m\u001b[1m \u001b[0m┃\u001b[1m \u001b[0m\u001b[1mOutput Shape     \u001b[0m\u001b[1m \u001b[0m┃\u001b[1m \u001b[0m\u001b[1m   Param #\u001b[0m\u001b[1m \u001b[0m┃\u001b[1m \u001b[0m\u001b[1mConnected to     \u001b[0m\u001b[1m \u001b[0m┃\n",
       "┡━━━━━━━━━━━━━━━━━━━━━╇━━━━━━━━━━━━━━━━━━━╇━━━━━━━━━━━━╇━━━━━━━━━━━━━━━━━━━┩\n",
       "│ input_layer_8       │ (\u001b[38;5;45mNone\u001b[0m, \u001b[38;5;34m28\u001b[0m, \u001b[38;5;34m28\u001b[0m, \u001b[38;5;34m1\u001b[0m) │          \u001b[38;5;34m0\u001b[0m │ -                 │\n",
       "│ (\u001b[38;5;33mInputLayer\u001b[0m)        │                   │            │                   │\n",
       "├─────────────────────┼───────────────────┼────────────┼───────────────────┤\n",
       "│ conv2d_16 (\u001b[38;5;33mConv2D\u001b[0m)  │ (\u001b[38;5;45mNone\u001b[0m, \u001b[38;5;34m26\u001b[0m, \u001b[38;5;34m26\u001b[0m,    │        \u001b[38;5;34m320\u001b[0m │ input_layer_8[\u001b[38;5;34m0\u001b[0m]… │\n",
       "│                     │ \u001b[38;5;34m32\u001b[0m)               │            │                   │\n",
       "├─────────────────────┼───────────────────┼────────────┼───────────────────┤\n",
       "│ max_pooling2d_16    │ (\u001b[38;5;45mNone\u001b[0m, \u001b[38;5;34m13\u001b[0m, \u001b[38;5;34m13\u001b[0m,    │          \u001b[38;5;34m0\u001b[0m │ conv2d_16[\u001b[38;5;34m0\u001b[0m][\u001b[38;5;34m0\u001b[0m]   │\n",
       "│ (\u001b[38;5;33mMaxPooling2D\u001b[0m)      │ \u001b[38;5;34m32\u001b[0m)               │            │                   │\n",
       "├─────────────────────┼───────────────────┼────────────┼───────────────────┤\n",
       "│ dropout_24          │ (\u001b[38;5;45mNone\u001b[0m, \u001b[38;5;34m13\u001b[0m, \u001b[38;5;34m13\u001b[0m,    │          \u001b[38;5;34m0\u001b[0m │ max_pooling2d_16… │\n",
       "│ (\u001b[38;5;33mDropout\u001b[0m)           │ \u001b[38;5;34m32\u001b[0m)               │            │                   │\n",
       "├─────────────────────┼───────────────────┼────────────┼───────────────────┤\n",
       "│ conv2d_17 (\u001b[38;5;33mConv2D\u001b[0m)  │ (\u001b[38;5;45mNone\u001b[0m, \u001b[38;5;34m11\u001b[0m, \u001b[38;5;34m11\u001b[0m,    │     \u001b[38;5;34m18,496\u001b[0m │ dropout_24[\u001b[38;5;34m0\u001b[0m][\u001b[38;5;34m0\u001b[0m]  │\n",
       "│                     │ \u001b[38;5;34m64\u001b[0m)               │            │                   │\n",
       "├─────────────────────┼───────────────────┼────────────┼───────────────────┤\n",
       "│ max_pooling2d_17    │ (\u001b[38;5;45mNone\u001b[0m, \u001b[38;5;34m5\u001b[0m, \u001b[38;5;34m5\u001b[0m, \u001b[38;5;34m64\u001b[0m)  │          \u001b[38;5;34m0\u001b[0m │ conv2d_17[\u001b[38;5;34m0\u001b[0m][\u001b[38;5;34m0\u001b[0m]   │\n",
       "│ (\u001b[38;5;33mMaxPooling2D\u001b[0m)      │                   │            │                   │\n",
       "├─────────────────────┼───────────────────┼────────────┼───────────────────┤\n",
       "│ dropout_25          │ (\u001b[38;5;45mNone\u001b[0m, \u001b[38;5;34m5\u001b[0m, \u001b[38;5;34m5\u001b[0m, \u001b[38;5;34m64\u001b[0m)  │          \u001b[38;5;34m0\u001b[0m │ max_pooling2d_17… │\n",
       "│ (\u001b[38;5;33mDropout\u001b[0m)           │                   │            │                   │\n",
       "├─────────────────────┼───────────────────┼────────────┼───────────────────┤\n",
       "│ flatten_8 (\u001b[38;5;33mFlatten\u001b[0m) │ (\u001b[38;5;45mNone\u001b[0m, \u001b[38;5;34m1600\u001b[0m)      │          \u001b[38;5;34m0\u001b[0m │ dropout_25[\u001b[38;5;34m0\u001b[0m][\u001b[38;5;34m0\u001b[0m]  │\n",
       "├─────────────────────┼───────────────────┼────────────┼───────────────────┤\n",
       "│ dense_8 (\u001b[38;5;33mDense\u001b[0m)     │ (\u001b[38;5;45mNone\u001b[0m, \u001b[38;5;34m256\u001b[0m)       │    \u001b[38;5;34m409,856\u001b[0m │ flatten_8[\u001b[38;5;34m0\u001b[0m][\u001b[38;5;34m0\u001b[0m]   │\n",
       "├─────────────────────┼───────────────────┼────────────┼───────────────────┤\n",
       "│ dropout_26          │ (\u001b[38;5;45mNone\u001b[0m, \u001b[38;5;34m256\u001b[0m)       │          \u001b[38;5;34m0\u001b[0m │ dense_8[\u001b[38;5;34m0\u001b[0m][\u001b[38;5;34m0\u001b[0m]     │\n",
       "│ (\u001b[38;5;33mDropout\u001b[0m)           │                   │            │                   │\n",
       "├─────────────────────┼───────────────────┼────────────┼───────────────────┤\n",
       "│ digit_0 (\u001b[38;5;33mDense\u001b[0m)     │ (\u001b[38;5;45mNone\u001b[0m, \u001b[38;5;34m10\u001b[0m)        │      \u001b[38;5;34m2,570\u001b[0m │ dropout_26[\u001b[38;5;34m0\u001b[0m][\u001b[38;5;34m0\u001b[0m]  │\n",
       "├─────────────────────┼───────────────────┼────────────┼───────────────────┤\n",
       "│ digit_1 (\u001b[38;5;33mDense\u001b[0m)     │ (\u001b[38;5;45mNone\u001b[0m, \u001b[38;5;34m10\u001b[0m)        │      \u001b[38;5;34m2,570\u001b[0m │ dropout_26[\u001b[38;5;34m0\u001b[0m][\u001b[38;5;34m0\u001b[0m]  │\n",
       "├─────────────────────┼───────────────────┼────────────┼───────────────────┤\n",
       "│ digit_2 (\u001b[38;5;33mDense\u001b[0m)     │ (\u001b[38;5;45mNone\u001b[0m, \u001b[38;5;34m10\u001b[0m)        │      \u001b[38;5;34m2,570\u001b[0m │ dropout_26[\u001b[38;5;34m0\u001b[0m][\u001b[38;5;34m0\u001b[0m]  │\n",
       "└─────────────────────┴───────────────────┴────────────┴───────────────────┘\n"
      ]
     },
     "metadata": {},
     "output_type": "display_data"
    },
    {
     "data": {
      "text/html": [
       "<pre style=\"white-space:pre;overflow-x:auto;line-height:normal;font-family:Menlo,'DejaVu Sans Mono',consolas,'Courier New',monospace\"><span style=\"font-weight: bold\"> Total params: </span><span style=\"color: #00af00; text-decoration-color: #00af00\">436,382</span> (1.66 MB)\n",
       "</pre>\n"
      ],
      "text/plain": [
       "\u001b[1m Total params: \u001b[0m\u001b[38;5;34m436,382\u001b[0m (1.66 MB)\n"
      ]
     },
     "metadata": {},
     "output_type": "display_data"
    },
    {
     "data": {
      "text/html": [
       "<pre style=\"white-space:pre;overflow-x:auto;line-height:normal;font-family:Menlo,'DejaVu Sans Mono',consolas,'Courier New',monospace\"><span style=\"font-weight: bold\"> Trainable params: </span><span style=\"color: #00af00; text-decoration-color: #00af00\">436,382</span> (1.66 MB)\n",
       "</pre>\n"
      ],
      "text/plain": [
       "\u001b[1m Trainable params: \u001b[0m\u001b[38;5;34m436,382\u001b[0m (1.66 MB)\n"
      ]
     },
     "metadata": {},
     "output_type": "display_data"
    },
    {
     "data": {
      "text/html": [
       "<pre style=\"white-space:pre;overflow-x:auto;line-height:normal;font-family:Menlo,'DejaVu Sans Mono',consolas,'Courier New',monospace\"><span style=\"font-weight: bold\"> Non-trainable params: </span><span style=\"color: #00af00; text-decoration-color: #00af00\">0</span> (0.00 B)\n",
       "</pre>\n"
      ],
      "text/plain": [
       "\u001b[1m Non-trainable params: \u001b[0m\u001b[38;5;34m0\u001b[0m (0.00 B)\n"
      ]
     },
     "metadata": {},
     "output_type": "display_data"
    }
   ],
   "source": [
    "def create_cnn_model_sgcc():\n",
    "    inputs = Input(shape=(28, 28, 1))  # Input shape for a 28x28 grayscale image\n",
    "    x = Conv2D(32, kernel_size=(3, 3), activation='relu', kernel_regularizer=l2(0.001))(inputs)\n",
    "    x = MaxPooling2D(pool_size=(2, 2))(x)\n",
    "    x = Dropout(0.25)(x)\n",
    "    x = Conv2D(64, kernel_size=(3, 3), activation='relu', kernel_regularizer=l2(0.001))(x)\n",
    "    x = MaxPooling2D(pool_size=(2, 2))(x)\n",
    "    x = Dropout(0.25)(x)\n",
    "    x = Flatten()(x)\n",
    "    x = Dense(256, activation='relu', kernel_regularizer=l2(0.001))(x)\n",
    "    x = Dropout(0.5)(x)\n",
    "    outputs = [Dense(10, activation='sigmoid', name=f'digit_{i}')(x) for i in range(3)]\n",
    "    model = Model(inputs=inputs, outputs=outputs)\n",
    "    model.compile(\n",
    "        loss='categorical_crossentropy',  # usually categorical_crossentropy is for multi-class classification, not for multi-label classification.\n",
    "        optimizer='adam',\n",
    "        metrics={f'digit_{i}': 'accuracy' for i in range(3)}\n",
    "    )\n",
    "    return model\n",
    "\n",
    "# Example usage\n",
    "model = create_cnn_model_sgcc()\n",
    "model.summary()"
   ]
  },
  {
   "cell_type": "markdown",
   "id": "33c2bbba-7541-4617-a899-19a646447407",
   "metadata": {},
   "source": [
    "## **8A. Train The Model with Sigmoid activation function and 'categorical_crossentropy' as the loss function.**"
   ]
  },
  {
   "cell_type": "code",
   "execution_count": 40,
   "id": "e0d9bbcb-d5c4-4a90-8bb7-5c50cd1b0305",
   "metadata": {},
   "outputs": [
    {
     "name": "stdout",
     "output_type": "stream",
     "text": [
      "Epoch 1/20\n",
      "\u001b[1m250/250\u001b[0m \u001b[32m━━━━━━━━━━━━━━━━━━━━\u001b[0m\u001b[37m\u001b[0m \u001b[1m33s\u001b[0m 96ms/step - digit_0_accuracy: 0.1846 - digit_1_accuracy: 0.1818 - digit_2_accuracy: 0.1658 - loss: 6.8737 - val_digit_0_accuracy: 0.6576 - val_digit_1_accuracy: 0.7312 - val_digit_2_accuracy: 0.6023 - val_loss: 3.7390 - learning_rate: 0.0010\n",
      "Epoch 2/20\n",
      "\u001b[1m250/250\u001b[0m \u001b[32m━━━━━━━━━━━━━━━━━━━━\u001b[0m\u001b[37m\u001b[0m \u001b[1m25s\u001b[0m 99ms/step - digit_0_accuracy: 0.5968 - digit_1_accuracy: 0.6299 - digit_2_accuracy: 0.5100 - loss: 3.9484 - val_digit_0_accuracy: 0.8424 - val_digit_1_accuracy: 0.8701 - val_digit_2_accuracy: 0.7859 - val_loss: 2.4118 - learning_rate: 0.0010\n",
      "Epoch 3/20\n",
      "\u001b[1m250/250\u001b[0m \u001b[32m━━━━━━━━━━━━━━━━━━━━\u001b[0m\u001b[37m\u001b[0m \u001b[1m22s\u001b[0m 88ms/step - digit_0_accuracy: 0.7218 - digit_1_accuracy: 0.7494 - digit_2_accuracy: 0.6527 - loss: 3.0825 - val_digit_0_accuracy: 0.8796 - val_digit_1_accuracy: 0.8877 - val_digit_2_accuracy: 0.8275 - val_loss: 2.0441 - learning_rate: 0.0010\n",
      "Epoch 4/20\n",
      "\u001b[1m250/250\u001b[0m \u001b[32m━━━━━━━━━━━━━━━━━━━━\u001b[0m\u001b[37m\u001b[0m \u001b[1m25s\u001b[0m 100ms/step - digit_0_accuracy: 0.7703 - digit_1_accuracy: 0.7906 - digit_2_accuracy: 0.7100 - loss: 2.7263 - val_digit_0_accuracy: 0.8996 - val_digit_1_accuracy: 0.9151 - val_digit_2_accuracy: 0.8720 - val_loss: 1.7702 - learning_rate: 0.0010\n",
      "Epoch 5/20\n",
      "\u001b[1m250/250\u001b[0m \u001b[32m━━━━━━━━━━━━━━━━━━━━\u001b[0m\u001b[37m\u001b[0m \u001b[1m24s\u001b[0m 96ms/step - digit_0_accuracy: 0.7981 - digit_1_accuracy: 0.8076 - digit_2_accuracy: 0.7368 - loss: 2.5289 - val_digit_0_accuracy: 0.9158 - val_digit_1_accuracy: 0.9239 - val_digit_2_accuracy: 0.8894 - val_loss: 1.6366 - learning_rate: 0.0010\n",
      "Epoch 6/20\n",
      "\u001b[1m250/250\u001b[0m \u001b[32m━━━━━━━━━━━━━━━━━━━━\u001b[0m\u001b[37m\u001b[0m \u001b[1m24s\u001b[0m 97ms/step - digit_0_accuracy: 0.8228 - digit_1_accuracy: 0.8322 - digit_2_accuracy: 0.7708 - loss: 2.3253 - val_digit_0_accuracy: 0.9252 - val_digit_1_accuracy: 0.9276 - val_digit_2_accuracy: 0.9046 - val_loss: 1.5131 - learning_rate: 0.0010\n",
      "Epoch 7/20\n",
      "\u001b[1m250/250\u001b[0m \u001b[32m━━━━━━━━━━━━━━━━━━━━\u001b[0m\u001b[37m\u001b[0m \u001b[1m25s\u001b[0m 101ms/step - digit_0_accuracy: 0.8279 - digit_1_accuracy: 0.8478 - digit_2_accuracy: 0.7904 - loss: 2.2034 - val_digit_0_accuracy: 0.9301 - val_digit_1_accuracy: 0.9369 - val_digit_2_accuracy: 0.9111 - val_loss: 1.4289 - learning_rate: 0.0010\n",
      "Epoch 8/20\n",
      "\u001b[1m250/250\u001b[0m \u001b[32m━━━━━━━━━━━━━━━━━━━━\u001b[0m\u001b[37m\u001b[0m \u001b[1m22s\u001b[0m 90ms/step - digit_0_accuracy: 0.8452 - digit_1_accuracy: 0.8583 - digit_2_accuracy: 0.8052 - loss: 2.0932 - val_digit_0_accuracy: 0.9322 - val_digit_1_accuracy: 0.9377 - val_digit_2_accuracy: 0.9154 - val_loss: 1.3641 - learning_rate: 0.0010\n",
      "Epoch 9/20\n",
      "\u001b[1m250/250\u001b[0m \u001b[32m━━━━━━━━━━━━━━━━━━━━\u001b[0m\u001b[37m\u001b[0m \u001b[1m24s\u001b[0m 97ms/step - digit_0_accuracy: 0.8527 - digit_1_accuracy: 0.8704 - digit_2_accuracy: 0.8158 - loss: 2.0055 - val_digit_0_accuracy: 0.9369 - val_digit_1_accuracy: 0.9411 - val_digit_2_accuracy: 0.9237 - val_loss: 1.3246 - learning_rate: 0.0010\n",
      "Epoch 10/20\n",
      "\u001b[1m250/250\u001b[0m \u001b[32m━━━━━━━━━━━━━━━━━━━━\u001b[0m\u001b[37m\u001b[0m \u001b[1m24s\u001b[0m 95ms/step - digit_0_accuracy: 0.8632 - digit_1_accuracy: 0.8744 - digit_2_accuracy: 0.8286 - loss: 1.9362 - val_digit_0_accuracy: 0.9426 - val_digit_1_accuracy: 0.9454 - val_digit_2_accuracy: 0.9295 - val_loss: 1.2621 - learning_rate: 0.0010\n",
      "Epoch 11/20\n",
      "\u001b[1m250/250\u001b[0m \u001b[32m━━━━━━━━━━━━━━━━━━━━\u001b[0m\u001b[37m\u001b[0m \u001b[1m24s\u001b[0m 94ms/step - digit_0_accuracy: 0.8688 - digit_1_accuracy: 0.8800 - digit_2_accuracy: 0.8358 - loss: 1.8801 - val_digit_0_accuracy: 0.9396 - val_digit_1_accuracy: 0.9458 - val_digit_2_accuracy: 0.9346 - val_loss: 1.2295 - learning_rate: 0.0010\n",
      "Epoch 12/20\n",
      "\u001b[1m250/250\u001b[0m \u001b[32m━━━━━━━━━━━━━━━━━━━━\u001b[0m\u001b[37m\u001b[0m \u001b[1m24s\u001b[0m 97ms/step - digit_0_accuracy: 0.8807 - digit_1_accuracy: 0.8886 - digit_2_accuracy: 0.8511 - loss: 1.7619 - val_digit_0_accuracy: 0.9469 - val_digit_1_accuracy: 0.9490 - val_digit_2_accuracy: 0.9376 - val_loss: 1.1664 - learning_rate: 1.0000e-04\n",
      "Epoch 13/20\n",
      "\u001b[1m250/250\u001b[0m \u001b[32m━━━━━━━━━━━━━━━━━━━━\u001b[0m\u001b[37m\u001b[0m \u001b[1m24s\u001b[0m 96ms/step - digit_0_accuracy: 0.8840 - digit_1_accuracy: 0.8920 - digit_2_accuracy: 0.8560 - loss: 1.7235 - val_digit_0_accuracy: 0.9477 - val_digit_1_accuracy: 0.9497 - val_digit_2_accuracy: 0.9381 - val_loss: 1.1468 - learning_rate: 1.0000e-04\n",
      "Epoch 14/20\n",
      "\u001b[1m250/250\u001b[0m \u001b[32m━━━━━━━━━━━━━━━━━━━━\u001b[0m\u001b[37m\u001b[0m \u001b[1m25s\u001b[0m 101ms/step - digit_0_accuracy: 0.8858 - digit_1_accuracy: 0.8945 - digit_2_accuracy: 0.8606 - loss: 1.6898 - val_digit_0_accuracy: 0.9481 - val_digit_1_accuracy: 0.9502 - val_digit_2_accuracy: 0.9389 - val_loss: 1.1336 - learning_rate: 1.0000e-04\n",
      "Epoch 15/20\n",
      "\u001b[1m250/250\u001b[0m \u001b[32m━━━━━━━━━━━━━━━━━━━━\u001b[0m\u001b[37m\u001b[0m \u001b[1m25s\u001b[0m 99ms/step - digit_0_accuracy: 0.8873 - digit_1_accuracy: 0.8959 - digit_2_accuracy: 0.8597 - loss: 1.6717 - val_digit_0_accuracy: 0.9486 - val_digit_1_accuracy: 0.9504 - val_digit_2_accuracy: 0.9387 - val_loss: 1.1256 - learning_rate: 1.0000e-04\n",
      "Epoch 16/20\n",
      "\u001b[1m250/250\u001b[0m \u001b[32m━━━━━━━━━━━━━━━━━━━━\u001b[0m\u001b[37m\u001b[0m \u001b[1m24s\u001b[0m 96ms/step - digit_0_accuracy: 0.8925 - digit_1_accuracy: 0.9006 - digit_2_accuracy: 0.8637 - loss: 1.6345 - val_digit_0_accuracy: 0.9488 - val_digit_1_accuracy: 0.9507 - val_digit_2_accuracy: 0.9410 - val_loss: 1.1137 - learning_rate: 1.0000e-04\n",
      "Epoch 17/20\n",
      "\u001b[1m250/250\u001b[0m \u001b[32m━━━━━━━━━━━━━━━━━━━━\u001b[0m\u001b[37m\u001b[0m \u001b[1m25s\u001b[0m 102ms/step - digit_0_accuracy: 0.8875 - digit_1_accuracy: 0.8995 - digit_2_accuracy: 0.8644 - loss: 1.6444 - val_digit_0_accuracy: 0.9488 - val_digit_1_accuracy: 0.9509 - val_digit_2_accuracy: 0.9408 - val_loss: 1.1007 - learning_rate: 1.0000e-04\n",
      "Epoch 18/20\n",
      "\u001b[1m250/250\u001b[0m \u001b[32m━━━━━━━━━━━━━━━━━━━━\u001b[0m\u001b[37m\u001b[0m \u001b[1m21s\u001b[0m 83ms/step - digit_0_accuracy: 0.8887 - digit_1_accuracy: 0.8997 - digit_2_accuracy: 0.8585 - loss: 1.6380 - val_digit_0_accuracy: 0.9495 - val_digit_1_accuracy: 0.9524 - val_digit_2_accuracy: 0.9413 - val_loss: 1.0898 - learning_rate: 1.0000e-04\n",
      "Epoch 19/20\n",
      "\u001b[1m250/250\u001b[0m \u001b[32m━━━━━━━━━━━━━━━━━━━━\u001b[0m\u001b[37m\u001b[0m \u001b[1m25s\u001b[0m 98ms/step - digit_0_accuracy: 0.8921 - digit_1_accuracy: 0.8998 - digit_2_accuracy: 0.8601 - loss: 1.6157 - val_digit_0_accuracy: 0.9487 - val_digit_1_accuracy: 0.9518 - val_digit_2_accuracy: 0.9413 - val_loss: 1.0837 - learning_rate: 1.0000e-04\n",
      "Epoch 20/20\n",
      "\u001b[1m250/250\u001b[0m \u001b[32m━━━━━━━━━━━━━━━━━━━━\u001b[0m\u001b[37m\u001b[0m \u001b[1m24s\u001b[0m 96ms/step - digit_0_accuracy: 0.8901 - digit_1_accuracy: 0.8965 - digit_2_accuracy: 0.8694 - loss: 1.6145 - val_digit_0_accuracy: 0.9500 - val_digit_1_accuracy: 0.9516 - val_digit_2_accuracy: 0.9417 - val_loss: 1.0740 - learning_rate: 1.0000e-04\n",
      "Epoch 1/20\n",
      "\u001b[1m250/250\u001b[0m \u001b[32m━━━━━━━━━━━━━━━━━━━━\u001b[0m\u001b[37m\u001b[0m \u001b[1m33s\u001b[0m 103ms/step - digit_0_accuracy: 0.1686 - digit_1_accuracy: 0.1819 - digit_2_accuracy: 0.1645 - loss: 6.8919 - val_digit_0_accuracy: 0.7033 - val_digit_1_accuracy: 0.7440 - val_digit_2_accuracy: 0.5950 - val_loss: 3.6094 - learning_rate: 0.0010\n",
      "Epoch 2/20\n",
      "\u001b[1m250/250\u001b[0m \u001b[32m━━━━━━━━━━━━━━━━━━━━\u001b[0m\u001b[37m\u001b[0m \u001b[1m23s\u001b[0m 94ms/step - digit_0_accuracy: 0.5970 - digit_1_accuracy: 0.6438 - digit_2_accuracy: 0.5223 - loss: 3.8932 - val_digit_0_accuracy: 0.8545 - val_digit_1_accuracy: 0.8784 - val_digit_2_accuracy: 0.7899 - val_loss: 2.3540 - learning_rate: 0.0010\n",
      "Epoch 3/20\n",
      "\u001b[1m250/250\u001b[0m \u001b[32m━━━━━━━━━━━━━━━━━━━━\u001b[0m\u001b[37m\u001b[0m \u001b[1m23s\u001b[0m 91ms/step - digit_0_accuracy: 0.7328 - digit_1_accuracy: 0.7561 - digit_2_accuracy: 0.6645 - loss: 3.0156 - val_digit_0_accuracy: 0.8962 - val_digit_1_accuracy: 0.9041 - val_digit_2_accuracy: 0.8474 - val_loss: 1.9430 - learning_rate: 0.0010\n",
      "Epoch 4/20\n",
      "\u001b[1m250/250\u001b[0m \u001b[32m━━━━━━━━━━━━━━━━━━━━\u001b[0m\u001b[37m\u001b[0m \u001b[1m23s\u001b[0m 91ms/step - digit_0_accuracy: 0.7783 - digit_1_accuracy: 0.7889 - digit_2_accuracy: 0.7214 - loss: 2.6767 - val_digit_0_accuracy: 0.9128 - val_digit_1_accuracy: 0.9223 - val_digit_2_accuracy: 0.8817 - val_loss: 1.7320 - learning_rate: 0.0010\n",
      "Epoch 5/20\n",
      "\u001b[1m250/250\u001b[0m \u001b[32m━━━━━━━━━━━━━━━━━━━━\u001b[0m\u001b[37m\u001b[0m \u001b[1m22s\u001b[0m 90ms/step - digit_0_accuracy: 0.8069 - digit_1_accuracy: 0.8187 - digit_2_accuracy: 0.7528 - loss: 2.4528 - val_digit_0_accuracy: 0.9237 - val_digit_1_accuracy: 0.9285 - val_digit_2_accuracy: 0.8949 - val_loss: 1.5611 - learning_rate: 0.0010\n",
      "Epoch 6/20\n",
      "\u001b[1m250/250\u001b[0m \u001b[32m━━━━━━━━━━━━━━━━━━━━\u001b[0m\u001b[37m\u001b[0m \u001b[1m25s\u001b[0m 102ms/step - digit_0_accuracy: 0.8272 - digit_1_accuracy: 0.8351 - digit_2_accuracy: 0.7821 - loss: 2.2799 - val_digit_0_accuracy: 0.9289 - val_digit_1_accuracy: 0.9339 - val_digit_2_accuracy: 0.9102 - val_loss: 1.4814 - learning_rate: 0.0010\n",
      "Epoch 7/20\n",
      "\u001b[1m250/250\u001b[0m \u001b[32m━━━━━━━━━━━━━━━━━━━━\u001b[0m\u001b[37m\u001b[0m \u001b[1m22s\u001b[0m 89ms/step - digit_0_accuracy: 0.8327 - digit_1_accuracy: 0.8530 - digit_2_accuracy: 0.8022 - loss: 2.1492 - val_digit_0_accuracy: 0.9339 - val_digit_1_accuracy: 0.9382 - val_digit_2_accuracy: 0.9173 - val_loss: 1.3904 - learning_rate: 0.0010\n",
      "Epoch 8/20\n",
      "\u001b[1m250/250\u001b[0m \u001b[32m━━━━━━━━━━━━━━━━━━━━\u001b[0m\u001b[37m\u001b[0m \u001b[1m22s\u001b[0m 90ms/step - digit_0_accuracy: 0.8465 - digit_1_accuracy: 0.8567 - digit_2_accuracy: 0.8173 - loss: 2.0489 - val_digit_0_accuracy: 0.9391 - val_digit_1_accuracy: 0.9426 - val_digit_2_accuracy: 0.9236 - val_loss: 1.3163 - learning_rate: 0.0010\n",
      "Epoch 9/20\n",
      "\u001b[1m250/250\u001b[0m \u001b[32m━━━━━━━━━━━━━━━━━━━━\u001b[0m\u001b[37m\u001b[0m \u001b[1m25s\u001b[0m 99ms/step - digit_0_accuracy: 0.8528 - digit_1_accuracy: 0.8637 - digit_2_accuracy: 0.8277 - loss: 1.9801 - val_digit_0_accuracy: 0.9462 - val_digit_1_accuracy: 0.9470 - val_digit_2_accuracy: 0.9293 - val_loss: 1.2589 - learning_rate: 0.0010\n",
      "Epoch 10/20\n",
      "\u001b[1m250/250\u001b[0m \u001b[32m━━━━━━━━━━━━━━━━━━━━\u001b[0m\u001b[37m\u001b[0m \u001b[1m25s\u001b[0m 98ms/step - digit_0_accuracy: 0.8608 - digit_1_accuracy: 0.8715 - digit_2_accuracy: 0.8382 - loss: 1.9101 - val_digit_0_accuracy: 0.9461 - val_digit_1_accuracy: 0.9482 - val_digit_2_accuracy: 0.9261 - val_loss: 1.2414 - learning_rate: 0.0010\n",
      "Epoch 11/20\n",
      "\u001b[1m250/250\u001b[0m \u001b[32m━━━━━━━━━━━━━━━━━━━━\u001b[0m\u001b[37m\u001b[0m \u001b[1m25s\u001b[0m 100ms/step - digit_0_accuracy: 0.8762 - digit_1_accuracy: 0.8748 - digit_2_accuracy: 0.8474 - loss: 1.8411 - val_digit_0_accuracy: 0.9473 - val_digit_1_accuracy: 0.9519 - val_digit_2_accuracy: 0.9377 - val_loss: 1.1865 - learning_rate: 0.0010\n",
      "Epoch 12/20\n",
      "\u001b[1m250/250\u001b[0m \u001b[32m━━━━━━━━━━━━━━━━━━━━\u001b[0m\u001b[37m\u001b[0m \u001b[1m25s\u001b[0m 99ms/step - digit_0_accuracy: 0.8833 - digit_1_accuracy: 0.8881 - digit_2_accuracy: 0.8564 - loss: 1.7576 - val_digit_0_accuracy: 0.9510 - val_digit_1_accuracy: 0.9537 - val_digit_2_accuracy: 0.9392 - val_loss: 1.1404 - learning_rate: 1.0000e-04\n",
      "Epoch 13/20\n",
      "\u001b[1m250/250\u001b[0m \u001b[32m━━━━━━━━━━━━━━━━━━━━\u001b[0m\u001b[37m\u001b[0m \u001b[1m24s\u001b[0m 97ms/step - digit_0_accuracy: 0.8842 - digit_1_accuracy: 0.8980 - digit_2_accuracy: 0.8633 - loss: 1.6763 - val_digit_0_accuracy: 0.9522 - val_digit_1_accuracy: 0.9540 - val_digit_2_accuracy: 0.9400 - val_loss: 1.1231 - learning_rate: 1.0000e-04\n",
      "Epoch 14/20\n",
      "\u001b[1m250/250\u001b[0m \u001b[32m━━━━━━━━━━━━━━━━━━━━\u001b[0m\u001b[37m\u001b[0m \u001b[1m26s\u001b[0m 104ms/step - digit_0_accuracy: 0.8884 - digit_1_accuracy: 0.8950 - digit_2_accuracy: 0.8618 - loss: 1.6800 - val_digit_0_accuracy: 0.9523 - val_digit_1_accuracy: 0.9544 - val_digit_2_accuracy: 0.9403 - val_loss: 1.1055 - learning_rate: 1.0000e-04\n",
      "Epoch 15/20\n",
      "\u001b[1m250/250\u001b[0m \u001b[32m━━━━━━━━━━━━━━━━━━━━\u001b[0m\u001b[37m\u001b[0m \u001b[1m24s\u001b[0m 96ms/step - digit_0_accuracy: 0.8925 - digit_1_accuracy: 0.8906 - digit_2_accuracy: 0.8663 - loss: 1.6526 - val_digit_0_accuracy: 0.9528 - val_digit_1_accuracy: 0.9555 - val_digit_2_accuracy: 0.9406 - val_loss: 1.0936 - learning_rate: 1.0000e-04\n",
      "Epoch 16/20\n",
      "\u001b[1m250/250\u001b[0m \u001b[32m━━━━━━━━━━━━━━━━━━━━\u001b[0m\u001b[37m\u001b[0m \u001b[1m36s\u001b[0m 144ms/step - digit_0_accuracy: 0.8912 - digit_1_accuracy: 0.8991 - digit_2_accuracy: 0.8642 - loss: 1.6302 - val_digit_0_accuracy: 0.9535 - val_digit_1_accuracy: 0.9553 - val_digit_2_accuracy: 0.9415 - val_loss: 1.0823 - learning_rate: 1.0000e-04\n",
      "Epoch 17/20\n",
      "\u001b[1m250/250\u001b[0m \u001b[32m━━━━━━━━━━━━━━━━━━━━\u001b[0m\u001b[37m\u001b[0m \u001b[1m24s\u001b[0m 96ms/step - digit_0_accuracy: 0.8928 - digit_1_accuracy: 0.8980 - digit_2_accuracy: 0.8670 - loss: 1.6144 - val_digit_0_accuracy: 0.9531 - val_digit_1_accuracy: 0.9552 - val_digit_2_accuracy: 0.9416 - val_loss: 1.0732 - learning_rate: 1.0000e-04\n",
      "Epoch 18/20\n",
      "\u001b[1m250/250\u001b[0m \u001b[32m━━━━━━━━━━━━━━━━━━━━\u001b[0m\u001b[37m\u001b[0m \u001b[1m25s\u001b[0m 101ms/step - digit_0_accuracy: 0.8959 - digit_1_accuracy: 0.9004 - digit_2_accuracy: 0.8674 - loss: 1.5950 - val_digit_0_accuracy: 0.9539 - val_digit_1_accuracy: 0.9548 - val_digit_2_accuracy: 0.9410 - val_loss: 1.0658 - learning_rate: 1.0000e-04\n",
      "Epoch 19/20\n",
      "\u001b[1m250/250\u001b[0m \u001b[32m━━━━━━━━━━━━━━━━━━━━\u001b[0m\u001b[37m\u001b[0m \u001b[1m26s\u001b[0m 102ms/step - digit_0_accuracy: 0.8951 - digit_1_accuracy: 0.9010 - digit_2_accuracy: 0.8719 - loss: 1.5805 - val_digit_0_accuracy: 0.9547 - val_digit_1_accuracy: 0.9553 - val_digit_2_accuracy: 0.9416 - val_loss: 1.0531 - learning_rate: 1.0000e-04\n",
      "Epoch 20/20\n",
      "\u001b[1m250/250\u001b[0m \u001b[32m━━━━━━━━━━━━━━━━━━━━\u001b[0m\u001b[37m\u001b[0m \u001b[1m23s\u001b[0m 93ms/step - digit_0_accuracy: 0.8945 - digit_1_accuracy: 0.8952 - digit_2_accuracy: 0.8717 - loss: 1.5865 - val_digit_0_accuracy: 0.9548 - val_digit_1_accuracy: 0.9562 - val_digit_2_accuracy: 0.9423 - val_loss: 1.0439 - learning_rate: 1.0000e-04\n"
     ]
    }
   ],
   "source": [
    "for train_index, val_index in kf.split(X_train):\n",
    "    X_train_fold, X_val_fold = X_train[train_index], X_train[val_index]\n",
    "    y_train_fold = {key: y_train_dict[key][train_index] for key in y_train_dict}\n",
    "    y_val_fold = {key: y_train_dict[key][val_index] for key in y_train_dict}\n",
    "\n",
    "    model = create_cnn_model_sgcc()  # Using CNN model instead of Dense model\n",
    "\n",
    "    history = model.fit(\n",
    "        custom_data_generator(X_train_fold, y_train_fold, batch_size=128),\n",
    "        epochs=20, verbose=1, steps_per_epoch=len(X_train_fold) // 128,\n",
    "        validation_data=(X_val_fold, y_val_fold),\n",
    "        callbacks=[early_stopping, lr_scheduler, tensorboard_callback]\n",
    "    )"
   ]
  },
  {
   "cell_type": "markdown",
   "id": "3e10018d-7fcb-4f09-a95a-daf631403eb3",
   "metadata": {},
   "source": [
    "## **9A. Evaluate The Model Performance with Sigmoid activation function and 'categorical_crossentropy' as the loss function**\n",
    "Evaluate the model and print the accuracy and loss metrics."
   ]
  },
  {
   "cell_type": "code",
   "execution_count": 44,
   "id": "72595526-e5f8-4881-8d0b-6315576d218a",
   "metadata": {},
   "outputs": [
    {
     "data": {
      "image/png": "[encoded data removed]",
      "text/plain": [
       "<Figure size 1400x500 with 2 Axes>"
      ]
     },
     "metadata": {},
     "output_type": "display_data"
    }
   ],
   "source": [
    "# Plot learning curves for the last fold\n",
    "plot_learning_curves(history)"
   ]
  },
  {
   "cell_type": "markdown",
   "id": "fb8ae66f-9fbb-494b-a869-82f0fb05ee43",
   "metadata": {},
   "source": [
    "## Interpretation:\n",
    "\n",
    "There is high accuracy on the training and validation set. Training and validation loss decreasing significantly. That means the model is good, not underfitting nor overfitting. The lowest loss using 'categorical-crossentropy' as the loss function is around  is around 1.5"
   ]
  },
  {
   "cell_type": "markdown",
   "id": "1cf5b7fa-42c7-4cd4-a579-8a343581350d",
   "metadata": {},
   "source": [
    "## Evaluation on the Test set with Sigmoid activation function and 'categorical_crossentropy' as the loss function \n",
    "We test it on a completely new set of data that the model had never seen before (the Test set) to check how well the model performs on totally new data, making sure it’s ready for real life."
   ]
  },
  {
   "cell_type": "code",
   "execution_count": 45,
   "id": "f97bfea0-7fa0-4cd8-8ca7-ccfe42e5757a",
   "metadata": {},
   "outputs": [
    {
     "name": "stdout",
     "output_type": "stream",
     "text": [
      "Epoch 1/20\n",
      "\u001b[1m1000/1000\u001b[0m \u001b[32m━━━━━━━━━━━━━━━━━━━━\u001b[0m\u001b[37m\u001b[0m \u001b[1m46s\u001b[0m 37ms/step - digit_0_accuracy: 0.2728 - digit_1_accuracy: 0.2951 - digit_2_accuracy: 0.2367 - loss: 6.1547 - val_digit_0_accuracy: 0.8548 - val_digit_1_accuracy: 0.8597 - val_digit_2_accuracy: 0.7729 - val_loss: 2.4846 - learning_rate: 0.0010\n",
      "Epoch 2/20\n",
      "\u001b[1m1000/1000\u001b[0m \u001b[32m━━━━━━━━━━━━━━━━━━━━\u001b[0m\u001b[37m\u001b[0m \u001b[1m39s\u001b[0m 39ms/step - digit_0_accuracy: 0.7345 - digit_1_accuracy: 0.7539 - digit_2_accuracy: 0.6528 - loss: 3.1383 - val_digit_0_accuracy: 0.9007 - val_digit_1_accuracy: 0.9082 - val_digit_2_accuracy: 0.8576 - val_loss: 1.9323 - learning_rate: 0.0010\n",
      "Epoch 3/20\n",
      "\u001b[1m1000/1000\u001b[0m \u001b[32m━━━━━━━━━━━━━━━━━━━━\u001b[0m\u001b[37m\u001b[0m \u001b[1m39s\u001b[0m 39ms/step - digit_0_accuracy: 0.7936 - digit_1_accuracy: 0.8010 - digit_2_accuracy: 0.7335 - loss: 2.6731 - val_digit_0_accuracy: 0.9201 - val_digit_1_accuracy: 0.9270 - val_digit_2_accuracy: 0.8866 - val_loss: 1.6696 - learning_rate: 0.0010\n",
      "Epoch 4/20\n",
      "\u001b[1m1000/1000\u001b[0m \u001b[32m━━━━━━━━━━━━━━━━━━━━\u001b[0m\u001b[37m\u001b[0m \u001b[1m39s\u001b[0m 39ms/step - digit_0_accuracy: 0.8241 - digit_1_accuracy: 0.8275 - digit_2_accuracy: 0.7694 - loss: 2.4184 - val_digit_0_accuracy: 0.9282 - val_digit_1_accuracy: 0.9347 - val_digit_2_accuracy: 0.9037 - val_loss: 1.5830 - learning_rate: 0.0010\n",
      "Epoch 5/20\n",
      "\u001b[1m1000/1000\u001b[0m \u001b[32m━━━━━━━━━━━━━━━━━━━━\u001b[0m\u001b[37m\u001b[0m \u001b[1m39s\u001b[0m 39ms/step - digit_0_accuracy: 0.8446 - digit_1_accuracy: 0.8507 - digit_2_accuracy: 0.7970 - loss: 2.2401 - val_digit_0_accuracy: 0.9383 - val_digit_1_accuracy: 0.9414 - val_digit_2_accuracy: 0.9191 - val_loss: 1.4246 - learning_rate: 0.0010\n",
      "Epoch 6/20\n",
      "\u001b[1m1000/1000\u001b[0m \u001b[32m━━━━━━━━━━━━━━━━━━━━\u001b[0m\u001b[37m\u001b[0m \u001b[1m36s\u001b[0m 36ms/step - digit_0_accuracy: 0.8533 - digit_1_accuracy: 0.8584 - digit_2_accuracy: 0.8163 - loss: 2.1329 - val_digit_0_accuracy: 0.9435 - val_digit_1_accuracy: 0.9483 - val_digit_2_accuracy: 0.9259 - val_loss: 1.3719 - learning_rate: 0.0010\n",
      "Epoch 7/20\n",
      "\u001b[1m1000/1000\u001b[0m \u001b[32m━━━━━━━━━━━━━━━━━━━━\u001b[0m\u001b[37m\u001b[0m \u001b[1m38s\u001b[0m 38ms/step - digit_0_accuracy: 0.8658 - digit_1_accuracy: 0.8701 - digit_2_accuracy: 0.8341 - loss: 2.0186 - val_digit_0_accuracy: 0.9449 - val_digit_1_accuracy: 0.9504 - val_digit_2_accuracy: 0.9320 - val_loss: 1.3066 - learning_rate: 0.0010\n",
      "Epoch 8/20\n",
      "\u001b[1m1000/1000\u001b[0m \u001b[32m━━━━━━━━━━━━━━━━━━━━\u001b[0m\u001b[37m\u001b[0m \u001b[1m41s\u001b[0m 41ms/step - digit_0_accuracy: 0.8726 - digit_1_accuracy: 0.8754 - digit_2_accuracy: 0.8433 - loss: 1.9433 - val_digit_0_accuracy: 0.9483 - val_digit_1_accuracy: 0.9516 - val_digit_2_accuracy: 0.9348 - val_loss: 1.2576 - learning_rate: 0.0010\n",
      "Epoch 9/20\n",
      "\u001b[1m1000/1000\u001b[0m \u001b[32m━━━━━━━━━━━━━━━━━━━━\u001b[0m\u001b[37m\u001b[0m \u001b[1m40s\u001b[0m 40ms/step - digit_0_accuracy: 0.8800 - digit_1_accuracy: 0.8861 - digit_2_accuracy: 0.8493 - loss: 1.8875 - val_digit_0_accuracy: 0.9508 - val_digit_1_accuracy: 0.9530 - val_digit_2_accuracy: 0.9380 - val_loss: 1.2218 - learning_rate: 0.0010\n",
      "Epoch 10/20\n",
      "\u001b[1m1000/1000\u001b[0m \u001b[32m━━━━━━━━━━━━━━━━━━━━\u001b[0m\u001b[37m\u001b[0m \u001b[1m38s\u001b[0m 38ms/step - digit_0_accuracy: 0.8865 - digit_1_accuracy: 0.8896 - digit_2_accuracy: 0.8560 - loss: 1.8284 - val_digit_0_accuracy: 0.9519 - val_digit_1_accuracy: 0.9562 - val_digit_2_accuracy: 0.9385 - val_loss: 1.1970 - learning_rate: 0.0010\n",
      "Epoch 11/20\n",
      "\u001b[1m1000/1000\u001b[0m \u001b[32m━━━━━━━━━━━━━━━━━━━━\u001b[0m\u001b[37m\u001b[0m \u001b[1m39s\u001b[0m 39ms/step - digit_0_accuracy: 0.8929 - digit_1_accuracy: 0.8916 - digit_2_accuracy: 0.8639 - loss: 1.7702 - val_digit_0_accuracy: 0.9516 - val_digit_1_accuracy: 0.9560 - val_digit_2_accuracy: 0.9419 - val_loss: 1.1658 - learning_rate: 0.0010\n",
      "Epoch 12/20\n",
      "\u001b[1m1000/1000\u001b[0m \u001b[32m━━━━━━━━━━━━━━━━━━━━\u001b[0m\u001b[37m\u001b[0m \u001b[1m38s\u001b[0m 38ms/step - digit_0_accuracy: 0.8994 - digit_1_accuracy: 0.9044 - digit_2_accuracy: 0.8820 - loss: 1.6596 - val_digit_0_accuracy: 0.9578 - val_digit_1_accuracy: 0.9605 - val_digit_2_accuracy: 0.9488 - val_loss: 1.0865 - learning_rate: 1.0000e-04\n",
      "Epoch 13/20\n",
      "\u001b[1m1000/1000\u001b[0m \u001b[32m━━━━━━━━━━━━━━━━━━━━\u001b[0m\u001b[37m\u001b[0m \u001b[1m40s\u001b[0m 40ms/step - digit_0_accuracy: 0.9079 - digit_1_accuracy: 0.9126 - digit_2_accuracy: 0.8818 - loss: 1.5746 - val_digit_0_accuracy: 0.9581 - val_digit_1_accuracy: 0.9615 - val_digit_2_accuracy: 0.9500 - val_loss: 1.0509 - learning_rate: 1.0000e-04\n",
      "Epoch 14/20\n",
      "\u001b[1m1000/1000\u001b[0m \u001b[32m━━━━━━━━━━━━━━━━━━━━\u001b[0m\u001b[37m\u001b[0m \u001b[1m40s\u001b[0m 40ms/step - digit_0_accuracy: 0.9136 - digit_1_accuracy: 0.9148 - digit_2_accuracy: 0.8864 - loss: 1.5271 - val_digit_0_accuracy: 0.9594 - val_digit_1_accuracy: 0.9618 - val_digit_2_accuracy: 0.9498 - val_loss: 1.0209 - learning_rate: 1.0000e-04\n",
      "Epoch 15/20\n",
      "\u001b[1m1000/1000\u001b[0m \u001b[32m━━━━━━━━━━━━━━━━━━━━\u001b[0m\u001b[37m\u001b[0m \u001b[1m39s\u001b[0m 39ms/step - digit_0_accuracy: 0.9097 - digit_1_accuracy: 0.9146 - digit_2_accuracy: 0.8896 - loss: 1.5031 - val_digit_0_accuracy: 0.9601 - val_digit_1_accuracy: 0.9632 - val_digit_2_accuracy: 0.9507 - val_loss: 0.9970 - learning_rate: 1.0000e-04\n",
      "Epoch 16/20\n",
      "\u001b[1m1000/1000\u001b[0m \u001b[32m━━━━━━━━━━━━━━━━━━━━\u001b[0m\u001b[37m\u001b[0m \u001b[1m37s\u001b[0m 37ms/step - digit_0_accuracy: 0.9175 - digit_1_accuracy: 0.9168 - digit_2_accuracy: 0.8933 - loss: 1.4485 - val_digit_0_accuracy: 0.9601 - val_digit_1_accuracy: 0.9627 - val_digit_2_accuracy: 0.9515 - val_loss: 0.9829 - learning_rate: 1.0000e-04\n",
      "Epoch 17/20\n",
      "\u001b[1m1000/1000\u001b[0m \u001b[32m━━━━━━━━━━━━━━━━━━━━\u001b[0m\u001b[37m\u001b[0m \u001b[1m39s\u001b[0m 39ms/step - digit_0_accuracy: 0.9136 - digit_1_accuracy: 0.9199 - digit_2_accuracy: 0.8908 - loss: 1.4416 - val_digit_0_accuracy: 0.9606 - val_digit_1_accuracy: 0.9634 - val_digit_2_accuracy: 0.9514 - val_loss: 0.9609 - learning_rate: 1.0000e-04\n",
      "Epoch 18/20\n",
      "\u001b[1m1000/1000\u001b[0m \u001b[32m━━━━━━━━━━━━━━━━━━━━\u001b[0m\u001b[37m\u001b[0m \u001b[1m40s\u001b[0m 40ms/step - digit_0_accuracy: 0.9164 - digit_1_accuracy: 0.9194 - digit_2_accuracy: 0.8934 - loss: 1.4123 - val_digit_0_accuracy: 0.9610 - val_digit_1_accuracy: 0.9636 - val_digit_2_accuracy: 0.9523 - val_loss: 0.9430 - learning_rate: 1.0000e-04\n",
      "Epoch 19/20\n",
      "\u001b[1m1000/1000\u001b[0m \u001b[32m━━━━━━━━━━━━━━━━━━━━\u001b[0m\u001b[37m\u001b[0m \u001b[1m39s\u001b[0m 39ms/step - digit_0_accuracy: 0.9180 - digit_1_accuracy: 0.9219 - digit_2_accuracy: 0.8930 - loss: 1.3821 - val_digit_0_accuracy: 0.9613 - val_digit_1_accuracy: 0.9638 - val_digit_2_accuracy: 0.9529 - val_loss: 0.9277 - learning_rate: 1.0000e-04\n",
      "Epoch 20/20\n",
      "\u001b[1m1000/1000\u001b[0m \u001b[32m━━━━━━━━━━━━━━━━━━━━\u001b[0m\u001b[37m\u001b[0m \u001b[1m39s\u001b[0m 39ms/step - digit_0_accuracy: 0.9170 - digit_1_accuracy: 0.9184 - digit_2_accuracy: 0.8966 - loss: 1.3731 - val_digit_0_accuracy: 0.9611 - val_digit_1_accuracy: 0.9637 - val_digit_2_accuracy: 0.9533 - val_loss: 0.9153 - learning_rate: 1.0000e-04\n",
      "\u001b[1m625/625\u001b[0m \u001b[32m━━━━━━━━━━━━━━━━━━━━\u001b[0m\u001b[37m\u001b[0m \u001b[1m7s\u001b[0m 11ms/step - digit_0_accuracy: 0.9625 - digit_1_accuracy: 0.9591 - digit_2_accuracy: 0.9406 - loss: 0.9632\n",
      "Test loss: 1.0049712657928467\n",
      "Test accuracy for digit_0: 0.9526000022888184\n",
      "Test accuracy for digit_1: 0.9549999833106995\n",
      "Test accuracy for digit_2: 0.9416499733924866\n"
     ]
    }
   ],
   "source": [
    "# Evaluation on the test set\n",
    "model = create_cnn_model_sgcc()  # Using CNN model with 'categorical_crossentropy' function as the loss function\n",
    "\n",
    "history = model.fit(\n",
    "        custom_data_generator(X_train_fold, y_train_fold, batch_size=32),\n",
    "        epochs=20, verbose=1, steps_per_epoch=len(X_train_fold) // 32,\n",
    "        validation_data=(X_val_fold, y_val_fold),\n",
    "        callbacks=[early_stopping, lr_scheduler, tensorboard_callback]    )\n",
    "\n",
    "# Evaluate the model on the test set\n",
    "test_metrics = model.evaluate(X_test, y_test_dict)\n",
    "test_loss = test_metrics[0]\n",
    "test_accuracy = test_metrics[1:]\n",
    "\n",
    "print(f'Test loss: {test_loss}')\n",
    "for i, acc in enumerate(test_accuracy):\n",
    "    print(f'Test accuracy for digit_{i}: {acc}')"
   ]
  },
  {
   "cell_type": "markdown",
   "id": "9456c65a-2563-4fd0-8020-55cf96ad8e01",
   "metadata": {},
   "source": [
    "## Interpretation:\n",
    "\n",
    "There is high accuracy on the test set which the model has never seen before, that means the model can predict well on the new unseen data.\n",
    "\n",
    "The lowest loss using 'categorical-crossentropy' as the loss function is around  is around 0.9"
   ]
  },
  {
   "cell_type": "markdown",
   "id": "f2ba160a-f5fe-445f-8668-a8e728c343c8",
   "metadata": {},
   "source": [
    "####"
   ]
  },
  {
   "cell_type": "markdown",
   "id": "c8ba02fc-783b-475f-aee9-6b3881b0a4b4",
   "metadata": {},
   "source": [
    "### Now we will use Sigmoid activation function and a 'binary_crossentropy' as the loss function"
   ]
  },
  {
   "cell_type": "markdown",
   "id": "e32d68de-6e41-4d10-9e62-65b2975fa1ac",
   "metadata": {},
   "source": [
    "## **7B. Define the CNN Model uses Sigmoid activation function and 'binary_crossentropy' as the loss function.**\n",
    "Build the CNN model architecture. \r\n",
    "The last layer/ Output layer uses a sigmoid function for multi-label classificatio\n",
    "\n",
    "Define the Input Shape. Configure the input shape based on the training data dimension\n",
    "."
   ]
  },
  {
   "cell_type": "markdown",
   "id": "ab013717-e28d-4160-b363-a3ca24b12b35",
   "metadata": {},
   "source": [
    "#### For multi-label classification, the training process should uses a binary_crossentropy function as the loss function."
   ]
  },
  {
   "cell_type": "code",
   "execution_count": 53,
   "id": "b904e0ea-6f7b-44a5-81c6-2274df9d649a",
   "metadata": {},
   "outputs": [
    {
     "data": {
      "text/html": [
       "<pre style=\"white-space:pre;overflow-x:auto;line-height:normal;font-family:Menlo,'DejaVu Sans Mono',consolas,'Courier New',monospace\"><span style=\"font-weight: bold\">Model: \"functional_25\"</span>\n",
       "</pre>\n"
      ],
      "text/plain": [
       "\u001b[1mModel: \"functional_25\"\u001b[0m\n"
      ]
     },
     "metadata": {},
     "output_type": "display_data"
    },
    {
     "data": {
      "text/html": [
       "<pre style=\"white-space:pre;overflow-x:auto;line-height:normal;font-family:Menlo,'DejaVu Sans Mono',consolas,'Courier New',monospace\">┏━━━━━━━━━━━━━━━━━━━━━┳━━━━━━━━━━━━━━━━━━━┳━━━━━━━━━━━━┳━━━━━━━━━━━━━━━━━━━┓\n",
       "┃<span style=\"font-weight: bold\"> Layer (type)        </span>┃<span style=\"font-weight: bold\"> Output Shape      </span>┃<span style=\"font-weight: bold\">    Param # </span>┃<span style=\"font-weight: bold\"> Connected to      </span>┃\n",
       "┡━━━━━━━━━━━━━━━━━━━━━╇━━━━━━━━━━━━━━━━━━━╇━━━━━━━━━━━━╇━━━━━━━━━━━━━━━━━━━┩\n",
       "│ input_layer_12      │ (<span style=\"color: #00d7ff; text-decoration-color: #00d7ff\">None</span>, <span style=\"color: #00af00; text-decoration-color: #00af00\">28</span>, <span style=\"color: #00af00; text-decoration-color: #00af00\">28</span>, <span style=\"color: #00af00; text-decoration-color: #00af00\">1</span>) │          <span style=\"color: #00af00; text-decoration-color: #00af00\">0</span> │ -                 │\n",
       "│ (<span style=\"color: #0087ff; text-decoration-color: #0087ff\">InputLayer</span>)        │                   │            │                   │\n",
       "├─────────────────────┼───────────────────┼────────────┼───────────────────┤\n",
       "│ conv2d_24 (<span style=\"color: #0087ff; text-decoration-color: #0087ff\">Conv2D</span>)  │ (<span style=\"color: #00d7ff; text-decoration-color: #00d7ff\">None</span>, <span style=\"color: #00af00; text-decoration-color: #00af00\">26</span>, <span style=\"color: #00af00; text-decoration-color: #00af00\">26</span>,    │        <span style=\"color: #00af00; text-decoration-color: #00af00\">320</span> │ input_layer_12[<span style=\"color: #00af00; text-decoration-color: #00af00\">0</span>… │\n",
       "│                     │ <span style=\"color: #00af00; text-decoration-color: #00af00\">32</span>)               │            │                   │\n",
       "├─────────────────────┼───────────────────┼────────────┼───────────────────┤\n",
       "│ max_pooling2d_24    │ (<span style=\"color: #00d7ff; text-decoration-color: #00d7ff\">None</span>, <span style=\"color: #00af00; text-decoration-color: #00af00\">13</span>, <span style=\"color: #00af00; text-decoration-color: #00af00\">13</span>,    │          <span style=\"color: #00af00; text-decoration-color: #00af00\">0</span> │ conv2d_24[<span style=\"color: #00af00; text-decoration-color: #00af00\">0</span>][<span style=\"color: #00af00; text-decoration-color: #00af00\">0</span>]   │\n",
       "│ (<span style=\"color: #0087ff; text-decoration-color: #0087ff\">MaxPooling2D</span>)      │ <span style=\"color: #00af00; text-decoration-color: #00af00\">32</span>)               │            │                   │\n",
       "├─────────────────────┼───────────────────┼────────────┼───────────────────┤\n",
       "│ dropout_36          │ (<span style=\"color: #00d7ff; text-decoration-color: #00d7ff\">None</span>, <span style=\"color: #00af00; text-decoration-color: #00af00\">13</span>, <span style=\"color: #00af00; text-decoration-color: #00af00\">13</span>,    │          <span style=\"color: #00af00; text-decoration-color: #00af00\">0</span> │ max_pooling2d_24… │\n",
       "│ (<span style=\"color: #0087ff; text-decoration-color: #0087ff\">Dropout</span>)           │ <span style=\"color: #00af00; text-decoration-color: #00af00\">32</span>)               │            │                   │\n",
       "├─────────────────────┼───────────────────┼────────────┼───────────────────┤\n",
       "│ conv2d_25 (<span style=\"color: #0087ff; text-decoration-color: #0087ff\">Conv2D</span>)  │ (<span style=\"color: #00d7ff; text-decoration-color: #00d7ff\">None</span>, <span style=\"color: #00af00; text-decoration-color: #00af00\">11</span>, <span style=\"color: #00af00; text-decoration-color: #00af00\">11</span>,    │     <span style=\"color: #00af00; text-decoration-color: #00af00\">18,496</span> │ dropout_36[<span style=\"color: #00af00; text-decoration-color: #00af00\">0</span>][<span style=\"color: #00af00; text-decoration-color: #00af00\">0</span>]  │\n",
       "│                     │ <span style=\"color: #00af00; text-decoration-color: #00af00\">64</span>)               │            │                   │\n",
       "├─────────────────────┼───────────────────┼────────────┼───────────────────┤\n",
       "│ max_pooling2d_25    │ (<span style=\"color: #00d7ff; text-decoration-color: #00d7ff\">None</span>, <span style=\"color: #00af00; text-decoration-color: #00af00\">5</span>, <span style=\"color: #00af00; text-decoration-color: #00af00\">5</span>, <span style=\"color: #00af00; text-decoration-color: #00af00\">64</span>)  │          <span style=\"color: #00af00; text-decoration-color: #00af00\">0</span> │ conv2d_25[<span style=\"color: #00af00; text-decoration-color: #00af00\">0</span>][<span style=\"color: #00af00; text-decoration-color: #00af00\">0</span>]   │\n",
       "│ (<span style=\"color: #0087ff; text-decoration-color: #0087ff\">MaxPooling2D</span>)      │                   │            │                   │\n",
       "├─────────────────────┼───────────────────┼────────────┼───────────────────┤\n",
       "│ dropout_37          │ (<span style=\"color: #00d7ff; text-decoration-color: #00d7ff\">None</span>, <span style=\"color: #00af00; text-decoration-color: #00af00\">5</span>, <span style=\"color: #00af00; text-decoration-color: #00af00\">5</span>, <span style=\"color: #00af00; text-decoration-color: #00af00\">64</span>)  │          <span style=\"color: #00af00; text-decoration-color: #00af00\">0</span> │ max_pooling2d_25… │\n",
       "│ (<span style=\"color: #0087ff; text-decoration-color: #0087ff\">Dropout</span>)           │                   │            │                   │\n",
       "├─────────────────────┼───────────────────┼────────────┼───────────────────┤\n",
       "│ flatten_12          │ (<span style=\"color: #00d7ff; text-decoration-color: #00d7ff\">None</span>, <span style=\"color: #00af00; text-decoration-color: #00af00\">1600</span>)      │          <span style=\"color: #00af00; text-decoration-color: #00af00\">0</span> │ dropout_37[<span style=\"color: #00af00; text-decoration-color: #00af00\">0</span>][<span style=\"color: #00af00; text-decoration-color: #00af00\">0</span>]  │\n",
       "│ (<span style=\"color: #0087ff; text-decoration-color: #0087ff\">Flatten</span>)           │                   │            │                   │\n",
       "├─────────────────────┼───────────────────┼────────────┼───────────────────┤\n",
       "│ dense_12 (<span style=\"color: #0087ff; text-decoration-color: #0087ff\">Dense</span>)    │ (<span style=\"color: #00d7ff; text-decoration-color: #00d7ff\">None</span>, <span style=\"color: #00af00; text-decoration-color: #00af00\">256</span>)       │    <span style=\"color: #00af00; text-decoration-color: #00af00\">409,856</span> │ flatten_12[<span style=\"color: #00af00; text-decoration-color: #00af00\">0</span>][<span style=\"color: #00af00; text-decoration-color: #00af00\">0</span>]  │\n",
       "├─────────────────────┼───────────────────┼────────────┼───────────────────┤\n",
       "│ dropout_38          │ (<span style=\"color: #00d7ff; text-decoration-color: #00d7ff\">None</span>, <span style=\"color: #00af00; text-decoration-color: #00af00\">256</span>)       │          <span style=\"color: #00af00; text-decoration-color: #00af00\">0</span> │ dense_12[<span style=\"color: #00af00; text-decoration-color: #00af00\">0</span>][<span style=\"color: #00af00; text-decoration-color: #00af00\">0</span>]    │\n",
       "│ (<span style=\"color: #0087ff; text-decoration-color: #0087ff\">Dropout</span>)           │                   │            │                   │\n",
       "├─────────────────────┼───────────────────┼────────────┼───────────────────┤\n",
       "│ digit_0 (<span style=\"color: #0087ff; text-decoration-color: #0087ff\">Dense</span>)     │ (<span style=\"color: #00d7ff; text-decoration-color: #00d7ff\">None</span>, <span style=\"color: #00af00; text-decoration-color: #00af00\">10</span>)        │      <span style=\"color: #00af00; text-decoration-color: #00af00\">2,570</span> │ dropout_38[<span style=\"color: #00af00; text-decoration-color: #00af00\">0</span>][<span style=\"color: #00af00; text-decoration-color: #00af00\">0</span>]  │\n",
       "├─────────────────────┼───────────────────┼────────────┼───────────────────┤\n",
       "│ digit_1 (<span style=\"color: #0087ff; text-decoration-color: #0087ff\">Dense</span>)     │ (<span style=\"color: #00d7ff; text-decoration-color: #00d7ff\">None</span>, <span style=\"color: #00af00; text-decoration-color: #00af00\">10</span>)        │      <span style=\"color: #00af00; text-decoration-color: #00af00\">2,570</span> │ dropout_38[<span style=\"color: #00af00; text-decoration-color: #00af00\">0</span>][<span style=\"color: #00af00; text-decoration-color: #00af00\">0</span>]  │\n",
       "├─────────────────────┼───────────────────┼────────────┼───────────────────┤\n",
       "│ digit_2 (<span style=\"color: #0087ff; text-decoration-color: #0087ff\">Dense</span>)     │ (<span style=\"color: #00d7ff; text-decoration-color: #00d7ff\">None</span>, <span style=\"color: #00af00; text-decoration-color: #00af00\">10</span>)        │      <span style=\"color: #00af00; text-decoration-color: #00af00\">2,570</span> │ dropout_38[<span style=\"color: #00af00; text-decoration-color: #00af00\">0</span>][<span style=\"color: #00af00; text-decoration-color: #00af00\">0</span>]  │\n",
       "└─────────────────────┴───────────────────┴────────────┴───────────────────┘\n",
       "</pre>\n"
      ],
      "text/plain": [
       "┏━━━━━━━━━━━━━━━━━━━━━┳━━━━━━━━━━━━━━━━━━━┳━━━━━━━━━━━━┳━━━━━━━━━━━━━━━━━━━┓\n",
       "┃\u001b[1m \u001b[0m\u001b[1mLayer (type)       \u001b[0m\u001b[1m \u001b[0m┃\u001b[1m \u001b[0m\u001b[1mOutput Shape     \u001b[0m\u001b[1m \u001b[0m┃\u001b[1m \u001b[0m\u001b[1m   Param #\u001b[0m\u001b[1m \u001b[0m┃\u001b[1m \u001b[0m\u001b[1mConnected to     \u001b[0m\u001b[1m \u001b[0m┃\n",
       "┡━━━━━━━━━━━━━━━━━━━━━╇━━━━━━━━━━━━━━━━━━━╇━━━━━━━━━━━━╇━━━━━━━━━━━━━━━━━━━┩\n",
       "│ input_layer_12      │ (\u001b[38;5;45mNone\u001b[0m, \u001b[38;5;34m28\u001b[0m, \u001b[38;5;34m28\u001b[0m, \u001b[38;5;34m1\u001b[0m) │          \u001b[38;5;34m0\u001b[0m │ -                 │\n",
       "│ (\u001b[38;5;33mInputLayer\u001b[0m)        │                   │            │                   │\n",
       "├─────────────────────┼───────────────────┼────────────┼───────────────────┤\n",
       "│ conv2d_24 (\u001b[38;5;33mConv2D\u001b[0m)  │ (\u001b[38;5;45mNone\u001b[0m, \u001b[38;5;34m26\u001b[0m, \u001b[38;5;34m26\u001b[0m,    │        \u001b[38;5;34m320\u001b[0m │ input_layer_12[\u001b[38;5;34m0\u001b[0m… │\n",
       "│                     │ \u001b[38;5;34m32\u001b[0m)               │            │                   │\n",
       "├─────────────────────┼───────────────────┼────────────┼───────────────────┤\n",
       "│ max_pooling2d_24    │ (\u001b[38;5;45mNone\u001b[0m, \u001b[38;5;34m13\u001b[0m, \u001b[38;5;34m13\u001b[0m,    │          \u001b[38;5;34m0\u001b[0m │ conv2d_24[\u001b[38;5;34m0\u001b[0m][\u001b[38;5;34m0\u001b[0m]   │\n",
       "│ (\u001b[38;5;33mMaxPooling2D\u001b[0m)      │ \u001b[38;5;34m32\u001b[0m)               │            │                   │\n",
       "├─────────────────────┼───────────────────┼────────────┼───────────────────┤\n",
       "│ dropout_36          │ (\u001b[38;5;45mNone\u001b[0m, \u001b[38;5;34m13\u001b[0m, \u001b[38;5;34m13\u001b[0m,    │          \u001b[38;5;34m0\u001b[0m │ max_pooling2d_24… │\n",
       "│ (\u001b[38;5;33mDropout\u001b[0m)           │ \u001b[38;5;34m32\u001b[0m)               │            │                   │\n",
       "├─────────────────────┼───────────────────┼────────────┼───────────────────┤\n",
       "│ conv2d_25 (\u001b[38;5;33mConv2D\u001b[0m)  │ (\u001b[38;5;45mNone\u001b[0m, \u001b[38;5;34m11\u001b[0m, \u001b[38;5;34m11\u001b[0m,    │     \u001b[38;5;34m18,496\u001b[0m │ dropout_36[\u001b[38;5;34m0\u001b[0m][\u001b[38;5;34m0\u001b[0m]  │\n",
       "│                     │ \u001b[38;5;34m64\u001b[0m)               │            │                   │\n",
       "├─────────────────────┼───────────────────┼────────────┼───────────────────┤\n",
       "│ max_pooling2d_25    │ (\u001b[38;5;45mNone\u001b[0m, \u001b[38;5;34m5\u001b[0m, \u001b[38;5;34m5\u001b[0m, \u001b[38;5;34m64\u001b[0m)  │          \u001b[38;5;34m0\u001b[0m │ conv2d_25[\u001b[38;5;34m0\u001b[0m][\u001b[38;5;34m0\u001b[0m]   │\n",
       "│ (\u001b[38;5;33mMaxPooling2D\u001b[0m)      │                   │            │                   │\n",
       "├─────────────────────┼───────────────────┼────────────┼───────────────────┤\n",
       "│ dropout_37          │ (\u001b[38;5;45mNone\u001b[0m, \u001b[38;5;34m5\u001b[0m, \u001b[38;5;34m5\u001b[0m, \u001b[38;5;34m64\u001b[0m)  │          \u001b[38;5;34m0\u001b[0m │ max_pooling2d_25… │\n",
       "│ (\u001b[38;5;33mDropout\u001b[0m)           │                   │            │                   │\n",
       "├─────────────────────┼───────────────────┼────────────┼───────────────────┤\n",
       "│ flatten_12          │ (\u001b[38;5;45mNone\u001b[0m, \u001b[38;5;34m1600\u001b[0m)      │          \u001b[38;5;34m0\u001b[0m │ dropout_37[\u001b[38;5;34m0\u001b[0m][\u001b[38;5;34m0\u001b[0m]  │\n",
       "│ (\u001b[38;5;33mFlatten\u001b[0m)           │                   │            │                   │\n",
       "├─────────────────────┼───────────────────┼────────────┼───────────────────┤\n",
       "│ dense_12 (\u001b[38;5;33mDense\u001b[0m)    │ (\u001b[38;5;45mNone\u001b[0m, \u001b[38;5;34m256\u001b[0m)       │    \u001b[38;5;34m409,856\u001b[0m │ flatten_12[\u001b[38;5;34m0\u001b[0m][\u001b[38;5;34m0\u001b[0m]  │\n",
       "├─────────────────────┼───────────────────┼────────────┼───────────────────┤\n",
       "│ dropout_38          │ (\u001b[38;5;45mNone\u001b[0m, \u001b[38;5;34m256\u001b[0m)       │          \u001b[38;5;34m0\u001b[0m │ dense_12[\u001b[38;5;34m0\u001b[0m][\u001b[38;5;34m0\u001b[0m]    │\n",
       "│ (\u001b[38;5;33mDropout\u001b[0m)           │                   │            │                   │\n",
       "├─────────────────────┼───────────────────┼────────────┼───────────────────┤\n",
       "│ digit_0 (\u001b[38;5;33mDense\u001b[0m)     │ (\u001b[38;5;45mNone\u001b[0m, \u001b[38;5;34m10\u001b[0m)        │      \u001b[38;5;34m2,570\u001b[0m │ dropout_38[\u001b[38;5;34m0\u001b[0m][\u001b[38;5;34m0\u001b[0m]  │\n",
       "├─────────────────────┼───────────────────┼────────────┼───────────────────┤\n",
       "│ digit_1 (\u001b[38;5;33mDense\u001b[0m)     │ (\u001b[38;5;45mNone\u001b[0m, \u001b[38;5;34m10\u001b[0m)        │      \u001b[38;5;34m2,570\u001b[0m │ dropout_38[\u001b[38;5;34m0\u001b[0m][\u001b[38;5;34m0\u001b[0m]  │\n",
       "├─────────────────────┼───────────────────┼────────────┼───────────────────┤\n",
       "│ digit_2 (\u001b[38;5;33mDense\u001b[0m)     │ (\u001b[38;5;45mNone\u001b[0m, \u001b[38;5;34m10\u001b[0m)        │      \u001b[38;5;34m2,570\u001b[0m │ dropout_38[\u001b[38;5;34m0\u001b[0m][\u001b[38;5;34m0\u001b[0m]  │\n",
       "└─────────────────────┴───────────────────┴────────────┴───────────────────┘\n"
      ]
     },
     "metadata": {},
     "output_type": "display_data"
    },
    {
     "data": {
      "text/html": [
       "<pre style=\"white-space:pre;overflow-x:auto;line-height:normal;font-family:Menlo,'DejaVu Sans Mono',consolas,'Courier New',monospace\"><span style=\"font-weight: bold\"> Total params: </span><span style=\"color: #00af00; text-decoration-color: #00af00\">436,382</span> (1.66 MB)\n",
       "</pre>\n"
      ],
      "text/plain": [
       "\u001b[1m Total params: \u001b[0m\u001b[38;5;34m436,382\u001b[0m (1.66 MB)\n"
      ]
     },
     "metadata": {},
     "output_type": "display_data"
    },
    {
     "data": {
      "text/html": [
       "<pre style=\"white-space:pre;overflow-x:auto;line-height:normal;font-family:Menlo,'DejaVu Sans Mono',consolas,'Courier New',monospace\"><span style=\"font-weight: bold\"> Trainable params: </span><span style=\"color: #00af00; text-decoration-color: #00af00\">436,382</span> (1.66 MB)\n",
       "</pre>\n"
      ],
      "text/plain": [
       "\u001b[1m Trainable params: \u001b[0m\u001b[38;5;34m436,382\u001b[0m (1.66 MB)\n"
      ]
     },
     "metadata": {},
     "output_type": "display_data"
    },
    {
     "data": {
      "text/html": [
       "<pre style=\"white-space:pre;overflow-x:auto;line-height:normal;font-family:Menlo,'DejaVu Sans Mono',consolas,'Courier New',monospace\"><span style=\"font-weight: bold\"> Non-trainable params: </span><span style=\"color: #00af00; text-decoration-color: #00af00\">0</span> (0.00 B)\n",
       "</pre>\n"
      ],
      "text/plain": [
       "\u001b[1m Non-trainable params: \u001b[0m\u001b[38;5;34m0\u001b[0m (0.00 B)\n"
      ]
     },
     "metadata": {},
     "output_type": "display_data"
    }
   ],
   "source": [
    "def create_cnn_model_sgbc():\n",
    "    inputs = Input(shape=(28, 28, 1))  # Input shape for a 28x28 grayscale image\n",
    "    x = Conv2D(32, kernel_size=(3, 3), activation='relu', kernel_regularizer=l2(0.001))(inputs)\n",
    "    x = MaxPooling2D(pool_size=(2, 2))(x)\n",
    "    x = Dropout(0.25)(x)\n",
    "    x = Conv2D(64, kernel_size=(3, 3), activation='relu', kernel_regularizer=l2(0.001))(x)\n",
    "    x = MaxPooling2D(pool_size=(2, 2))(x)\n",
    "    x = Dropout(0.25)(x)\n",
    "    x = Flatten()(x)\n",
    "    x = Dense(256, activation='relu', kernel_regularizer=l2(0.001))(x)\n",
    "    x = Dropout(0.5)(x)\n",
    "    outputs = [Dense(10, activation='sigmoid', name=f'digit_{i}')(x) for i in range(3)]\n",
    "    model = Model(inputs=inputs, outputs=outputs)\n",
    "    model.compile(\n",
    "        loss='binary_crossentropy',  # Binary_crossentropy for multi-label classification\n",
    "        optimizer='adam',\n",
    "        metrics={f'digit_{i}': 'accuracy' for i in range(3)}\n",
    "    )\n",
    "    return model\n",
    "\n",
    "# Example usage\n",
    "model = create_cnn_model_sgbc()\n",
    "model.summary()"
   ]
  },
  {
   "cell_type": "markdown",
   "id": "87518f44-caf2-4628-a325-f8d5d8c88457",
   "metadata": {},
   "source": [
    "## **8B. Train The Model with 'binary_crossentropy' function as the loss function.**"
   ]
  },
  {
   "cell_type": "code",
   "execution_count": 54,
   "id": "9e245d52-4ac7-4faf-97b2-2e08628e3513",
   "metadata": {},
   "outputs": [
    {
     "name": "stdout",
     "output_type": "stream",
     "text": [
      "Epoch 1/20\n",
      "\u001b[1m250/250\u001b[0m \u001b[32m━━━━━━━━━━━━━━━━━━━━\u001b[0m\u001b[37m\u001b[0m \u001b[1m33s\u001b[0m 98ms/step - digit_0_accuracy: 0.1043 - digit_1_accuracy: 0.1056 - digit_2_accuracy: 0.1031 - loss: 1.3526 - val_digit_0_accuracy: 0.2121 - val_digit_1_accuracy: 0.2536 - val_digit_2_accuracy: 0.1408 - val_loss: 0.9907 - learning_rate: 0.0010\n",
      "Epoch 2/20\n",
      "\u001b[1m250/250\u001b[0m \u001b[32m━━━━━━━━━━━━━━━━━━━━\u001b[0m\u001b[37m\u001b[0m \u001b[1m22s\u001b[0m 90ms/step - digit_0_accuracy: 0.2276 - digit_1_accuracy: 0.2232 - digit_2_accuracy: 0.1916 - loss: 0.9703 - val_digit_0_accuracy: 0.4298 - val_digit_1_accuracy: 0.4882 - val_digit_2_accuracy: 0.4065 - val_loss: 0.8317 - learning_rate: 0.0010\n",
      "Epoch 3/20\n",
      "\u001b[1m250/250\u001b[0m \u001b[32m━━━━━━━━━━━━━━━━━━━━\u001b[0m\u001b[37m\u001b[0m \u001b[1m23s\u001b[0m 94ms/step - digit_0_accuracy: 0.3769 - digit_1_accuracy: 0.4160 - digit_2_accuracy: 0.3430 - loss: 0.8572 - val_digit_0_accuracy: 0.5990 - val_digit_1_accuracy: 0.6433 - val_digit_2_accuracy: 0.5247 - val_loss: 0.7406 - learning_rate: 0.0010\n",
      "Epoch 4/20\n",
      "\u001b[1m250/250\u001b[0m \u001b[32m━━━━━━━━━━━━━━━━━━━━\u001b[0m\u001b[37m\u001b[0m \u001b[1m25s\u001b[0m 98ms/step - digit_0_accuracy: 0.4899 - digit_1_accuracy: 0.5131 - digit_2_accuracy: 0.4258 - loss: 0.7948 - val_digit_0_accuracy: 0.6778 - val_digit_1_accuracy: 0.7242 - val_digit_2_accuracy: 0.6072 - val_loss: 0.6815 - learning_rate: 0.0010\n",
      "Epoch 5/20\n",
      "\u001b[1m250/250\u001b[0m \u001b[32m━━━━━━━━━━━━━━━━━━━━\u001b[0m\u001b[37m\u001b[0m \u001b[1m25s\u001b[0m 99ms/step - digit_0_accuracy: 0.5585 - digit_1_accuracy: 0.5828 - digit_2_accuracy: 0.4886 - loss: 0.7496 - val_digit_0_accuracy: 0.7548 - val_digit_1_accuracy: 0.7772 - val_digit_2_accuracy: 0.6784 - val_loss: 0.6318 - learning_rate: 0.0010\n",
      "Epoch 6/20\n",
      "\u001b[1m250/250\u001b[0m \u001b[32m━━━━━━━━━━━━━━━━━━━━\u001b[0m\u001b[37m\u001b[0m \u001b[1m26s\u001b[0m 105ms/step - digit_0_accuracy: 0.6068 - digit_1_accuracy: 0.6397 - digit_2_accuracy: 0.5443 - loss: 0.7117 - val_digit_0_accuracy: 0.7687 - val_digit_1_accuracy: 0.8228 - val_digit_2_accuracy: 0.7269 - val_loss: 0.5928 - learning_rate: 0.0010\n",
      "Epoch 7/20\n",
      "\u001b[1m250/250\u001b[0m \u001b[32m━━━━━━━━━━━━━━━━━━━━\u001b[0m\u001b[37m\u001b[0m \u001b[1m24s\u001b[0m 96ms/step - digit_0_accuracy: 0.6490 - digit_1_accuracy: 0.6760 - digit_2_accuracy: 0.5698 - loss: 0.6843 - val_digit_0_accuracy: 0.8297 - val_digit_1_accuracy: 0.8411 - val_digit_2_accuracy: 0.7600 - val_loss: 0.5581 - learning_rate: 0.0010\n",
      "Epoch 8/20\n",
      "\u001b[1m250/250\u001b[0m \u001b[32m━━━━━━━━━━━━━━━━━━━━\u001b[0m\u001b[37m\u001b[0m \u001b[1m25s\u001b[0m 100ms/step - digit_0_accuracy: 0.6743 - digit_1_accuracy: 0.7034 - digit_2_accuracy: 0.6045 - loss: 0.6583 - val_digit_0_accuracy: 0.8540 - val_digit_1_accuracy: 0.8619 - val_digit_2_accuracy: 0.7763 - val_loss: 0.5308 - learning_rate: 0.0010\n",
      "Epoch 9/20\n",
      "\u001b[1m250/250\u001b[0m \u001b[32m━━━━━━━━━━━━━━━━━━━━\u001b[0m\u001b[37m\u001b[0m \u001b[1m25s\u001b[0m 101ms/step - digit_0_accuracy: 0.7032 - digit_1_accuracy: 0.7323 - digit_2_accuracy: 0.6326 - loss: 0.6348 - val_digit_0_accuracy: 0.8660 - val_digit_1_accuracy: 0.8731 - val_digit_2_accuracy: 0.7973 - val_loss: 0.5071 - learning_rate: 0.0010\n",
      "Epoch 10/20\n",
      "\u001b[1m250/250\u001b[0m \u001b[32m━━━━━━━━━━━━━━━━━━━━\u001b[0m\u001b[37m\u001b[0m \u001b[1m25s\u001b[0m 99ms/step - digit_0_accuracy: 0.7248 - digit_1_accuracy: 0.7409 - digit_2_accuracy: 0.6474 - loss: 0.6209 - val_digit_0_accuracy: 0.8759 - val_digit_1_accuracy: 0.8885 - val_digit_2_accuracy: 0.8186 - val_loss: 0.4875 - learning_rate: 0.0010\n",
      "Epoch 11/20\n",
      "\u001b[1m250/250\u001b[0m \u001b[32m━━━━━━━━━━━━━━━━━━━━\u001b[0m\u001b[37m\u001b[0m \u001b[1m25s\u001b[0m 102ms/step - digit_0_accuracy: 0.7463 - digit_1_accuracy: 0.7743 - digit_2_accuracy: 0.6719 - loss: 0.5984 - val_digit_0_accuracy: 0.8890 - val_digit_1_accuracy: 0.8950 - val_digit_2_accuracy: 0.8251 - val_loss: 0.4679 - learning_rate: 0.0010\n",
      "Epoch 12/20\n",
      "\u001b[1m250/250\u001b[0m \u001b[32m━━━━━━━━━━━━━━━━━━━━\u001b[0m\u001b[37m\u001b[0m \u001b[1m25s\u001b[0m 100ms/step - digit_0_accuracy: 0.7683 - digit_1_accuracy: 0.7888 - digit_2_accuracy: 0.6949 - loss: 0.5756 - val_digit_0_accuracy: 0.8957 - val_digit_1_accuracy: 0.9025 - val_digit_2_accuracy: 0.8417 - val_loss: 0.4480 - learning_rate: 1.0000e-04\n",
      "Epoch 13/20\n",
      "\u001b[1m250/250\u001b[0m \u001b[32m━━━━━━━━━━━━━━━━━━━━\u001b[0m\u001b[37m\u001b[0m \u001b[1m24s\u001b[0m 97ms/step - digit_0_accuracy: 0.7767 - digit_1_accuracy: 0.7959 - digit_2_accuracy: 0.6970 - loss: 0.5635 - val_digit_0_accuracy: 0.8982 - val_digit_1_accuracy: 0.9039 - val_digit_2_accuracy: 0.8453 - val_loss: 0.4415 - learning_rate: 1.0000e-04\n",
      "Epoch 14/20\n",
      "\u001b[1m250/250\u001b[0m \u001b[32m━━━━━━━━━━━━━━━━━━━━\u001b[0m\u001b[37m\u001b[0m \u001b[1m25s\u001b[0m 100ms/step - digit_0_accuracy: 0.7771 - digit_1_accuracy: 0.7947 - digit_2_accuracy: 0.7069 - loss: 0.5593 - val_digit_0_accuracy: 0.8998 - val_digit_1_accuracy: 0.9049 - val_digit_2_accuracy: 0.8481 - val_loss: 0.4373 - learning_rate: 1.0000e-04\n",
      "Epoch 15/20\n",
      "\u001b[1m250/250\u001b[0m \u001b[32m━━━━━━━━━━━━━━━━━━━━\u001b[0m\u001b[37m\u001b[0m \u001b[1m24s\u001b[0m 96ms/step - digit_0_accuracy: 0.7808 - digit_1_accuracy: 0.7978 - digit_2_accuracy: 0.7070 - loss: 0.5551 - val_digit_0_accuracy: 0.8998 - val_digit_1_accuracy: 0.9054 - val_digit_2_accuracy: 0.8480 - val_loss: 0.4331 - learning_rate: 1.0000e-04\n",
      "Epoch 16/20\n",
      "\u001b[1m250/250\u001b[0m \u001b[32m━━━━━━━━━━━━━━━━━━━━\u001b[0m\u001b[37m\u001b[0m \u001b[1m24s\u001b[0m 98ms/step - digit_0_accuracy: 0.7817 - digit_1_accuracy: 0.7986 - digit_2_accuracy: 0.7151 - loss: 0.5490 - val_digit_0_accuracy: 0.9023 - val_digit_1_accuracy: 0.9079 - val_digit_2_accuracy: 0.8518 - val_loss: 0.4302 - learning_rate: 1.0000e-04\n",
      "Epoch 17/20\n",
      "\u001b[1m250/250\u001b[0m \u001b[32m━━━━━━━━━━━━━━━━━━━━\u001b[0m\u001b[37m\u001b[0m \u001b[1m23s\u001b[0m 94ms/step - digit_0_accuracy: 0.7831 - digit_1_accuracy: 0.8034 - digit_2_accuracy: 0.7116 - loss: 0.5465 - val_digit_0_accuracy: 0.9028 - val_digit_1_accuracy: 0.9083 - val_digit_2_accuracy: 0.8536 - val_loss: 0.4268 - learning_rate: 1.0000e-04\n",
      "Epoch 18/20\n",
      "\u001b[1m250/250\u001b[0m \u001b[32m━━━━━━━━━━━━━━━━━━━━\u001b[0m\u001b[37m\u001b[0m \u001b[1m27s\u001b[0m 107ms/step - digit_0_accuracy: 0.7851 - digit_1_accuracy: 0.7996 - digit_2_accuracy: 0.7169 - loss: 0.5451 - val_digit_0_accuracy: 0.9028 - val_digit_1_accuracy: 0.9091 - val_digit_2_accuracy: 0.8546 - val_loss: 0.4240 - learning_rate: 1.0000e-04\n",
      "Epoch 19/20\n",
      "\u001b[1m250/250\u001b[0m \u001b[32m━━━━━━━━━━━━━━━━━━━━\u001b[0m\u001b[37m\u001b[0m \u001b[1m22s\u001b[0m 88ms/step - digit_0_accuracy: 0.7889 - digit_1_accuracy: 0.8065 - digit_2_accuracy: 0.7174 - loss: 0.5391 - val_digit_0_accuracy: 0.9034 - val_digit_1_accuracy: 0.9091 - val_digit_2_accuracy: 0.8577 - val_loss: 0.4214 - learning_rate: 1.0000e-04\n",
      "Epoch 20/20\n",
      "\u001b[1m250/250\u001b[0m \u001b[32m━━━━━━━━━━━━━━━━━━━━\u001b[0m\u001b[37m\u001b[0m \u001b[1m20s\u001b[0m 80ms/step - digit_0_accuracy: 0.7876 - digit_1_accuracy: 0.8097 - digit_2_accuracy: 0.7181 - loss: 0.5369 - val_digit_0_accuracy: 0.9049 - val_digit_1_accuracy: 0.9104 - val_digit_2_accuracy: 0.8591 - val_loss: 0.4183 - learning_rate: 1.0000e-04\n",
      "Epoch 1/20\n",
      "\u001b[1m250/250\u001b[0m \u001b[32m━━━━━━━━━━━━━━━━━━━━\u001b[0m\u001b[37m\u001b[0m \u001b[1m31s\u001b[0m 90ms/step - digit_0_accuracy: 0.1098 - digit_1_accuracy: 0.1065 - digit_2_accuracy: 0.1109 - loss: 1.3668 - val_digit_0_accuracy: 0.2295 - val_digit_1_accuracy: 0.1578 - val_digit_2_accuracy: 0.1208 - val_loss: 0.9954 - learning_rate: 0.0010\n",
      "Epoch 2/20\n",
      "\u001b[1m250/250\u001b[0m \u001b[32m━━━━━━━━━━━━━━━━━━━━\u001b[0m\u001b[37m\u001b[0m \u001b[1m20s\u001b[0m 80ms/step - digit_0_accuracy: 0.2008 - digit_1_accuracy: 0.1825 - digit_2_accuracy: 0.1705 - loss: 0.9822 - val_digit_0_accuracy: 0.3643 - val_digit_1_accuracy: 0.4292 - val_digit_2_accuracy: 0.3927 - val_loss: 0.8668 - learning_rate: 0.0010\n",
      "Epoch 3/20\n",
      "\u001b[1m250/250\u001b[0m \u001b[32m━━━━━━━━━━━━━━━━━━━━\u001b[0m\u001b[37m\u001b[0m \u001b[1m21s\u001b[0m 82ms/step - digit_0_accuracy: 0.3263 - digit_1_accuracy: 0.3741 - digit_2_accuracy: 0.3264 - loss: 0.8830 - val_digit_0_accuracy: 0.5803 - val_digit_1_accuracy: 0.6020 - val_digit_2_accuracy: 0.5175 - val_loss: 0.7600 - learning_rate: 0.0010\n",
      "Epoch 4/20\n",
      "\u001b[1m250/250\u001b[0m \u001b[32m━━━━━━━━━━━━━━━━━━━━\u001b[0m\u001b[37m\u001b[0m \u001b[1m22s\u001b[0m 89ms/step - digit_0_accuracy: 0.4739 - digit_1_accuracy: 0.5056 - digit_2_accuracy: 0.4218 - loss: 0.8073 - val_digit_0_accuracy: 0.6954 - val_digit_1_accuracy: 0.7209 - val_digit_2_accuracy: 0.6387 - val_loss: 0.6825 - learning_rate: 0.0010\n",
      "Epoch 5/20\n",
      "\u001b[1m250/250\u001b[0m \u001b[32m━━━━━━━━━━━━━━━━━━━━\u001b[0m\u001b[37m\u001b[0m \u001b[1m21s\u001b[0m 85ms/step - digit_0_accuracy: 0.5546 - digit_1_accuracy: 0.5818 - digit_2_accuracy: 0.4954 - loss: 0.7545 - val_digit_0_accuracy: 0.7720 - val_digit_1_accuracy: 0.7963 - val_digit_2_accuracy: 0.6923 - val_loss: 0.6298 - learning_rate: 0.0010\n",
      "Epoch 6/20\n",
      "\u001b[1m250/250\u001b[0m \u001b[32m━━━━━━━━━━━━━━━━━━━━\u001b[0m\u001b[37m\u001b[0m \u001b[1m21s\u001b[0m 83ms/step - digit_0_accuracy: 0.6085 - digit_1_accuracy: 0.6404 - digit_2_accuracy: 0.5471 - loss: 0.7162 - val_digit_0_accuracy: 0.8060 - val_digit_1_accuracy: 0.8257 - val_digit_2_accuracy: 0.7187 - val_loss: 0.5944 - learning_rate: 0.0010\n",
      "Epoch 7/20\n",
      "\u001b[1m250/250\u001b[0m \u001b[32m━━━━━━━━━━━━━━━━━━━━\u001b[0m\u001b[37m\u001b[0m \u001b[1m20s\u001b[0m 81ms/step - digit_0_accuracy: 0.6564 - digit_1_accuracy: 0.6684 - digit_2_accuracy: 0.5771 - loss: 0.6878 - val_digit_0_accuracy: 0.8324 - val_digit_1_accuracy: 0.8456 - val_digit_2_accuracy: 0.7609 - val_loss: 0.5607 - learning_rate: 0.0010\n",
      "Epoch 8/20\n",
      "\u001b[1m250/250\u001b[0m \u001b[32m━━━━━━━━━━━━━━━━━━━━\u001b[0m\u001b[37m\u001b[0m \u001b[1m25s\u001b[0m 99ms/step - digit_0_accuracy: 0.6829 - digit_1_accuracy: 0.7109 - digit_2_accuracy: 0.6151 - loss: 0.6589 - val_digit_0_accuracy: 0.8540 - val_digit_1_accuracy: 0.8666 - val_digit_2_accuracy: 0.7701 - val_loss: 0.5321 - learning_rate: 0.0010\n",
      "Epoch 9/20\n",
      "\u001b[1m250/250\u001b[0m \u001b[32m━━━━━━━━━━━━━━━━━━━━\u001b[0m\u001b[37m\u001b[0m \u001b[1m26s\u001b[0m 106ms/step - digit_0_accuracy: 0.7167 - digit_1_accuracy: 0.7296 - digit_2_accuracy: 0.6324 - loss: 0.6397 - val_digit_0_accuracy: 0.8704 - val_digit_1_accuracy: 0.8823 - val_digit_2_accuracy: 0.7990 - val_loss: 0.5071 - learning_rate: 0.0010\n",
      "Epoch 10/20\n",
      "\u001b[1m250/250\u001b[0m \u001b[32m━━━━━━━━━━━━━━━━━━━━\u001b[0m\u001b[37m\u001b[0m \u001b[1m24s\u001b[0m 94ms/step - digit_0_accuracy: 0.7308 - digit_1_accuracy: 0.7485 - digit_2_accuracy: 0.6583 - loss: 0.6197 - val_digit_0_accuracy: 0.8805 - val_digit_1_accuracy: 0.8900 - val_digit_2_accuracy: 0.8181 - val_loss: 0.4896 - learning_rate: 0.0010\n",
      "Epoch 11/20\n",
      "\u001b[1m250/250\u001b[0m \u001b[32m━━━━━━━━━━━━━━━━━━━━\u001b[0m\u001b[37m\u001b[0m \u001b[1m24s\u001b[0m 96ms/step - digit_0_accuracy: 0.7529 - digit_1_accuracy: 0.7608 - digit_2_accuracy: 0.6728 - loss: 0.6048 - val_digit_0_accuracy: 0.8919 - val_digit_1_accuracy: 0.8963 - val_digit_2_accuracy: 0.8305 - val_loss: 0.4678 - learning_rate: 0.0010\n",
      "Epoch 12/20\n",
      "\u001b[1m250/250\u001b[0m \u001b[32m━━━━━━━━━━━━━━━━━━━━\u001b[0m\u001b[37m\u001b[0m \u001b[1m26s\u001b[0m 104ms/step - digit_0_accuracy: 0.7834 - digit_1_accuracy: 0.7908 - digit_2_accuracy: 0.6942 - loss: 0.5746 - val_digit_0_accuracy: 0.9012 - val_digit_1_accuracy: 0.9078 - val_digit_2_accuracy: 0.8470 - val_loss: 0.4453 - learning_rate: 1.0000e-04\n",
      "Epoch 13/20\n",
      "\u001b[1m250/250\u001b[0m \u001b[32m━━━━━━━━━━━━━━━━━━━━\u001b[0m\u001b[37m\u001b[0m \u001b[1m36s\u001b[0m 145ms/step - digit_0_accuracy: 0.7824 - digit_1_accuracy: 0.7938 - digit_2_accuracy: 0.7100 - loss: 0.5653 - val_digit_0_accuracy: 0.9026 - val_digit_1_accuracy: 0.9078 - val_digit_2_accuracy: 0.8491 - val_loss: 0.4392 - learning_rate: 1.0000e-04\n",
      "Epoch 14/20\n",
      "\u001b[1m250/250\u001b[0m \u001b[32m━━━━━━━━━━━━━━━━━━━━\u001b[0m\u001b[37m\u001b[0m \u001b[1m27s\u001b[0m 108ms/step - digit_0_accuracy: 0.7868 - digit_1_accuracy: 0.7984 - digit_2_accuracy: 0.7141 - loss: 0.5577 - val_digit_0_accuracy: 0.9039 - val_digit_1_accuracy: 0.9084 - val_digit_2_accuracy: 0.8500 - val_loss: 0.4350 - learning_rate: 1.0000e-04\n",
      "Epoch 15/20\n",
      "\u001b[1m250/250\u001b[0m \u001b[32m━━━━━━━━━━━━━━━━━━━━\u001b[0m\u001b[37m\u001b[0m \u001b[1m27s\u001b[0m 109ms/step - digit_0_accuracy: 0.7827 - digit_1_accuracy: 0.7976 - digit_2_accuracy: 0.7156 - loss: 0.5554 - val_digit_0_accuracy: 0.9046 - val_digit_1_accuracy: 0.9096 - val_digit_2_accuracy: 0.8539 - val_loss: 0.4307 - learning_rate: 1.0000e-04\n",
      "Epoch 16/20\n",
      "\u001b[1m250/250\u001b[0m \u001b[32m━━━━━━━━━━━━━━━━━━━━\u001b[0m\u001b[37m\u001b[0m \u001b[1m27s\u001b[0m 110ms/step - digit_0_accuracy: 0.7841 - digit_1_accuracy: 0.7986 - digit_2_accuracy: 0.7215 - loss: 0.5506 - val_digit_0_accuracy: 0.9057 - val_digit_1_accuracy: 0.9116 - val_digit_2_accuracy: 0.8549 - val_loss: 0.4281 - learning_rate: 1.0000e-04\n",
      "Epoch 17/20\n",
      "\u001b[1m250/250\u001b[0m \u001b[32m━━━━━━━━━━━━━━━━━━━━\u001b[0m\u001b[37m\u001b[0m \u001b[1m27s\u001b[0m 109ms/step - digit_0_accuracy: 0.7923 - digit_1_accuracy: 0.8017 - digit_2_accuracy: 0.7233 - loss: 0.5473 - val_digit_0_accuracy: 0.9070 - val_digit_1_accuracy: 0.9120 - val_digit_2_accuracy: 0.8568 - val_loss: 0.4242 - learning_rate: 1.0000e-04\n",
      "Epoch 18/20\n",
      "\u001b[1m250/250\u001b[0m \u001b[32m━━━━━━━━━━━━━━━━━━━━\u001b[0m\u001b[37m\u001b[0m \u001b[1m27s\u001b[0m 109ms/step - digit_0_accuracy: 0.7905 - digit_1_accuracy: 0.7996 - digit_2_accuracy: 0.7233 - loss: 0.5446 - val_digit_0_accuracy: 0.9072 - val_digit_1_accuracy: 0.9124 - val_digit_2_accuracy: 0.8602 - val_loss: 0.4221 - learning_rate: 1.0000e-04\n",
      "Epoch 19/20\n",
      "\u001b[1m250/250\u001b[0m \u001b[32m━━━━━━━━━━━━━━━━━━━━\u001b[0m\u001b[37m\u001b[0m \u001b[1m25s\u001b[0m 101ms/step - digit_0_accuracy: 0.7923 - digit_1_accuracy: 0.8030 - digit_2_accuracy: 0.7267 - loss: 0.5410 - val_digit_0_accuracy: 0.9085 - val_digit_1_accuracy: 0.9131 - val_digit_2_accuracy: 0.8617 - val_loss: 0.4185 - learning_rate: 1.0000e-04\n",
      "Epoch 20/20\n",
      "\u001b[1m250/250\u001b[0m \u001b[32m━━━━━━━━━━━━━━━━━━━━\u001b[0m\u001b[37m\u001b[0m \u001b[1m23s\u001b[0m 91ms/step - digit_0_accuracy: 0.7963 - digit_1_accuracy: 0.8053 - digit_2_accuracy: 0.7252 - loss: 0.5391 - val_digit_0_accuracy: 0.9095 - val_digit_1_accuracy: 0.9142 - val_digit_2_accuracy: 0.8621 - val_loss: 0.4162 - learning_rate: 1.0000e-04\n"
     ]
    }
   ],
   "source": [
    "for train_index, val_index in kf.split(X_train):\n",
    "    X_train_fold, X_val_fold = X_train[train_index], X_train[val_index]\n",
    "    y_train_fold = {key: y_train_dict[key][train_index] for key in y_train_dict}\n",
    "    y_val_fold = {key: y_train_dict[key][val_index] for key in y_train_dict}\n",
    "\n",
    "    model = create_cnn_model_sgbc()  # Using CNN model with 'binary_crossentropy' function as the loss function\n",
    "\n",
    "    history = model.fit(\n",
    "        custom_data_generator(X_train_fold, y_train_fold, batch_size=128),\n",
    "        epochs=20, verbose=1, steps_per_epoch=len(X_train_fold) // 128,\n",
    "        validation_data=(X_val_fold, y_val_fold),\n",
    "        callbacks=[early_stopping, lr_scheduler, tensorboard_callback]    )"
   ]
  },
  {
   "cell_type": "markdown",
   "id": "68ae9ac1-e3fe-4075-8fe1-1c9cfd96fc4f",
   "metadata": {},
   "source": [
    "## **9B. Evaluate The Model with Sigmoid activation function and 'binary_crossentropy' as the loss function**\n",
    "Evaluate the model and print the accuracy and loss metrics."
   ]
  },
  {
   "cell_type": "code",
   "execution_count": 55,
   "id": "c3d1877d-dd60-496d-9b93-47a050475f1a",
   "metadata": {},
   "outputs": [
    {
     "data": {
      "image/png": "[encoded data removed]",
      "text/plain": [
       "<Figure size 1400x500 with 2 Axes>"
      ]
     },
     "metadata": {},
     "output_type": "display_data"
    }
   ],
   "source": [
    "# Plot learning curves for the last fold\n",
    "plot_learning_curves(history)"
   ]
  },
  {
   "cell_type": "markdown",
   "id": "83dbf7e3-0107-493b-85a4-dafae108c1c6",
   "metadata": {},
   "source": [
    "## Interpretation\n",
    "The model is on the right track. Both training loss and validation loss decreasing over time, which is good, although the accuracy for digit 2 (purple lines) is lower than for digits 0 and 1.\n",
    "\n",
    "### Training and Validation Accuracy\n",
    "Although the training accuracy is slightly higher than the validation accuracy, the gap between them is not very large. That means the model is not overfitting.\n",
    "\n",
    "### Training and validation Loss\n",
    "\n",
    "The loss for both training and validation decreases significantly in the first few epochs and then stabilized, decreasing slowly.\n",
    "\n",
    "##### The lowest loss using 'binary-crossentropy' as the loss function is around  is around 0.5, which is lower than loss using 'categorical-crossentropy' as the loss function.\n",
    "\n",
    "### Next Plan: \n",
    "- Increase Model Complexity: Consider adding more layers or units to the model, especially to increase accuracy for digit 2 (purple lines).\n",
    "- Hyperparameter Tuning: Experiment with different learning rates, batch sizes, and regularization techniques. Increase fold number. With more folds, the validation estimate is more robust and less variable and better Generalization.\n",
    "- Using Batch Normalization to normalize the inputs to a layer for each mini-batch, to reduce the internal covariate shift.\n",
    "\n",
    "The model is good, but requires further tuning and possibly a more complex architecture to improve its performance.\n"
   ]
  },
  {
   "cell_type": "markdown",
   "id": "94de9f5e-c76d-47c7-996a-2020ad6927bf",
   "metadata": {},
   "source": [
    "## **7C. Using Model with Softmax as Activation Function and binary_crossentropy as the activation function**"
   ]
  },
  {
   "cell_type": "code",
   "execution_count": 38,
   "id": "8bb401af-2576-4985-9f7e-aea157c3c307",
   "metadata": {},
   "outputs": [
    {
     "data": {
      "text/html": [
       "<pre style=\"white-space:pre;overflow-x:auto;line-height:normal;font-family:Menlo,'DejaVu Sans Mono',consolas,'Courier New',monospace\"><span style=\"font-weight: bold\">Model: \"functional_1\"</span>\n",
       "</pre>\n"
      ],
      "text/plain": [
       "\u001b[1mModel: \"functional_1\"\u001b[0m\n"
      ]
     },
     "metadata": {},
     "output_type": "display_data"
    },
    {
     "data": {
      "text/html": [
       "<pre style=\"white-space:pre;overflow-x:auto;line-height:normal;font-family:Menlo,'DejaVu Sans Mono',consolas,'Courier New',monospace\">┏━━━━━━━━━━━━━━━━━━━━━┳━━━━━━━━━━━━━━━━━━━┳━━━━━━━━━━━━┳━━━━━━━━━━━━━━━━━━━┓\n",
       "┃<span style=\"font-weight: bold\"> Layer (type)        </span>┃<span style=\"font-weight: bold\"> Output Shape      </span>┃<span style=\"font-weight: bold\">    Param # </span>┃<span style=\"font-weight: bold\"> Connected to      </span>┃\n",
       "┡━━━━━━━━━━━━━━━━━━━━━╇━━━━━━━━━━━━━━━━━━━╇━━━━━━━━━━━━╇━━━━━━━━━━━━━━━━━━━┩\n",
       "│ input_layer         │ (<span style=\"color: #00d7ff; text-decoration-color: #00d7ff\">None</span>, <span style=\"color: #00af00; text-decoration-color: #00af00\">28</span>, <span style=\"color: #00af00; text-decoration-color: #00af00\">28</span>, <span style=\"color: #00af00; text-decoration-color: #00af00\">1</span>) │          <span style=\"color: #00af00; text-decoration-color: #00af00\">0</span> │ -                 │\n",
       "│ (<span style=\"color: #0087ff; text-decoration-color: #0087ff\">InputLayer</span>)        │                   │            │                   │\n",
       "├─────────────────────┼───────────────────┼────────────┼───────────────────┤\n",
       "│ conv2d (<span style=\"color: #0087ff; text-decoration-color: #0087ff\">Conv2D</span>)     │ (<span style=\"color: #00d7ff; text-decoration-color: #00d7ff\">None</span>, <span style=\"color: #00af00; text-decoration-color: #00af00\">26</span>, <span style=\"color: #00af00; text-decoration-color: #00af00\">26</span>,    │        <span style=\"color: #00af00; text-decoration-color: #00af00\">320</span> │ input_layer[<span style=\"color: #00af00; text-decoration-color: #00af00\">0</span>][<span style=\"color: #00af00; text-decoration-color: #00af00\">0</span>] │\n",
       "│                     │ <span style=\"color: #00af00; text-decoration-color: #00af00\">32</span>)               │            │                   │\n",
       "├─────────────────────┼───────────────────┼────────────┼───────────────────┤\n",
       "│ max_pooling2d       │ (<span style=\"color: #00d7ff; text-decoration-color: #00d7ff\">None</span>, <span style=\"color: #00af00; text-decoration-color: #00af00\">13</span>, <span style=\"color: #00af00; text-decoration-color: #00af00\">13</span>,    │          <span style=\"color: #00af00; text-decoration-color: #00af00\">0</span> │ conv2d[<span style=\"color: #00af00; text-decoration-color: #00af00\">0</span>][<span style=\"color: #00af00; text-decoration-color: #00af00\">0</span>]      │\n",
       "│ (<span style=\"color: #0087ff; text-decoration-color: #0087ff\">MaxPooling2D</span>)      │ <span style=\"color: #00af00; text-decoration-color: #00af00\">32</span>)               │            │                   │\n",
       "├─────────────────────┼───────────────────┼────────────┼───────────────────┤\n",
       "│ dropout (<span style=\"color: #0087ff; text-decoration-color: #0087ff\">Dropout</span>)   │ (<span style=\"color: #00d7ff; text-decoration-color: #00d7ff\">None</span>, <span style=\"color: #00af00; text-decoration-color: #00af00\">13</span>, <span style=\"color: #00af00; text-decoration-color: #00af00\">13</span>,    │          <span style=\"color: #00af00; text-decoration-color: #00af00\">0</span> │ max_pooling2d[<span style=\"color: #00af00; text-decoration-color: #00af00\">0</span>]… │\n",
       "│                     │ <span style=\"color: #00af00; text-decoration-color: #00af00\">32</span>)               │            │                   │\n",
       "├─────────────────────┼───────────────────┼────────────┼───────────────────┤\n",
       "│ conv2d_1 (<span style=\"color: #0087ff; text-decoration-color: #0087ff\">Conv2D</span>)   │ (<span style=\"color: #00d7ff; text-decoration-color: #00d7ff\">None</span>, <span style=\"color: #00af00; text-decoration-color: #00af00\">11</span>, <span style=\"color: #00af00; text-decoration-color: #00af00\">11</span>,    │     <span style=\"color: #00af00; text-decoration-color: #00af00\">18,496</span> │ dropout[<span style=\"color: #00af00; text-decoration-color: #00af00\">0</span>][<span style=\"color: #00af00; text-decoration-color: #00af00\">0</span>]     │\n",
       "│                     │ <span style=\"color: #00af00; text-decoration-color: #00af00\">64</span>)               │            │                   │\n",
       "├─────────────────────┼───────────────────┼────────────┼───────────────────┤\n",
       "│ max_pooling2d_1     │ (<span style=\"color: #00d7ff; text-decoration-color: #00d7ff\">None</span>, <span style=\"color: #00af00; text-decoration-color: #00af00\">5</span>, <span style=\"color: #00af00; text-decoration-color: #00af00\">5</span>, <span style=\"color: #00af00; text-decoration-color: #00af00\">64</span>)  │          <span style=\"color: #00af00; text-decoration-color: #00af00\">0</span> │ conv2d_1[<span style=\"color: #00af00; text-decoration-color: #00af00\">0</span>][<span style=\"color: #00af00; text-decoration-color: #00af00\">0</span>]    │\n",
       "│ (<span style=\"color: #0087ff; text-decoration-color: #0087ff\">MaxPooling2D</span>)      │                   │            │                   │\n",
       "├─────────────────────┼───────────────────┼────────────┼───────────────────┤\n",
       "│ dropout_1 (<span style=\"color: #0087ff; text-decoration-color: #0087ff\">Dropout</span>) │ (<span style=\"color: #00d7ff; text-decoration-color: #00d7ff\">None</span>, <span style=\"color: #00af00; text-decoration-color: #00af00\">5</span>, <span style=\"color: #00af00; text-decoration-color: #00af00\">5</span>, <span style=\"color: #00af00; text-decoration-color: #00af00\">64</span>)  │          <span style=\"color: #00af00; text-decoration-color: #00af00\">0</span> │ max_pooling2d_1[<span style=\"color: #00af00; text-decoration-color: #00af00\">…</span> │\n",
       "├─────────────────────┼───────────────────┼────────────┼───────────────────┤\n",
       "│ flatten (<span style=\"color: #0087ff; text-decoration-color: #0087ff\">Flatten</span>)   │ (<span style=\"color: #00d7ff; text-decoration-color: #00d7ff\">None</span>, <span style=\"color: #00af00; text-decoration-color: #00af00\">1600</span>)      │          <span style=\"color: #00af00; text-decoration-color: #00af00\">0</span> │ dropout_1[<span style=\"color: #00af00; text-decoration-color: #00af00\">0</span>][<span style=\"color: #00af00; text-decoration-color: #00af00\">0</span>]   │\n",
       "├─────────────────────┼───────────────────┼────────────┼───────────────────┤\n",
       "│ dense (<span style=\"color: #0087ff; text-decoration-color: #0087ff\">Dense</span>)       │ (<span style=\"color: #00d7ff; text-decoration-color: #00d7ff\">None</span>, <span style=\"color: #00af00; text-decoration-color: #00af00\">256</span>)       │    <span style=\"color: #00af00; text-decoration-color: #00af00\">409,856</span> │ flatten[<span style=\"color: #00af00; text-decoration-color: #00af00\">0</span>][<span style=\"color: #00af00; text-decoration-color: #00af00\">0</span>]     │\n",
       "├─────────────────────┼───────────────────┼────────────┼───────────────────┤\n",
       "│ dropout_2 (<span style=\"color: #0087ff; text-decoration-color: #0087ff\">Dropout</span>) │ (<span style=\"color: #00d7ff; text-decoration-color: #00d7ff\">None</span>, <span style=\"color: #00af00; text-decoration-color: #00af00\">256</span>)       │          <span style=\"color: #00af00; text-decoration-color: #00af00\">0</span> │ dense[<span style=\"color: #00af00; text-decoration-color: #00af00\">0</span>][<span style=\"color: #00af00; text-decoration-color: #00af00\">0</span>]       │\n",
       "├─────────────────────┼───────────────────┼────────────┼───────────────────┤\n",
       "│ digit_0 (<span style=\"color: #0087ff; text-decoration-color: #0087ff\">Dense</span>)     │ (<span style=\"color: #00d7ff; text-decoration-color: #00d7ff\">None</span>, <span style=\"color: #00af00; text-decoration-color: #00af00\">10</span>)        │      <span style=\"color: #00af00; text-decoration-color: #00af00\">2,570</span> │ dropout_2[<span style=\"color: #00af00; text-decoration-color: #00af00\">0</span>][<span style=\"color: #00af00; text-decoration-color: #00af00\">0</span>]   │\n",
       "├─────────────────────┼───────────────────┼────────────┼───────────────────┤\n",
       "│ digit_1 (<span style=\"color: #0087ff; text-decoration-color: #0087ff\">Dense</span>)     │ (<span style=\"color: #00d7ff; text-decoration-color: #00d7ff\">None</span>, <span style=\"color: #00af00; text-decoration-color: #00af00\">10</span>)        │      <span style=\"color: #00af00; text-decoration-color: #00af00\">2,570</span> │ dropout_2[<span style=\"color: #00af00; text-decoration-color: #00af00\">0</span>][<span style=\"color: #00af00; text-decoration-color: #00af00\">0</span>]   │\n",
       "├─────────────────────┼───────────────────┼────────────┼───────────────────┤\n",
       "│ digit_2 (<span style=\"color: #0087ff; text-decoration-color: #0087ff\">Dense</span>)     │ (<span style=\"color: #00d7ff; text-decoration-color: #00d7ff\">None</span>, <span style=\"color: #00af00; text-decoration-color: #00af00\">10</span>)        │      <span style=\"color: #00af00; text-decoration-color: #00af00\">2,570</span> │ dropout_2[<span style=\"color: #00af00; text-decoration-color: #00af00\">0</span>][<span style=\"color: #00af00; text-decoration-color: #00af00\">0</span>]   │\n",
       "└─────────────────────┴───────────────────┴────────────┴───────────────────┘\n",
       "</pre>\n"
      ],
      "text/plain": [
       "┏━━━━━━━━━━━━━━━━━━━━━┳━━━━━━━━━━━━━━━━━━━┳━━━━━━━━━━━━┳━━━━━━━━━━━━━━━━━━━┓\n",
       "┃\u001b[1m \u001b[0m\u001b[1mLayer (type)       \u001b[0m\u001b[1m \u001b[0m┃\u001b[1m \u001b[0m\u001b[1mOutput Shape     \u001b[0m\u001b[1m \u001b[0m┃\u001b[1m \u001b[0m\u001b[1m   Param #\u001b[0m\u001b[1m \u001b[0m┃\u001b[1m \u001b[0m\u001b[1mConnected to     \u001b[0m\u001b[1m \u001b[0m┃\n",
       "┡━━━━━━━━━━━━━━━━━━━━━╇━━━━━━━━━━━━━━━━━━━╇━━━━━━━━━━━━╇━━━━━━━━━━━━━━━━━━━┩\n",
       "│ input_layer         │ (\u001b[38;5;45mNone\u001b[0m, \u001b[38;5;34m28\u001b[0m, \u001b[38;5;34m28\u001b[0m, \u001b[38;5;34m1\u001b[0m) │          \u001b[38;5;34m0\u001b[0m │ -                 │\n",
       "│ (\u001b[38;5;33mInputLayer\u001b[0m)        │                   │            │                   │\n",
       "├─────────────────────┼───────────────────┼────────────┼───────────────────┤\n",
       "│ conv2d (\u001b[38;5;33mConv2D\u001b[0m)     │ (\u001b[38;5;45mNone\u001b[0m, \u001b[38;5;34m26\u001b[0m, \u001b[38;5;34m26\u001b[0m,    │        \u001b[38;5;34m320\u001b[0m │ input_layer[\u001b[38;5;34m0\u001b[0m][\u001b[38;5;34m0\u001b[0m] │\n",
       "│                     │ \u001b[38;5;34m32\u001b[0m)               │            │                   │\n",
       "├─────────────────────┼───────────────────┼────────────┼───────────────────┤\n",
       "│ max_pooling2d       │ (\u001b[38;5;45mNone\u001b[0m, \u001b[38;5;34m13\u001b[0m, \u001b[38;5;34m13\u001b[0m,    │          \u001b[38;5;34m0\u001b[0m │ conv2d[\u001b[38;5;34m0\u001b[0m][\u001b[38;5;34m0\u001b[0m]      │\n",
       "│ (\u001b[38;5;33mMaxPooling2D\u001b[0m)      │ \u001b[38;5;34m32\u001b[0m)               │            │                   │\n",
       "├─────────────────────┼───────────────────┼────────────┼───────────────────┤\n",
       "│ dropout (\u001b[38;5;33mDropout\u001b[0m)   │ (\u001b[38;5;45mNone\u001b[0m, \u001b[38;5;34m13\u001b[0m, \u001b[38;5;34m13\u001b[0m,    │          \u001b[38;5;34m0\u001b[0m │ max_pooling2d[\u001b[38;5;34m0\u001b[0m]… │\n",
       "│                     │ \u001b[38;5;34m32\u001b[0m)               │            │                   │\n",
       "├─────────────────────┼───────────────────┼────────────┼───────────────────┤\n",
       "│ conv2d_1 (\u001b[38;5;33mConv2D\u001b[0m)   │ (\u001b[38;5;45mNone\u001b[0m, \u001b[38;5;34m11\u001b[0m, \u001b[38;5;34m11\u001b[0m,    │     \u001b[38;5;34m18,496\u001b[0m │ dropout[\u001b[38;5;34m0\u001b[0m][\u001b[38;5;34m0\u001b[0m]     │\n",
       "│                     │ \u001b[38;5;34m64\u001b[0m)               │            │                   │\n",
       "├─────────────────────┼───────────────────┼────────────┼───────────────────┤\n",
       "│ max_pooling2d_1     │ (\u001b[38;5;45mNone\u001b[0m, \u001b[38;5;34m5\u001b[0m, \u001b[38;5;34m5\u001b[0m, \u001b[38;5;34m64\u001b[0m)  │          \u001b[38;5;34m0\u001b[0m │ conv2d_1[\u001b[38;5;34m0\u001b[0m][\u001b[38;5;34m0\u001b[0m]    │\n",
       "│ (\u001b[38;5;33mMaxPooling2D\u001b[0m)      │                   │            │                   │\n",
       "├─────────────────────┼───────────────────┼────────────┼───────────────────┤\n",
       "│ dropout_1 (\u001b[38;5;33mDropout\u001b[0m) │ (\u001b[38;5;45mNone\u001b[0m, \u001b[38;5;34m5\u001b[0m, \u001b[38;5;34m5\u001b[0m, \u001b[38;5;34m64\u001b[0m)  │          \u001b[38;5;34m0\u001b[0m │ max_pooling2d_1[\u001b[38;5;34m…\u001b[0m │\n",
       "├─────────────────────┼───────────────────┼────────────┼───────────────────┤\n",
       "│ flatten (\u001b[38;5;33mFlatten\u001b[0m)   │ (\u001b[38;5;45mNone\u001b[0m, \u001b[38;5;34m1600\u001b[0m)      │          \u001b[38;5;34m0\u001b[0m │ dropout_1[\u001b[38;5;34m0\u001b[0m][\u001b[38;5;34m0\u001b[0m]   │\n",
       "├─────────────────────┼───────────────────┼────────────┼───────────────────┤\n",
       "│ dense (\u001b[38;5;33mDense\u001b[0m)       │ (\u001b[38;5;45mNone\u001b[0m, \u001b[38;5;34m256\u001b[0m)       │    \u001b[38;5;34m409,856\u001b[0m │ flatten[\u001b[38;5;34m0\u001b[0m][\u001b[38;5;34m0\u001b[0m]     │\n",
       "├─────────────────────┼───────────────────┼────────────┼───────────────────┤\n",
       "│ dropout_2 (\u001b[38;5;33mDropout\u001b[0m) │ (\u001b[38;5;45mNone\u001b[0m, \u001b[38;5;34m256\u001b[0m)       │          \u001b[38;5;34m0\u001b[0m │ dense[\u001b[38;5;34m0\u001b[0m][\u001b[38;5;34m0\u001b[0m]       │\n",
       "├─────────────────────┼───────────────────┼────────────┼───────────────────┤\n",
       "│ digit_0 (\u001b[38;5;33mDense\u001b[0m)     │ (\u001b[38;5;45mNone\u001b[0m, \u001b[38;5;34m10\u001b[0m)        │      \u001b[38;5;34m2,570\u001b[0m │ dropout_2[\u001b[38;5;34m0\u001b[0m][\u001b[38;5;34m0\u001b[0m]   │\n",
       "├─────────────────────┼───────────────────┼────────────┼───────────────────┤\n",
       "│ digit_1 (\u001b[38;5;33mDense\u001b[0m)     │ (\u001b[38;5;45mNone\u001b[0m, \u001b[38;5;34m10\u001b[0m)        │      \u001b[38;5;34m2,570\u001b[0m │ dropout_2[\u001b[38;5;34m0\u001b[0m][\u001b[38;5;34m0\u001b[0m]   │\n",
       "├─────────────────────┼───────────────────┼────────────┼───────────────────┤\n",
       "│ digit_2 (\u001b[38;5;33mDense\u001b[0m)     │ (\u001b[38;5;45mNone\u001b[0m, \u001b[38;5;34m10\u001b[0m)        │      \u001b[38;5;34m2,570\u001b[0m │ dropout_2[\u001b[38;5;34m0\u001b[0m][\u001b[38;5;34m0\u001b[0m]   │\n",
       "└─────────────────────┴───────────────────┴────────────┴───────────────────┘\n"
      ]
     },
     "metadata": {},
     "output_type": "display_data"
    },
    {
     "data": {
      "text/html": [
       "<pre style=\"white-space:pre;overflow-x:auto;line-height:normal;font-family:Menlo,'DejaVu Sans Mono',consolas,'Courier New',monospace\"><span style=\"font-weight: bold\"> Total params: </span><span style=\"color: #00af00; text-decoration-color: #00af00\">436,382</span> (1.66 MB)\n",
       "</pre>\n"
      ],
      "text/plain": [
       "\u001b[1m Total params: \u001b[0m\u001b[38;5;34m436,382\u001b[0m (1.66 MB)\n"
      ]
     },
     "metadata": {},
     "output_type": "display_data"
    },
    {
     "data": {
      "text/html": [
       "<pre style=\"white-space:pre;overflow-x:auto;line-height:normal;font-family:Menlo,'DejaVu Sans Mono',consolas,'Courier New',monospace\"><span style=\"font-weight: bold\"> Trainable params: </span><span style=\"color: #00af00; text-decoration-color: #00af00\">436,382</span> (1.66 MB)\n",
       "</pre>\n"
      ],
      "text/plain": [
       "\u001b[1m Trainable params: \u001b[0m\u001b[38;5;34m436,382\u001b[0m (1.66 MB)\n"
      ]
     },
     "metadata": {},
     "output_type": "display_data"
    },
    {
     "data": {
      "text/html": [
       "<pre style=\"white-space:pre;overflow-x:auto;line-height:normal;font-family:Menlo,'DejaVu Sans Mono',consolas,'Courier New',monospace\"><span style=\"font-weight: bold\"> Non-trainable params: </span><span style=\"color: #00af00; text-decoration-color: #00af00\">0</span> (0.00 B)\n",
       "</pre>\n"
      ],
      "text/plain": [
       "\u001b[1m Non-trainable params: \u001b[0m\u001b[38;5;34m0\u001b[0m (0.00 B)\n"
      ]
     },
     "metadata": {},
     "output_type": "display_data"
    }
   ],
   "source": [
    "def create_cnn_model_smaxbc():\n",
    "    inputs = Input(shape=(28, 28, 1))  # Input shape for a 28x28 grayscale image\n",
    "    x = Conv2D(32, kernel_size=(3, 3), activation='relu', kernel_regularizer=l2(0.001))(inputs)\n",
    "    x = MaxPooling2D(pool_size=(2, 2))(x)\n",
    "    x = Dropout(0.25)(x)\n",
    "    x = Conv2D(64, kernel_size=(3, 3), activation='relu', kernel_regularizer=l2(0.001))(x)\n",
    "    x = MaxPooling2D(pool_size=(2, 2))(x)\n",
    "    x = Dropout(0.25)(x)\n",
    "    x = Flatten()(x)\n",
    "    x = Dense(256, activation='relu', kernel_regularizer=l2(0.001))(x)\n",
    "    x = Dropout(0.5)(x)\n",
    "    outputs = [Dense(10, activation='softmax', name=f'digit_{i}')(x) for i in range(3)]\n",
    "    model = Model(inputs=inputs, outputs=outputs)\n",
    "    model.compile(\n",
    "        loss='binary_crossentropy',  # usually categorical_crossentropy is for multi-class classification, not for multi-label classification.\n",
    "        optimizer='adam',\n",
    "        metrics={f'digit_{i}': 'accuracy' for i in range(3)}\n",
    "    )\n",
    "    return model\n",
    "\n",
    "# Example usage\n",
    "model = create_cnn_model_smaxbc()\n",
    "model.summary()"
   ]
  },
  {
   "cell_type": "code",
   "execution_count": 81,
   "id": "02e5359e-84ca-4030-b990-d3fe0cce17fe",
   "metadata": {},
   "outputs": [
    {
     "name": "stdout",
     "output_type": "stream",
     "text": [
      "Epoch 1/20\n",
      "\u001b[1m250/250\u001b[0m \u001b[32m━━━━━━━━━━━━━━━━━━━━\u001b[0m\u001b[37m\u001b[0m \u001b[1m22s\u001b[0m 70ms/step - digit_0_accuracy: 0.1367 - digit_1_accuracy: 0.1359 - digit_2_accuracy: 0.1286 - loss: 2.8616 - val_digit_0_accuracy: 0.1027 - val_digit_1_accuracy: 0.0938 - val_digit_2_accuracy: 0.0930 - val_loss: 2.7829 - learning_rate: 0.0010\n",
      "Epoch 2/20\n",
      "\u001b[1m250/250\u001b[0m \u001b[32m━━━━━━━━━━━━━━━━━━━━\u001b[0m\u001b[37m\u001b[0m \u001b[1m17s\u001b[0m 69ms/step - digit_0_accuracy: 0.5393 - digit_1_accuracy: 0.5333 - digit_2_accuracy: 0.5015 - loss: 1.0798 - val_digit_0_accuracy: 0.3619 - val_digit_1_accuracy: 0.3368 - val_digit_2_accuracy: 0.4577 - val_loss: 1.0653 - learning_rate: 0.0010\n",
      "Epoch 3/20\n",
      "\u001b[1m250/250\u001b[0m \u001b[32m━━━━━━━━━━━━━━━━━━━━\u001b[0m\u001b[37m\u001b[0m \u001b[1m17s\u001b[0m 70ms/step - digit_0_accuracy: 0.8757 - digit_1_accuracy: 0.8761 - digit_2_accuracy: 0.8720 - loss: 0.4905 - val_digit_0_accuracy: 0.9036 - val_digit_1_accuracy: 0.9184 - val_digit_2_accuracy: 0.8978 - val_loss: 0.3827 - learning_rate: 0.0010\n",
      "Epoch 4/20\n",
      "\u001b[1m250/250\u001b[0m \u001b[32m━━━━━━━━━━━━━━━━━━━━\u001b[0m\u001b[37m\u001b[0m \u001b[1m17s\u001b[0m 69ms/step - digit_0_accuracy: 0.9250 - digit_1_accuracy: 0.9200 - digit_2_accuracy: 0.9252 - loss: 0.3150 - val_digit_0_accuracy: 0.9412 - val_digit_1_accuracy: 0.9415 - val_digit_2_accuracy: 0.9401 - val_loss: 0.2549 - learning_rate: 0.0010\n",
      "Epoch 5/20\n",
      "\u001b[1m250/250\u001b[0m \u001b[32m━━━━━━━━━━━━━━━━━━━━\u001b[0m\u001b[37m\u001b[0m \u001b[1m17s\u001b[0m 69ms/step - digit_0_accuracy: 0.9321 - digit_1_accuracy: 0.9292 - digit_2_accuracy: 0.9351 - loss: 0.2667 - val_digit_0_accuracy: 0.9624 - val_digit_1_accuracy: 0.9633 - val_digit_2_accuracy: 0.9647 - val_loss: 0.1860 - learning_rate: 0.0010\n",
      "Epoch 6/20\n",
      "\u001b[1m250/250\u001b[0m \u001b[32m━━━━━━━━━━━━━━━━━━━━\u001b[0m\u001b[37m\u001b[0m \u001b[1m17s\u001b[0m 70ms/step - digit_0_accuracy: 0.9429 - digit_1_accuracy: 0.9368 - digit_2_accuracy: 0.9418 - loss: 0.2452 - val_digit_0_accuracy: 0.9407 - val_digit_1_accuracy: 0.9440 - val_digit_2_accuracy: 0.9487 - val_loss: 0.2760 - learning_rate: 0.0010\n",
      "Epoch 7/20\n",
      "\u001b[1m250/250\u001b[0m \u001b[32m━━━━━━━━━━━━━━━━━━━━\u001b[0m\u001b[37m\u001b[0m \u001b[1m18s\u001b[0m 70ms/step - digit_0_accuracy: 0.9445 - digit_1_accuracy: 0.9387 - digit_2_accuracy: 0.9422 - loss: 0.2404 - val_digit_0_accuracy: 0.9233 - val_digit_1_accuracy: 0.9214 - val_digit_2_accuracy: 0.9108 - val_loss: 0.4053 - learning_rate: 0.0010\n",
      "Epoch 8/20\n",
      "\u001b[1m250/250\u001b[0m \u001b[32m━━━━━━━━━━━━━━━━━━━━\u001b[0m\u001b[37m\u001b[0m \u001b[1m18s\u001b[0m 70ms/step - digit_0_accuracy: 0.9440 - digit_1_accuracy: 0.9408 - digit_2_accuracy: 0.9466 - loss: 0.2339 - val_digit_0_accuracy: 0.9081 - val_digit_1_accuracy: 0.8608 - val_digit_2_accuracy: 0.9042 - val_loss: 0.4159 - learning_rate: 0.0010\n",
      "Epoch 9/20\n",
      "\u001b[1m250/250\u001b[0m \u001b[32m━━━━━━━━━━━━━━━━━━━━\u001b[0m\u001b[37m\u001b[0m \u001b[1m18s\u001b[0m 71ms/step - digit_0_accuracy: 0.9468 - digit_1_accuracy: 0.9454 - digit_2_accuracy: 0.9481 - loss: 0.2306 - val_digit_0_accuracy: 0.9518 - val_digit_1_accuracy: 0.9294 - val_digit_2_accuracy: 0.9511 - val_loss: 0.2620 - learning_rate: 0.0010\n",
      "Epoch 10/20\n",
      "\u001b[1m250/250\u001b[0m \u001b[32m━━━━━━━━━━━━━━━━━━━━\u001b[0m\u001b[37m\u001b[0m \u001b[1m17s\u001b[0m 70ms/step - digit_0_accuracy: 0.9490 - digit_1_accuracy: 0.9425 - digit_2_accuracy: 0.9498 - loss: 0.2306 - val_digit_0_accuracy: 0.9721 - val_digit_1_accuracy: 0.9709 - val_digit_2_accuracy: 0.9712 - val_loss: 0.1688 - learning_rate: 0.0010\n",
      "Epoch 11/20\n",
      "\u001b[1m250/250\u001b[0m \u001b[32m━━━━━━━━━━━━━━━━━━━━\u001b[0m\u001b[37m\u001b[0m \u001b[1m18s\u001b[0m 70ms/step - digit_0_accuracy: 0.9490 - digit_1_accuracy: 0.9464 - digit_2_accuracy: 0.9531 - loss: 0.2240 - val_digit_0_accuracy: 0.9721 - val_digit_1_accuracy: 0.9723 - val_digit_2_accuracy: 0.9739 - val_loss: 0.1640 - learning_rate: 0.0010\n",
      "Epoch 12/20\n",
      "\u001b[1m250/250\u001b[0m \u001b[32m━━━━━━━━━━━━━━━━━━━━\u001b[0m\u001b[37m\u001b[0m \u001b[1m18s\u001b[0m 70ms/step - digit_0_accuracy: 0.9573 - digit_1_accuracy: 0.9525 - digit_2_accuracy: 0.9567 - loss: 0.2091 - val_digit_0_accuracy: 0.9769 - val_digit_1_accuracy: 0.9775 - val_digit_2_accuracy: 0.9783 - val_loss: 0.1404 - learning_rate: 1.0000e-04\n",
      "Epoch 13/20\n",
      "\u001b[1m250/250\u001b[0m \u001b[32m━━━━━━━━━━━━━━━━━━━━\u001b[0m\u001b[37m\u001b[0m \u001b[1m17s\u001b[0m 69ms/step - digit_0_accuracy: 0.9644 - digit_1_accuracy: 0.9600 - digit_2_accuracy: 0.9644 - loss: 0.1783 - val_digit_0_accuracy: 0.9790 - val_digit_1_accuracy: 0.9803 - val_digit_2_accuracy: 0.9802 - val_loss: 0.1247 - learning_rate: 1.0000e-04\n",
      "Epoch 14/20\n",
      "\u001b[1m250/250\u001b[0m \u001b[32m━━━━━━━━━━━━━━━━━━━━\u001b[0m\u001b[37m\u001b[0m \u001b[1m18s\u001b[0m 70ms/step - digit_0_accuracy: 0.9658 - digit_1_accuracy: 0.9634 - digit_2_accuracy: 0.9661 - loss: 0.1617 - val_digit_0_accuracy: 0.9806 - val_digit_1_accuracy: 0.9817 - val_digit_2_accuracy: 0.9810 - val_loss: 0.1132 - learning_rate: 1.0000e-04\n",
      "Epoch 15/20\n",
      "\u001b[1m250/250\u001b[0m \u001b[32m━━━━━━━━━━━━━━━━━━━━\u001b[0m\u001b[37m\u001b[0m \u001b[1m17s\u001b[0m 69ms/step - digit_0_accuracy: 0.9664 - digit_1_accuracy: 0.9642 - digit_2_accuracy: 0.9687 - loss: 0.1501 - val_digit_0_accuracy: 0.9809 - val_digit_1_accuracy: 0.9819 - val_digit_2_accuracy: 0.9811 - val_loss: 0.1050 - learning_rate: 1.0000e-04\n",
      "Epoch 16/20\n",
      "\u001b[1m250/250\u001b[0m \u001b[32m━━━━━━━━━━━━━━━━━━━━\u001b[0m\u001b[37m\u001b[0m \u001b[1m17s\u001b[0m 69ms/step - digit_0_accuracy: 0.9694 - digit_1_accuracy: 0.9678 - digit_2_accuracy: 0.9710 - loss: 0.1377 - val_digit_0_accuracy: 0.9805 - val_digit_1_accuracy: 0.9820 - val_digit_2_accuracy: 0.9818 - val_loss: 0.0980 - learning_rate: 1.0000e-04\n",
      "Epoch 17/20\n",
      "\u001b[1m250/250\u001b[0m \u001b[32m━━━━━━━━━━━━━━━━━━━━\u001b[0m\u001b[37m\u001b[0m \u001b[1m17s\u001b[0m 70ms/step - digit_0_accuracy: 0.9711 - digit_1_accuracy: 0.9677 - digit_2_accuracy: 0.9726 - loss: 0.1302 - val_digit_0_accuracy: 0.9807 - val_digit_1_accuracy: 0.9822 - val_digit_2_accuracy: 0.9814 - val_loss: 0.0931 - learning_rate: 1.0000e-04\n",
      "Epoch 18/20\n",
      "\u001b[1m250/250\u001b[0m \u001b[32m━━━━━━━━━━━━━━━━━━━━\u001b[0m\u001b[37m\u001b[0m \u001b[1m17s\u001b[0m 69ms/step - digit_0_accuracy: 0.9728 - digit_1_accuracy: 0.9709 - digit_2_accuracy: 0.9739 - loss: 0.1211 - val_digit_0_accuracy: 0.9808 - val_digit_1_accuracy: 0.9822 - val_digit_2_accuracy: 0.9808 - val_loss: 0.0905 - learning_rate: 1.0000e-04\n",
      "Epoch 19/20\n",
      "\u001b[1m250/250\u001b[0m \u001b[32m━━━━━━━━━━━━━━━━━━━━\u001b[0m\u001b[37m\u001b[0m \u001b[1m18s\u001b[0m 70ms/step - digit_0_accuracy: 0.9726 - digit_1_accuracy: 0.9673 - digit_2_accuracy: 0.9751 - loss: 0.1175 - val_digit_0_accuracy: 0.9788 - val_digit_1_accuracy: 0.9794 - val_digit_2_accuracy: 0.9785 - val_loss: 0.0928 - learning_rate: 1.0000e-04\n",
      "Epoch 20/20\n",
      "\u001b[1m250/250\u001b[0m \u001b[32m━━━━━━━━━━━━━━━━━━━━\u001b[0m\u001b[37m\u001b[0m \u001b[1m17s\u001b[0m 70ms/step - digit_0_accuracy: 0.9721 - digit_1_accuracy: 0.9685 - digit_2_accuracy: 0.9726 - loss: 0.1143 - val_digit_0_accuracy: 0.9810 - val_digit_1_accuracy: 0.9830 - val_digit_2_accuracy: 0.9827 - val_loss: 0.0811 - learning_rate: 1.0000e-04\n",
      "Epoch 1/20\n",
      "\u001b[1m250/250\u001b[0m \u001b[32m━━━━━━━━━━━━━━━━━━━━\u001b[0m\u001b[37m\u001b[0m \u001b[1m22s\u001b[0m 71ms/step - digit_0_accuracy: 0.1405 - digit_1_accuracy: 0.1314 - digit_2_accuracy: 0.1273 - loss: 2.8458 - val_digit_0_accuracy: 0.1036 - val_digit_1_accuracy: 0.0933 - val_digit_2_accuracy: 0.0922 - val_loss: 2.0899 - learning_rate: 0.0010\n",
      "Epoch 2/20\n",
      "\u001b[1m250/250\u001b[0m \u001b[32m━━━━━━━━━━━━━━━━━━━━\u001b[0m\u001b[37m\u001b[0m \u001b[1m17s\u001b[0m 70ms/step - digit_0_accuracy: 0.6087 - digit_1_accuracy: 0.5931 - digit_2_accuracy: 0.5593 - loss: 1.0247 - val_digit_0_accuracy: 0.5795 - val_digit_1_accuracy: 0.4139 - val_digit_2_accuracy: 0.4567 - val_loss: 1.1083 - learning_rate: 0.0010\n",
      "Epoch 3/20\n",
      "\u001b[1m250/250\u001b[0m \u001b[32m━━━━━━━━━━━━━━━━━━━━\u001b[0m\u001b[37m\u001b[0m \u001b[1m17s\u001b[0m 69ms/step - digit_0_accuracy: 0.8885 - digit_1_accuracy: 0.8833 - digit_2_accuracy: 0.8816 - loss: 0.4720 - val_digit_0_accuracy: 0.9094 - val_digit_1_accuracy: 0.8966 - val_digit_2_accuracy: 0.8916 - val_loss: 0.3897 - learning_rate: 0.0010\n",
      "Epoch 4/20\n",
      "\u001b[1m250/250\u001b[0m \u001b[32m━━━━━━━━━━━━━━━━━━━━\u001b[0m\u001b[37m\u001b[0m \u001b[1m17s\u001b[0m 69ms/step - digit_0_accuracy: 0.9261 - digit_1_accuracy: 0.9250 - digit_2_accuracy: 0.9253 - loss: 0.3100 - val_digit_0_accuracy: 0.9632 - val_digit_1_accuracy: 0.9580 - val_digit_2_accuracy: 0.9644 - val_loss: 0.2134 - learning_rate: 0.0010\n",
      "Epoch 5/20\n",
      "\u001b[1m250/250\u001b[0m \u001b[32m━━━━━━━━━━━━━━━━━━━━\u001b[0m\u001b[37m\u001b[0m \u001b[1m17s\u001b[0m 70ms/step - digit_0_accuracy: 0.9380 - digit_1_accuracy: 0.9332 - digit_2_accuracy: 0.9403 - loss: 0.2615 - val_digit_0_accuracy: 0.9661 - val_digit_1_accuracy: 0.9629 - val_digit_2_accuracy: 0.9672 - val_loss: 0.1843 - learning_rate: 0.0010\n",
      "Epoch 6/20\n",
      "\u001b[1m250/250\u001b[0m \u001b[32m━━━━━━━━━━━━━━━━━━━━\u001b[0m\u001b[37m\u001b[0m \u001b[1m17s\u001b[0m 70ms/step - digit_0_accuracy: 0.9423 - digit_1_accuracy: 0.9437 - digit_2_accuracy: 0.9439 - loss: 0.2419 - val_digit_0_accuracy: 0.9672 - val_digit_1_accuracy: 0.9638 - val_digit_2_accuracy: 0.9694 - val_loss: 0.1774 - learning_rate: 0.0010\n",
      "Epoch 7/20\n",
      "\u001b[1m250/250\u001b[0m \u001b[32m━━━━━━━━━━━━━━━━━━━━\u001b[0m\u001b[37m\u001b[0m \u001b[1m18s\u001b[0m 72ms/step - digit_0_accuracy: 0.9438 - digit_1_accuracy: 0.9399 - digit_2_accuracy: 0.9471 - loss: 0.2367 - val_digit_0_accuracy: 0.9699 - val_digit_1_accuracy: 0.9682 - val_digit_2_accuracy: 0.9705 - val_loss: 0.1819 - learning_rate: 0.0010\n",
      "Epoch 8/20\n",
      "\u001b[1m250/250\u001b[0m \u001b[32m━━━━━━━━━━━━━━━━━━━━\u001b[0m\u001b[37m\u001b[0m \u001b[1m18s\u001b[0m 74ms/step - digit_0_accuracy: 0.9461 - digit_1_accuracy: 0.9451 - digit_2_accuracy: 0.9448 - loss: 0.2321 - val_digit_0_accuracy: 0.9707 - val_digit_1_accuracy: 0.9702 - val_digit_2_accuracy: 0.9743 - val_loss: 0.1660 - learning_rate: 0.0010\n",
      "Epoch 9/20\n",
      "\u001b[1m250/250\u001b[0m \u001b[32m━━━━━━━━━━━━━━━━━━━━\u001b[0m\u001b[37m\u001b[0m \u001b[1m18s\u001b[0m 71ms/step - digit_0_accuracy: 0.9496 - digit_1_accuracy: 0.9459 - digit_2_accuracy: 0.9488 - loss: 0.2277 - val_digit_0_accuracy: 0.9737 - val_digit_1_accuracy: 0.9726 - val_digit_2_accuracy: 0.9745 - val_loss: 0.1648 - learning_rate: 0.0010\n",
      "Epoch 10/20\n",
      "\u001b[1m250/250\u001b[0m \u001b[32m━━━━━━━━━━━━━━━━━━━━\u001b[0m\u001b[37m\u001b[0m \u001b[1m18s\u001b[0m 70ms/step - digit_0_accuracy: 0.9500 - digit_1_accuracy: 0.9508 - digit_2_accuracy: 0.9513 - loss: 0.2256 - val_digit_0_accuracy: 0.9732 - val_digit_1_accuracy: 0.9722 - val_digit_2_accuracy: 0.9752 - val_loss: 0.1650 - learning_rate: 0.0010\n",
      "Epoch 11/20\n",
      "\u001b[1m250/250\u001b[0m \u001b[32m━━━━━━━━━━━━━━━━━━━━\u001b[0m\u001b[37m\u001b[0m \u001b[1m16s\u001b[0m 65ms/step - digit_0_accuracy: 0.9495 - digit_1_accuracy: 0.9484 - digit_2_accuracy: 0.9523 - loss: 0.2232 - val_digit_0_accuracy: 0.9675 - val_digit_1_accuracy: 0.9692 - val_digit_2_accuracy: 0.9705 - val_loss: 0.1731 - learning_rate: 0.0010\n",
      "Epoch 12/20\n",
      "\u001b[1m250/250\u001b[0m \u001b[32m━━━━━━━━━━━━━━━━━━━━\u001b[0m\u001b[37m\u001b[0m \u001b[1m17s\u001b[0m 68ms/step - digit_0_accuracy: 0.9559 - digit_1_accuracy: 0.9596 - digit_2_accuracy: 0.9613 - loss: 0.2035 - val_digit_0_accuracy: 0.9792 - val_digit_1_accuracy: 0.9772 - val_digit_2_accuracy: 0.9805 - val_loss: 0.1386 - learning_rate: 1.0000e-04\n",
      "Epoch 13/20\n",
      "\u001b[1m250/250\u001b[0m \u001b[32m━━━━━━━━━━━━━━━━━━━━\u001b[0m\u001b[37m\u001b[0m \u001b[1m18s\u001b[0m 72ms/step - digit_0_accuracy: 0.9631 - digit_1_accuracy: 0.9642 - digit_2_accuracy: 0.9660 - loss: 0.1758 - val_digit_0_accuracy: 0.9800 - val_digit_1_accuracy: 0.9778 - val_digit_2_accuracy: 0.9814 - val_loss: 0.1255 - learning_rate: 1.0000e-04\n",
      "Epoch 14/20\n",
      "\u001b[1m250/250\u001b[0m \u001b[32m━━━━━━━━━━━━━━━━━━━━\u001b[0m\u001b[37m\u001b[0m \u001b[1m19s\u001b[0m 76ms/step - digit_0_accuracy: 0.9663 - digit_1_accuracy: 0.9668 - digit_2_accuracy: 0.9703 - loss: 0.1575 - val_digit_0_accuracy: 0.9806 - val_digit_1_accuracy: 0.9784 - val_digit_2_accuracy: 0.9823 - val_loss: 0.1145 - learning_rate: 1.0000e-04\n",
      "Epoch 15/20\n",
      "\u001b[1m250/250\u001b[0m \u001b[32m━━━━━━━━━━━━━━━━━━━━\u001b[0m\u001b[37m\u001b[0m \u001b[1m19s\u001b[0m 75ms/step - digit_0_accuracy: 0.9672 - digit_1_accuracy: 0.9695 - digit_2_accuracy: 0.9716 - loss: 0.1456 - val_digit_0_accuracy: 0.9814 - val_digit_1_accuracy: 0.9790 - val_digit_2_accuracy: 0.9824 - val_loss: 0.1058 - learning_rate: 1.0000e-04\n",
      "Epoch 16/20\n",
      "\u001b[1m250/250\u001b[0m \u001b[32m━━━━━━━━━━━━━━━━━━━━\u001b[0m\u001b[37m\u001b[0m \u001b[1m19s\u001b[0m 74ms/step - digit_0_accuracy: 0.9687 - digit_1_accuracy: 0.9698 - digit_2_accuracy: 0.9707 - loss: 0.1361 - val_digit_0_accuracy: 0.9810 - val_digit_1_accuracy: 0.9795 - val_digit_2_accuracy: 0.9825 - val_loss: 0.0994 - learning_rate: 1.0000e-04\n",
      "Epoch 17/20\n",
      "\u001b[1m250/250\u001b[0m \u001b[32m━━━━━━━━━━━━━━━━━━━━\u001b[0m\u001b[37m\u001b[0m \u001b[1m18s\u001b[0m 74ms/step - digit_0_accuracy: 0.9696 - digit_1_accuracy: 0.9704 - digit_2_accuracy: 0.9697 - loss: 0.1299 - val_digit_0_accuracy: 0.9815 - val_digit_1_accuracy: 0.9797 - val_digit_2_accuracy: 0.9832 - val_loss: 0.0937 - learning_rate: 1.0000e-04\n",
      "Epoch 18/20\n",
      "\u001b[1m250/250\u001b[0m \u001b[32m━━━━━━━━━━━━━━━━━━━━\u001b[0m\u001b[37m\u001b[0m \u001b[1m19s\u001b[0m 76ms/step - digit_0_accuracy: 0.9718 - digit_1_accuracy: 0.9712 - digit_2_accuracy: 0.9735 - loss: 0.1204 - val_digit_0_accuracy: 0.9816 - val_digit_1_accuracy: 0.9789 - val_digit_2_accuracy: 0.9825 - val_loss: 0.0914 - learning_rate: 1.0000e-04\n",
      "Epoch 19/20\n",
      "\u001b[1m250/250\u001b[0m \u001b[32m━━━━━━━━━━━━━━━━━━━━\u001b[0m\u001b[37m\u001b[0m \u001b[1m18s\u001b[0m 73ms/step - digit_0_accuracy: 0.9704 - digit_1_accuracy: 0.9728 - digit_2_accuracy: 0.9739 - loss: 0.1155 - val_digit_0_accuracy: 0.9816 - val_digit_1_accuracy: 0.9804 - val_digit_2_accuracy: 0.9829 - val_loss: 0.0856 - learning_rate: 1.0000e-04\n",
      "Epoch 20/20\n",
      "\u001b[1m250/250\u001b[0m \u001b[32m━━━━━━━━━━━━━━━━━━━━\u001b[0m\u001b[37m\u001b[0m \u001b[1m18s\u001b[0m 70ms/step - digit_0_accuracy: 0.9725 - digit_1_accuracy: 0.9716 - digit_2_accuracy: 0.9719 - loss: 0.1132 - val_digit_0_accuracy: 0.9819 - val_digit_1_accuracy: 0.9799 - val_digit_2_accuracy: 0.9832 - val_loss: 0.0828 - learning_rate: 1.0000e-04\n"
     ]
    }
   ],
   "source": [
    "for train_index, val_index in kf.split(X_train):\n",
    "    X_train_fold, X_val_fold = X_train[train_index], X_train[val_index]\n",
    "    y_train_fold = {key: y_train_dict[key][train_index] for key in y_train_dict}\n",
    "    y_val_fold = {key: y_train_dict[key][val_index] for key in y_train_dict}\n",
    "\n",
    "    model = create_cnn_model_smaxbc()  # Using CNN model with 'binary_crossentropy' function as the loss function\n",
    "\n",
    "    history = model.fit(\n",
    "        custom_data_generator(X_train_fold, y_train_fold, batch_size=128),\n",
    "        epochs=20, verbose=1, steps_per_epoch=len(X_train_fold) // 128,\n",
    "        validation_data=(X_val_fold, y_val_fold),\n",
    "        callbacks=[early_stopping, lr_scheduler, tensorboard_callback]    )"
   ]
  },
  {
   "cell_type": "code",
   "execution_count": 82,
   "id": "e21718ef-ade9-4023-83e3-1d2dbafb4267",
   "metadata": {},
   "outputs": [
    {
     "data": {
      "image/png": "[encoded data removed]",
      "text/plain": [
       "<Figure size 1400x500 with 2 Axes>"
      ]
     },
     "metadata": {},
     "output_type": "display_data"
    }
   ],
   "source": [
    "# Plot learning curves for the last fold\n",
    "plot_learning_curves(history)"
   ]
  },
  {
   "cell_type": "markdown",
   "id": "1cdb5739-db18-4310-b563-9f37495ccd90",
   "metadata": {},
   "source": [
    "## **10. Hyperparameter Tuning**\n",
    "- Perform 'keras-tuner' tuning to identify the best model parameters.\n",
    "- Apply regularization techniques to prevent overfitting.\n",
    "- Use cross-validation to obtain a more reliable estimate of the model's performance. \n",
    "- Use batch Normalization to normalize the inputs to a layer for each mini-batch. This reduces the internal covariate shift."
   ]
  },
  {
   "cell_type": "markdown",
   "id": "a1328cdd-0f66-441a-9752-876d34f0542e",
   "metadata": {},
   "source": [
    "### **Using Keras Tuner to optimize the CNN hypermodel and setting up a tuner to find the best hyperparameters.**"
   ]
  },
  {
   "cell_type": "code",
   "execution_count": 99,
   "id": "d9f3bd82-efd0-4484-89fe-37d88d2770b2",
   "metadata": {},
   "outputs": [
    {
     "name": "stdout",
     "output_type": "stream",
     "text": [
      "Trial 20 Complete [00h 22m 29s]\n",
      "val_loss: 0.07059618085622787\n",
      "\n",
      "Best val_loss So Far: 0.06173119693994522\n",
      "Total elapsed time: 05h 47m 46s\n",
      " \n",
      "{'conv_1_filters': 96, 'conv_2_filters': 128, 'conv_3_filters': 128, 'dense_units': 256}\n"
     ]
    }
   ],
   "source": [
    "def build_model(hp):\n",
    "    inputs = Input(shape=(28, 28, 1))\n",
    "    \n",
    "    # First Convolutional Block\n",
    "    x = Conv2D(\n",
    "        filters=hp.Int('conv_1_filters', min_value=32, max_value=128, step=32),\n",
    "        kernel_size=(3, 3),\n",
    "        activation='relu',\n",
    "        padding='same',\n",
    "        kernel_regularizer=l2(0.001)\n",
    "    )(inputs)\n",
    "    x = BatchNormalization()(x)\n",
    "    x = MaxPooling2D(pool_size=(2, 2))(x)\n",
    "    x = Dropout(0.25)(x)\n",
    "    \n",
    "    # Second Convolutional Block\n",
    "    x = Conv2D(\n",
    "        filters=hp.Int('conv_2_filters', min_value=64, max_value=256, step=64),\n",
    "        kernel_size=(3, 3),\n",
    "        activation='relu',\n",
    "        padding='same',\n",
    "        kernel_regularizer=l2(0.001)\n",
    "    )(x)\n",
    "    x = BatchNormalization()(x)\n",
    "    x = MaxPooling2D(pool_size=(2, 2))(x)\n",
    "    x = Dropout(0.25)(x)\n",
    "    \n",
    "    # Third Convolutional Block\n",
    "    x = Conv2D(\n",
    "        filters=hp.Int('conv_3_filters', min_value=128, max_value=512, step=128),\n",
    "        kernel_size=(3, 3),\n",
    "        activation='relu',\n",
    "        padding='same',\n",
    "        kernel_regularizer=l2(0.001)\n",
    "    )(x)\n",
    "    x = BatchNormalization()(x)\n",
    "    x = MaxPooling2D(pool_size=(2, 2))(x)\n",
    "    x = Dropout(0.25)(x)\n",
    "    \n",
    "    # Fully Connected Layers\n",
    "    x = Flatten()(x)\n",
    "    x = Dense(\n",
    "        units=hp.Int('dense_units', min_value=128, max_value=512, step=128),\n",
    "        activation='relu',\n",
    "        kernel_regularizer=l2(0.001)\n",
    "    )(x)\n",
    "    x = BatchNormalization()(x)\n",
    "    x = Dropout(0.5)(x)\n",
    "    \n",
    "    # Output Layers\n",
    "    outputs = [Dense(10, activation='softmax', name=f'digit_{i}')(x) for i in range(3)]\n",
    "    model = Model(inputs=inputs, outputs=outputs)\n",
    "    \n",
    "    model.compile(\n",
    "        loss={'digit_0': 'binary_crossentropy', 'digit_1': 'binary_crossentropy', 'digit_2': 'binary_crossentropy'},\n",
    "        optimizer='adam',\n",
    "        metrics={'digit_0': 'accuracy', 'digit_1': 'accuracy', 'digit_2': 'accuracy'}\n",
    "    )\n",
    "    return model\n",
    "\n",
    "tuner = kt.RandomSearch(\n",
    "    build_model,\n",
    "    objective='val_loss',\n",
    "    max_trials=20,\n",
    "    executions_per_trial=1,\n",
    "    directory='my_dir',\n",
    "    project_name='cnn_hyperparameter_tuning'\n",
    ")\n",
    "\n",
    "# Perform hyperparameter search\n",
    "tuner.search(\n",
    "    custom_data_generator(X_train, y_train_dict, batch_size=32),\n",
    "    epochs=20,\n",
    "    steps_per_epoch=len(X_train) // 32,\n",
    "    validation_data=(X_val, y_val_dict),\n",
    "    callbacks=[early_stopping, lr_scheduler]\n",
    ")\n",
    "\n",
    "# Get the best model\n",
    "best_model = tuner.get_best_models(num_models=1)[0]\n",
    "best_hyperparameters = tuner.get_best_hyperparameters(num_trials=1)[0]\n",
    "\n",
    "# Print summary of the best model and hyperparameters\n",
    "#best_model.summary()\n",
    "print(' ')\n",
    "print(best_hyperparameters.values)"
   ]
  },
  {
   "cell_type": "markdown",
   "id": "a81fc755-1e10-4779-892f-0afb5e64d9fe",
   "metadata": {},
   "source": [
    "## **Create CNN Model using the best hyperparameters obtained from the tuning process**"
   ]
  },
  {
   "cell_type": "code",
   "execution_count": 109,
   "id": "d8f6b17f-f45f-4bbc-bdf2-0e9cf21daeb9",
   "metadata": {},
   "outputs": [
    {
     "name": "stdout",
     "output_type": "stream",
     "text": [
      "Model: \"model_1\"\n",
      "__________________________________________________________________________________________________\n",
      "Layer (type)                    Output Shape         Param #     Connected to                     \n",
      "==================================================================================================\n",
      "input_2 (InputLayer)            [(None, 28, 28, 1)]  0                                            \n",
      "__________________________________________________________________________________________________\n",
      "conv2d_3 (Conv2D)               (None, 28, 28, 96)   960         input_2[0][0]                    \n",
      "__________________________________________________________________________________________________\n",
      "batch_normalization_4 (BatchNor (None, 28, 28, 96)   384         conv2d_3[0][0]                   \n",
      "__________________________________________________________________________________________________\n",
      "max_pooling2d_3 (MaxPooling2D)  (None, 14, 14, 96)   0           batch_normalization_4[0][0]      \n",
      "__________________________________________________________________________________________________\n",
      "dropout_4 (Dropout)             (None, 14, 14, 96)   0           max_pooling2d_3[0][0]            \n",
      "__________________________________________________________________________________________________\n",
      "conv2d_4 (Conv2D)               (None, 14, 14, 128)  110720      dropout_4[0][0]                  \n",
      "__________________________________________________________________________________________________\n",
      "batch_normalization_5 (BatchNor (None, 14, 14, 128)  512         conv2d_4[0][0]                   \n",
      "__________________________________________________________________________________________________\n",
      "max_pooling2d_4 (MaxPooling2D)  (None, 7, 7, 128)    0           batch_normalization_5[0][0]      \n",
      "__________________________________________________________________________________________________\n",
      "dropout_5 (Dropout)             (None, 7, 7, 128)    0           max_pooling2d_4[0][0]            \n",
      "__________________________________________________________________________________________________\n",
      "conv2d_5 (Conv2D)               (None, 7, 7, 128)    147584      dropout_5[0][0]                  \n",
      "__________________________________________________________________________________________________\n",
      "batch_normalization_6 (BatchNor (None, 7, 7, 128)    512         conv2d_5[0][0]                   \n",
      "__________________________________________________________________________________________________\n",
      "max_pooling2d_5 (MaxPooling2D)  (None, 3, 3, 128)    0           batch_normalization_6[0][0]      \n",
      "__________________________________________________________________________________________________\n",
      "dropout_6 (Dropout)             (None, 3, 3, 128)    0           max_pooling2d_5[0][0]            \n",
      "__________________________________________________________________________________________________\n",
      "flatten_1 (Flatten)             (None, 1152)         0           dropout_6[0][0]                  \n",
      "__________________________________________________________________________________________________\n",
      "dense_1 (Dense)                 (None, 256)          295168      flatten_1[0][0]                  \n",
      "__________________________________________________________________________________________________\n",
      "batch_normalization_7 (BatchNor (None, 256)          1024        dense_1[0][0]                    \n",
      "__________________________________________________________________________________________________\n",
      "dropout_7 (Dropout)             (None, 256)          0           batch_normalization_7[0][0]      \n",
      "__________________________________________________________________________________________________\n",
      "digit_0 (Dense)                 (None, 10)           2570        dropout_7[0][0]                  \n",
      "__________________________________________________________________________________________________\n",
      "digit_1 (Dense)                 (None, 10)           2570        dropout_7[0][0]                  \n",
      "__________________________________________________________________________________________________\n",
      "digit_2 (Dense)                 (None, 10)           2570        dropout_7[0][0]                  \n",
      "==================================================================================================\n",
      "Total params: 564,574\n",
      "Trainable params: 563,358\n",
      "Non-trainable params: 1,216\n",
      "__________________________________________________________________________________________________\n"
     ]
    }
   ],
   "source": [
    "def create_cnn_model_smaxbc_hyper():\n",
    "    inputs = Input(shape=(28, 28, 1))  # Input shape for a 28x28 grayscale image\n",
    "    \n",
    "    # First Convolutional Block with best hyperparameters\n",
    "    x = Conv2D(96, kernel_size=(3, 3), activation='relu', padding='same', kernel_regularizer=l2(0.001))(inputs)\n",
    "    x = BatchNormalization()(x)\n",
    "    x = MaxPooling2D(pool_size=(2, 2))(x)\n",
    "    x = Dropout(0.25)(x)\n",
    "\n",
    "    # Second Convolutional Block with best hyperparameters\n",
    "    x = Conv2D(128, kernel_size=(3, 3), activation='relu', padding='same', kernel_regularizer=l2(0.001))(x)\n",
    "    x = BatchNormalization()(x)\n",
    "    x = MaxPooling2D(pool_size=(2, 2))(x)\n",
    "    x = Dropout(0.25)(x)\n",
    "\n",
    "    # Third Convolutional Block with best hyperparameters\n",
    "    x = Conv2D(128, kernel_size=(3, 3), activation='relu', padding='same', kernel_regularizer=l2(0.001))(x)\n",
    "    x = BatchNormalization()(x)\n",
    "    x = MaxPooling2D(pool_size=(2, 2))(x)\n",
    "    x = Dropout(0.25)(x)\n",
    "\n",
    "    # Fully Connected Layers with best hyperparameters\n",
    "    x = Flatten()(x)\n",
    "    x = Dense(256, activation='relu', kernel_regularizer=l2(0.001))(x)\n",
    "    x = BatchNormalization()(x)\n",
    "    x = Dropout(0.5)(x)\n",
    "\n",
    "    # Output Layers\n",
    "    outputs = [Dense(10, activation='softmax', name=f'digit_{i}')(x) for i in range(3)]\n",
    "    \n",
    "    model = Model(inputs=inputs, outputs=outputs)\n",
    "    \n",
    "    # Compiling the model\n",
    "    model.compile(\n",
    "        loss={'digit_0': 'binary_crossentropy', 'digit_1': 'binary_crossentropy', 'digit_2': 'binary_crossentropy'},\n",
    "        optimizer='adam',\n",
    "        metrics={'digit_0': 'accuracy', 'digit_1': 'accuracy', 'digit_2': 'accuracy'}\n",
    "    )\n",
    "    \n",
    "    return model\n",
    "\n",
    "model = create_cnn_model_smaxbc_hyper()\n",
    "model.summary()"
   ]
  },
  {
   "cell_type": "code",
   "execution_count": 111,
   "id": "7694db91-fbf4-4c58-beb6-3f61fafb47c8",
   "metadata": {},
   "outputs": [],
   "source": [
    "# Increase K-Fold Cross Validation\n",
    "kf = KFold(n_splits=5, shuffle=True)"
   ]
  },
  {
   "cell_type": "code",
   "execution_count": 113,
   "id": "2acbeb46-ceb2-46d7-a437-7f7b56e7de9a",
   "metadata": {},
   "outputs": [],
   "source": [
    "#Adjust learning rate scheduler \n",
    "def lr_schedule(epoch):\n",
    "    lr = 1e-5\n",
    "    if epoch > 10:\n",
    "        lr *= 0.1\n",
    "    elif epoch > 20:\n",
    "        lr *= 0.01\n",
    "    return lr"
   ]
  },
  {
   "cell_type": "code",
   "execution_count": 117,
   "id": "fea408bb-910d-439f-a283-a9d62c884a2b",
   "metadata": {},
   "outputs": [
    {
     "name": "stdout",
     "output_type": "stream",
     "text": [
      "Epoch 1/20\n",
      "1600/1600 [==============================] - 45s 27ms/step - loss: 0.9776 - digit_0_loss: 0.2154 - digit_1_loss: 0.2151 - digit_2_loss: 0.2181 - digit_0_accuracy: 0.6455 - digit_1_accuracy: 0.6440 - digit_2_accuracy: 0.6354 - val_loss: 0.3153 - val_digit_0_loss: 0.0485 - val_digit_1_loss: 0.0539 - val_digit_2_loss: 0.0399 - val_digit_0_accuracy: 0.9447 - val_digit_1_accuracy: 0.9341 - val_digit_2_accuracy: 0.9551\n",
      "Epoch 2/20\n",
      "1600/1600 [==============================] - 40s 25ms/step - loss: 0.3587 - digit_0_loss: 0.0596 - digit_1_loss: 0.0591 - digit_2_loss: 0.0599 - digit_0_accuracy: 0.9296 - digit_1_accuracy: 0.9295 - digit_2_accuracy: 0.9289 - val_loss: 0.2696 - val_digit_0_loss: 0.0249 - val_digit_1_loss: 0.0284 - val_digit_2_loss: 0.0273 - val_digit_0_accuracy: 0.9660 - val_digit_1_accuracy: 0.9622 - val_digit_2_accuracy: 0.9647\n",
      "Epoch 3/20\n",
      "1600/1600 [==============================] - 41s 26ms/step - loss: 0.3465 - digit_0_loss: 0.0517 - digit_1_loss: 0.0524 - digit_2_loss: 0.0517 - digit_0_accuracy: 0.9394 - digit_1_accuracy: 0.9389 - digit_2_accuracy: 0.9397 - val_loss: 0.3097 - val_digit_0_loss: 0.0452 - val_digit_1_loss: 0.0400 - val_digit_2_loss: 0.0322 - val_digit_0_accuracy: 0.9349 - val_digit_1_accuracy: 0.9438 - val_digit_2_accuracy: 0.9522\n",
      "Epoch 4/20\n",
      "1600/1600 [==============================] - 39s 24ms/step - loss: 0.3307 - digit_0_loss: 0.0458 - digit_1_loss: 0.0484 - digit_2_loss: 0.0472 - digit_0_accuracy: 0.9456 - digit_1_accuracy: 0.9425 - digit_2_accuracy: 0.9435 - val_loss: 0.2556 - val_digit_0_loss: 0.0233 - val_digit_1_loss: 0.0243 - val_digit_2_loss: 0.0196 - val_digit_0_accuracy: 0.9674 - val_digit_1_accuracy: 0.9648 - val_digit_2_accuracy: 0.9727\n",
      "Epoch 5/20\n",
      "1600/1600 [==============================] - 38s 24ms/step - loss: 0.3177 - digit_0_loss: 0.0440 - digit_1_loss: 0.0445 - digit_2_loss: 0.0432 - digit_0_accuracy: 0.9468 - digit_1_accuracy: 0.9458 - digit_2_accuracy: 0.9471 - val_loss: 0.2556 - val_digit_0_loss: 0.0239 - val_digit_1_loss: 0.0248 - val_digit_2_loss: 0.0213 - val_digit_0_accuracy: 0.9651 - val_digit_1_accuracy: 0.9649 - val_digit_2_accuracy: 0.9714\n",
      "Epoch 6/20\n",
      "1600/1600 [==============================] - 40s 25ms/step - loss: 0.3077 - digit_0_loss: 0.0419 - digit_1_loss: 0.0424 - digit_2_loss: 0.0423 - digit_0_accuracy: 0.9490 - digit_1_accuracy: 0.9475 - digit_2_accuracy: 0.9477 - val_loss: 0.2678 - val_digit_0_loss: 0.0308 - val_digit_1_loss: 0.0308 - val_digit_2_loss: 0.0266 - val_digit_0_accuracy: 0.9506 - val_digit_1_accuracy: 0.9511 - val_digit_2_accuracy: 0.9556\n",
      "Epoch 7/20\n",
      "1600/1600 [==============================] - 42s 26ms/step - loss: 0.2997 - digit_0_loss: 0.0411 - digit_1_loss: 0.0416 - digit_2_loss: 0.0402 - digit_0_accuracy: 0.9486 - digit_1_accuracy: 0.9479 - digit_2_accuracy: 0.9494 - val_loss: 0.2347 - val_digit_0_loss: 0.0234 - val_digit_1_loss: 0.0207 - val_digit_2_loss: 0.0177 - val_digit_0_accuracy: 0.9627 - val_digit_1_accuracy: 0.9707 - val_digit_2_accuracy: 0.9737\n",
      "Epoch 8/20\n",
      "1600/1600 [==============================] - 41s 26ms/step - loss: 0.2923 - digit_0_loss: 0.0402 - digit_1_loss: 0.0408 - digit_2_loss: 0.0387 - digit_0_accuracy: 0.9485 - digit_1_accuracy: 0.9486 - digit_2_accuracy: 0.9518 - val_loss: 0.2346 - val_digit_0_loss: 0.0188 - val_digit_1_loss: 0.0243 - val_digit_2_loss: 0.0189 - val_digit_0_accuracy: 0.9718 - val_digit_1_accuracy: 0.9637 - val_digit_2_accuracy: 0.9716\n",
      "Epoch 9/20\n",
      "1600/1600 [==============================] - 40s 25ms/step - loss: 0.2907 - digit_0_loss: 0.0396 - digit_1_loss: 0.0401 - digit_2_loss: 0.0390 - digit_0_accuracy: 0.9492 - digit_1_accuracy: 0.9492 - digit_2_accuracy: 0.9497 - val_loss: 0.2367 - val_digit_0_loss: 0.0200 - val_digit_1_loss: 0.0236 - val_digit_2_loss: 0.0190 - val_digit_0_accuracy: 0.9673 - val_digit_1_accuracy: 0.9625 - val_digit_2_accuracy: 0.9704\n",
      "Epoch 10/20\n",
      "1600/1600 [==============================] - 40s 25ms/step - loss: 0.2852 - digit_0_loss: 0.0393 - digit_1_loss: 0.0390 - digit_2_loss: 0.0377 - digit_0_accuracy: 0.9501 - digit_1_accuracy: 0.9508 - digit_2_accuracy: 0.9513 - val_loss: 0.2131 - val_digit_0_loss: 0.0167 - val_digit_1_loss: 0.0168 - val_digit_2_loss: 0.0149 - val_digit_0_accuracy: 0.9735 - val_digit_1_accuracy: 0.9748 - val_digit_2_accuracy: 0.9778\n",
      "Epoch 11/20\n",
      "1600/1600 [==============================] - 38s 24ms/step - loss: 0.2812 - digit_0_loss: 0.0385 - digit_1_loss: 0.0387 - digit_2_loss: 0.0381 - digit_0_accuracy: 0.9515 - digit_1_accuracy: 0.9499 - digit_2_accuracy: 0.9516 - val_loss: 0.2264 - val_digit_0_loss: 0.0195 - val_digit_1_loss: 0.0214 - val_digit_2_loss: 0.0181 - val_digit_0_accuracy: 0.9699 - val_digit_1_accuracy: 0.9661 - val_digit_2_accuracy: 0.9711\n",
      "Epoch 12/20\n",
      "1600/1600 [==============================] - 41s 26ms/step - loss: 0.2195 - digit_0_loss: 0.0260 - digit_1_loss: 0.0256 - digit_2_loss: 0.0254 - digit_0_accuracy: 0.9677 - digit_1_accuracy: 0.9686 - digit_2_accuracy: 0.9687 - val_loss: 0.1456 - val_digit_0_loss: 0.0094 - val_digit_1_loss: 0.0093 - val_digit_2_loss: 0.0072 - val_digit_0_accuracy: 0.9844 - val_digit_1_accuracy: 0.9854 - val_digit_2_accuracy: 0.9887\n",
      "Epoch 13/20\n",
      "1600/1600 [==============================] - 42s 26ms/step - loss: 0.1630 - digit_0_loss: 0.0200 - digit_1_loss: 0.0203 - digit_2_loss: 0.0202 - digit_0_accuracy: 0.9759 - digit_1_accuracy: 0.9752 - digit_2_accuracy: 0.9762 - val_loss: 0.1127 - val_digit_0_loss: 0.0088 - val_digit_1_loss: 0.0087 - val_digit_2_loss: 0.0068 - val_digit_0_accuracy: 0.9855 - val_digit_1_accuracy: 0.9869 - val_digit_2_accuracy: 0.9902\n",
      "Epoch 14/20\n",
      "1600/1600 [==============================] - 42s 26ms/step - loss: 0.1342 - digit_0_loss: 0.0186 - digit_1_loss: 0.0188 - digit_2_loss: 0.0182 - digit_0_accuracy: 0.9777 - digit_1_accuracy: 0.9772 - digit_2_accuracy: 0.9782 - val_loss: 0.0928 - val_digit_0_loss: 0.0079 - val_digit_1_loss: 0.0081 - val_digit_2_loss: 0.0062 - val_digit_0_accuracy: 0.9867 - val_digit_1_accuracy: 0.9873 - val_digit_2_accuracy: 0.9907\n",
      "Epoch 15/20\n",
      "1600/1600 [==============================] - 43s 27ms/step - loss: 0.1184 - digit_0_loss: 0.0175 - digit_1_loss: 0.0183 - digit_2_loss: 0.0175 - digit_0_accuracy: 0.9789 - digit_1_accuracy: 0.9781 - digit_2_accuracy: 0.9789 - val_loss: 0.0812 - val_digit_0_loss: 0.0075 - val_digit_1_loss: 0.0076 - val_digit_2_loss: 0.0059 - val_digit_0_accuracy: 0.9884 - val_digit_1_accuracy: 0.9882 - val_digit_2_accuracy: 0.9905\n",
      "Epoch 16/20\n",
      "1600/1600 [==============================] - 39s 24ms/step - loss: 0.1065 - digit_0_loss: 0.0166 - digit_1_loss: 0.0169 - digit_2_loss: 0.0163 - digit_0_accuracy: 0.9801 - digit_1_accuracy: 0.9800 - digit_2_accuracy: 0.9811 - val_loss: 0.0740 - val_digit_0_loss: 0.0071 - val_digit_1_loss: 0.0075 - val_digit_2_loss: 0.0058 - val_digit_0_accuracy: 0.9888 - val_digit_1_accuracy: 0.9891 - val_digit_2_accuracy: 0.9914\n",
      "Epoch 17/20\n",
      "1600/1600 [==============================] - 40s 25ms/step - loss: 0.0995 - digit_0_loss: 0.0157 - digit_1_loss: 0.0166 - digit_2_loss: 0.0161 - digit_0_accuracy: 0.9816 - digit_1_accuracy: 0.9803 - digit_2_accuracy: 0.9810 - val_loss: 0.0692 - val_digit_0_loss: 0.0071 - val_digit_1_loss: 0.0073 - val_digit_2_loss: 0.0057 - val_digit_0_accuracy: 0.9887 - val_digit_1_accuracy: 0.9886 - val_digit_2_accuracy: 0.9916\n",
      "Epoch 18/20\n",
      "1600/1600 [==============================] - 43s 27ms/step - loss: 0.0942 - digit_0_loss: 0.0155 - digit_1_loss: 0.0159 - digit_2_loss: 0.0153 - digit_0_accuracy: 0.9821 - digit_1_accuracy: 0.9813 - digit_2_accuracy: 0.9819 - val_loss: 0.0667 - val_digit_0_loss: 0.0074 - val_digit_1_loss: 0.0077 - val_digit_2_loss: 0.0057 - val_digit_0_accuracy: 0.9878 - val_digit_1_accuracy: 0.9894 - val_digit_2_accuracy: 0.9916\n",
      "Epoch 19/20\n",
      "1600/1600 [==============================] - 47s 29ms/step - loss: 0.0909 - digit_0_loss: 0.0152 - digit_1_loss: 0.0157 - digit_2_loss: 0.0153 - digit_0_accuracy: 0.9821 - digit_1_accuracy: 0.9819 - digit_2_accuracy: 0.9827 - val_loss: 0.0631 - val_digit_0_loss: 0.0069 - val_digit_1_loss: 0.0071 - val_digit_2_loss: 0.0054 - val_digit_0_accuracy: 0.9898 - val_digit_1_accuracy: 0.9887 - val_digit_2_accuracy: 0.9921\n",
      "Epoch 20/20\n",
      "1600/1600 [==============================] - 46s 29ms/step - loss: 0.0876 - digit_0_loss: 0.0150 - digit_1_loss: 0.0150 - digit_2_loss: 0.0149 - digit_0_accuracy: 0.9827 - digit_1_accuracy: 0.9825 - digit_2_accuracy: 0.9834 - val_loss: 0.0605 - val_digit_0_loss: 0.0066 - val_digit_1_loss: 0.0068 - val_digit_2_loss: 0.0051 - val_digit_0_accuracy: 0.9891 - val_digit_1_accuracy: 0.9895 - val_digit_2_accuracy: 0.9922\n",
      "Epoch 1/20\n",
      "1600/1600 [==============================] - 50s 29ms/step - loss: 0.9935 - digit_0_loss: 0.2144 - digit_1_loss: 0.2188 - digit_2_loss: 0.2197 - digit_0_accuracy: 0.6459 - digit_1_accuracy: 0.6419 - digit_2_accuracy: 0.6291 - val_loss: 0.4534 - val_digit_0_loss: 0.0943 - val_digit_1_loss: 0.0843 - val_digit_2_loss: 0.1011 - val_digit_0_accuracy: 0.8860 - val_digit_1_accuracy: 0.8849 - val_digit_2_accuracy: 0.8581\n",
      "Epoch 2/20\n",
      "1600/1600 [==============================] - 39s 24ms/step - loss: 0.3592 - digit_0_loss: 0.0601 - digit_1_loss: 0.0607 - digit_2_loss: 0.0600 - digit_0_accuracy: 0.9298 - digit_1_accuracy: 0.9261 - digit_2_accuracy: 0.9306 - val_loss: 0.2854 - val_digit_0_loss: 0.0302 - val_digit_1_loss: 0.0341 - val_digit_2_loss: 0.0318 - val_digit_0_accuracy: 0.9589 - val_digit_1_accuracy: 0.9524 - val_digit_2_accuracy: 0.9573\n",
      "Epoch 3/20\n",
      "1600/1600 [==============================] - 42s 26ms/step - loss: 0.3460 - digit_0_loss: 0.0528 - digit_1_loss: 0.0522 - digit_2_loss: 0.0515 - digit_0_accuracy: 0.9381 - digit_1_accuracy: 0.9387 - digit_2_accuracy: 0.9406 - val_loss: 0.3104 - val_digit_0_loss: 0.0384 - val_digit_1_loss: 0.0404 - val_digit_2_loss: 0.0432 - val_digit_0_accuracy: 0.9434 - val_digit_1_accuracy: 0.9413 - val_digit_2_accuracy: 0.9359\n",
      "Epoch 4/20\n",
      "1600/1600 [==============================] - 43s 27ms/step - loss: 0.3302 - digit_0_loss: 0.0475 - digit_1_loss: 0.0477 - digit_2_loss: 0.0461 - digit_0_accuracy: 0.9431 - digit_1_accuracy: 0.9427 - digit_2_accuracy: 0.9454 - val_loss: 0.2489 - val_digit_0_loss: 0.0185 - val_digit_1_loss: 0.0210 - val_digit_2_loss: 0.0210 - val_digit_0_accuracy: 0.9730 - val_digit_1_accuracy: 0.9709 - val_digit_2_accuracy: 0.9693\n",
      "Epoch 5/20\n",
      "1600/1600 [==============================] - 46s 29ms/step - loss: 0.3177 - digit_0_loss: 0.0444 - digit_1_loss: 0.0452 - digit_2_loss: 0.0433 - digit_0_accuracy: 0.9467 - digit_1_accuracy: 0.9445 - digit_2_accuracy: 0.9485 - val_loss: 0.2360 - val_digit_0_loss: 0.0176 - val_digit_1_loss: 0.0193 - val_digit_2_loss: 0.0198 - val_digit_0_accuracy: 0.9749 - val_digit_1_accuracy: 0.9707 - val_digit_2_accuracy: 0.9707\n",
      "Epoch 6/20\n",
      "1600/1600 [==============================] - 45s 28ms/step - loss: 0.3068 - digit_0_loss: 0.0429 - digit_1_loss: 0.0429 - digit_2_loss: 0.0417 - digit_0_accuracy: 0.9465 - digit_1_accuracy: 0.9474 - digit_2_accuracy: 0.9489 - val_loss: 0.2631 - val_digit_0_loss: 0.0249 - val_digit_1_loss: 0.0283 - val_digit_2_loss: 0.0310 - val_digit_0_accuracy: 0.9626 - val_digit_1_accuracy: 0.9595 - val_digit_2_accuracy: 0.9564\n",
      "Epoch 7/20\n",
      "1600/1600 [==============================] - 43s 27ms/step - loss: 0.2994 - digit_0_loss: 0.0417 - digit_1_loss: 0.0423 - digit_2_loss: 0.0398 - digit_0_accuracy: 0.9486 - digit_1_accuracy: 0.9474 - digit_2_accuracy: 0.9509 - val_loss: 0.2438 - val_digit_0_loss: 0.0235 - val_digit_1_loss: 0.0228 - val_digit_2_loss: 0.0240 - val_digit_0_accuracy: 0.9652 - val_digit_1_accuracy: 0.9669 - val_digit_2_accuracy: 0.9641\n",
      "Epoch 8/20\n",
      "1600/1600 [==============================] - 42s 26ms/step - loss: 0.2927 - digit_0_loss: 0.0407 - digit_1_loss: 0.0415 - digit_2_loss: 0.0394 - digit_0_accuracy: 0.9482 - digit_1_accuracy: 0.9479 - digit_2_accuracy: 0.9511 - val_loss: 0.2411 - val_digit_0_loss: 0.0209 - val_digit_1_loss: 0.0266 - val_digit_2_loss: 0.0218 - val_digit_0_accuracy: 0.9681 - val_digit_1_accuracy: 0.9600 - val_digit_2_accuracy: 0.9673\n",
      "Epoch 9/20\n",
      "1600/1600 [==============================] - 45s 28ms/step - loss: 0.2888 - digit_0_loss: 0.0401 - digit_1_loss: 0.0406 - digit_2_loss: 0.0390 - digit_0_accuracy: 0.9492 - digit_1_accuracy: 0.9480 - digit_2_accuracy: 0.9522 - val_loss: 0.2408 - val_digit_0_loss: 0.0229 - val_digit_1_loss: 0.0247 - val_digit_2_loss: 0.0245 - val_digit_0_accuracy: 0.9630 - val_digit_1_accuracy: 0.9635 - val_digit_2_accuracy: 0.9638\n",
      "Epoch 10/20\n",
      "1600/1600 [==============================] - 44s 28ms/step - loss: 0.2853 - digit_0_loss: 0.0397 - digit_1_loss: 0.0398 - digit_2_loss: 0.0386 - digit_0_accuracy: 0.9497 - digit_1_accuracy: 0.9481 - digit_2_accuracy: 0.9505 - val_loss: 0.2327 - val_digit_0_loss: 0.0195 - val_digit_1_loss: 0.0244 - val_digit_2_loss: 0.0220 - val_digit_0_accuracy: 0.9702 - val_digit_1_accuracy: 0.9634 - val_digit_2_accuracy: 0.9671\n",
      "Epoch 11/20\n",
      "1600/1600 [==============================] - 44s 27ms/step - loss: 0.2824 - digit_0_loss: 0.0397 - digit_1_loss: 0.0398 - digit_2_loss: 0.0380 - digit_0_accuracy: 0.9487 - digit_1_accuracy: 0.9485 - digit_2_accuracy: 0.9510 - val_loss: 0.2101 - val_digit_0_loss: 0.0149 - val_digit_1_loss: 0.0142 - val_digit_2_loss: 0.0162 - val_digit_0_accuracy: 0.9768 - val_digit_1_accuracy: 0.9776 - val_digit_2_accuracy: 0.9759\n",
      "Epoch 12/20\n",
      "1600/1600 [==============================] - 43s 27ms/step - loss: 0.2179 - digit_0_loss: 0.0260 - digit_1_loss: 0.0265 - digit_2_loss: 0.0250 - digit_0_accuracy: 0.9681 - digit_1_accuracy: 0.9676 - digit_2_accuracy: 0.9699 - val_loss: 0.1442 - val_digit_0_loss: 0.0076 - val_digit_1_loss: 0.0087 - val_digit_2_loss: 0.0097 - val_digit_0_accuracy: 0.9881 - val_digit_1_accuracy: 0.9851 - val_digit_2_accuracy: 0.9850\n",
      "Epoch 13/20\n",
      "1600/1600 [==============================] - 42s 26ms/step - loss: 0.1630 - digit_0_loss: 0.0207 - digit_1_loss: 0.0209 - digit_2_loss: 0.0198 - digit_0_accuracy: 0.9743 - digit_1_accuracy: 0.9751 - digit_2_accuracy: 0.9768 - val_loss: 0.1112 - val_digit_0_loss: 0.0069 - val_digit_1_loss: 0.0082 - val_digit_2_loss: 0.0087 - val_digit_0_accuracy: 0.9895 - val_digit_1_accuracy: 0.9857 - val_digit_2_accuracy: 0.9869\n",
      "Epoch 14/20\n",
      "1600/1600 [==============================] - 46s 28ms/step - loss: 0.1343 - digit_0_loss: 0.0192 - digit_1_loss: 0.0193 - digit_2_loss: 0.0178 - digit_0_accuracy: 0.9767 - digit_1_accuracy: 0.9763 - digit_2_accuracy: 0.9789 - val_loss: 0.0921 - val_digit_0_loss: 0.0065 - val_digit_1_loss: 0.0072 - val_digit_2_loss: 0.0081 - val_digit_0_accuracy: 0.9899 - val_digit_1_accuracy: 0.9873 - val_digit_2_accuracy: 0.9880\n",
      "Epoch 15/20\n",
      "1600/1600 [==============================] - 46s 29ms/step - loss: 0.1185 - digit_0_loss: 0.0183 - digit_1_loss: 0.0183 - digit_2_loss: 0.0171 - digit_0_accuracy: 0.9778 - digit_1_accuracy: 0.9785 - digit_2_accuracy: 0.9796 - val_loss: 0.0816 - val_digit_0_loss: 0.0063 - val_digit_1_loss: 0.0069 - val_digit_2_loss: 0.0082 - val_digit_0_accuracy: 0.9903 - val_digit_1_accuracy: 0.9891 - val_digit_2_accuracy: 0.9874\n",
      "Epoch 16/20\n",
      "1600/1600 [==============================] - 44s 27ms/step - loss: 0.1084 - digit_0_loss: 0.0175 - digit_1_loss: 0.0180 - digit_2_loss: 0.0162 - digit_0_accuracy: 0.9793 - digit_1_accuracy: 0.9783 - digit_2_accuracy: 0.9822 - val_loss: 0.0737 - val_digit_0_loss: 0.0057 - val_digit_1_loss: 0.0066 - val_digit_2_loss: 0.0078 - val_digit_0_accuracy: 0.9903 - val_digit_1_accuracy: 0.9891 - val_digit_2_accuracy: 0.9877\n",
      "Epoch 17/20\n",
      "1600/1600 [==============================] - 44s 27ms/step - loss: 0.1001 - digit_0_loss: 0.0167 - digit_1_loss: 0.0167 - digit_2_loss: 0.0155 - digit_0_accuracy: 0.9804 - digit_1_accuracy: 0.9807 - digit_2_accuracy: 0.9822 - val_loss: 0.0693 - val_digit_0_loss: 0.0056 - val_digit_1_loss: 0.0067 - val_digit_2_loss: 0.0078 - val_digit_0_accuracy: 0.9913 - val_digit_1_accuracy: 0.9889 - val_digit_2_accuracy: 0.9885\n",
      "Epoch 18/20\n",
      "1600/1600 [==============================] - 41s 25ms/step - loss: 0.0956 - digit_0_loss: 0.0159 - digit_1_loss: 0.0167 - digit_2_loss: 0.0155 - digit_0_accuracy: 0.9815 - digit_1_accuracy: 0.9802 - digit_2_accuracy: 0.9822 - val_loss: 0.0656 - val_digit_0_loss: 0.0056 - val_digit_1_loss: 0.0063 - val_digit_2_loss: 0.0078 - val_digit_0_accuracy: 0.9916 - val_digit_1_accuracy: 0.9895 - val_digit_2_accuracy: 0.9880\n",
      "Epoch 19/20\n",
      "1600/1600 [==============================] - 41s 26ms/step - loss: 0.0925 - digit_0_loss: 0.0160 - digit_1_loss: 0.0163 - digit_2_loss: 0.0153 - digit_0_accuracy: 0.9813 - digit_1_accuracy: 0.9813 - digit_2_accuracy: 0.9824 - val_loss: 0.0631 - val_digit_0_loss: 0.0052 - val_digit_1_loss: 0.0066 - val_digit_2_loss: 0.0074 - val_digit_0_accuracy: 0.9920 - val_digit_1_accuracy: 0.9898 - val_digit_2_accuracy: 0.9885\n",
      "Epoch 20/20\n",
      "1600/1600 [==============================] - 44s 27ms/step - loss: 0.0887 - digit_0_loss: 0.0161 - digit_1_loss: 0.0157 - digit_2_loss: 0.0140 - digit_0_accuracy: 0.9807 - digit_1_accuracy: 0.9820 - digit_2_accuracy: 0.9841 - val_loss: 0.0618 - val_digit_0_loss: 0.0056 - val_digit_1_loss: 0.0063 - val_digit_2_loss: 0.0077 - val_digit_0_accuracy: 0.9917 - val_digit_1_accuracy: 0.9902 - val_digit_2_accuracy: 0.9887\n",
      "Epoch 1/20\n",
      "1600/1600 [==============================] - 51s 29ms/step - loss: 0.9982 - digit_0_loss: 0.2193 - digit_1_loss: 0.2185 - digit_2_loss: 0.2233 - digit_0_accuracy: 0.6369 - digit_1_accuracy: 0.6350 - digit_2_accuracy: 0.6216 - val_loss: 0.4162 - val_digit_0_loss: 0.0854 - val_digit_1_loss: 0.0820 - val_digit_2_loss: 0.0772 - val_digit_0_accuracy: 0.8756 - val_digit_1_accuracy: 0.8761 - val_digit_2_accuracy: 0.8891\n",
      "Epoch 2/20\n",
      "1600/1600 [==============================] - 45s 28ms/step - loss: 0.3582 - digit_0_loss: 0.0599 - digit_1_loss: 0.0611 - digit_2_loss: 0.0602 - digit_0_accuracy: 0.9303 - digit_1_accuracy: 0.9268 - digit_2_accuracy: 0.9295 - val_loss: 0.5320 - val_digit_0_loss: 0.1061 - val_digit_1_loss: 0.1168 - val_digit_2_loss: 0.1225 - val_digit_0_accuracy: 0.9140 - val_digit_1_accuracy: 0.8662 - val_digit_2_accuracy: 0.8802\n",
      "Epoch 3/20\n",
      "1600/1600 [==============================] - 45s 28ms/step - loss: 0.3470 - digit_0_loss: 0.0523 - digit_1_loss: 0.0532 - digit_2_loss: 0.0521 - digit_0_accuracy: 0.9388 - digit_1_accuracy: 0.9363 - digit_2_accuracy: 0.9392 - val_loss: 0.2672 - val_digit_0_loss: 0.0240 - val_digit_1_loss: 0.0268 - val_digit_2_loss: 0.0245 - val_digit_0_accuracy: 0.9676 - val_digit_1_accuracy: 0.9633 - val_digit_2_accuracy: 0.9677\n",
      "Epoch 4/20\n",
      "1600/1600 [==============================] - 43s 27ms/step - loss: 0.3327 - digit_0_loss: 0.0474 - digit_1_loss: 0.0487 - digit_2_loss: 0.0469 - digit_0_accuracy: 0.9435 - digit_1_accuracy: 0.9416 - digit_2_accuracy: 0.9444 - val_loss: 0.3550 - val_digit_0_loss: 0.0539 - val_digit_1_loss: 0.0617 - val_digit_2_loss: 0.0484 - val_digit_0_accuracy: 0.9466 - val_digit_1_accuracy: 0.9319 - val_digit_2_accuracy: 0.9509\n",
      "Epoch 5/20\n",
      "1600/1600 [==============================] - 45s 28ms/step - loss: 0.3186 - digit_0_loss: 0.0442 - digit_1_loss: 0.0449 - digit_2_loss: 0.0435 - digit_0_accuracy: 0.9466 - digit_1_accuracy: 0.9455 - digit_2_accuracy: 0.9468 - val_loss: 0.2449 - val_digit_0_loss: 0.0197 - val_digit_1_loss: 0.0200 - val_digit_2_loss: 0.0195 - val_digit_0_accuracy: 0.9730 - val_digit_1_accuracy: 0.9746 - val_digit_2_accuracy: 0.9700\n",
      "Epoch 6/20\n",
      "1600/1600 [==============================] - 45s 28ms/step - loss: 0.3081 - digit_0_loss: 0.0425 - digit_1_loss: 0.0429 - digit_2_loss: 0.0415 - digit_0_accuracy: 0.9477 - digit_1_accuracy: 0.9457 - digit_2_accuracy: 0.9486 - val_loss: 0.2411 - val_digit_0_loss: 0.0208 - val_digit_1_loss: 0.0204 - val_digit_2_loss: 0.0197 - val_digit_0_accuracy: 0.9681 - val_digit_1_accuracy: 0.9703 - val_digit_2_accuracy: 0.9690\n",
      "Epoch 7/20\n",
      "1600/1600 [==============================] - 42s 27ms/step - loss: 0.3013 - digit_0_loss: 0.0416 - digit_1_loss: 0.0423 - digit_2_loss: 0.0408 - digit_0_accuracy: 0.9484 - digit_1_accuracy: 0.9469 - digit_2_accuracy: 0.9482 - val_loss: 0.2362 - val_digit_0_loss: 0.0193 - val_digit_1_loss: 0.0192 - val_digit_2_loss: 0.0211 - val_digit_0_accuracy: 0.9695 - val_digit_1_accuracy: 0.9705 - val_digit_2_accuracy: 0.9678\n",
      "Epoch 8/20\n",
      "1600/1600 [==============================] - 42s 26ms/step - loss: 0.2964 - digit_0_loss: 0.0409 - digit_1_loss: 0.0408 - digit_2_loss: 0.0400 - digit_0_accuracy: 0.9485 - digit_1_accuracy: 0.9489 - digit_2_accuracy: 0.9492 - val_loss: 0.2422 - val_digit_0_loss: 0.0222 - val_digit_1_loss: 0.0242 - val_digit_2_loss: 0.0250 - val_digit_0_accuracy: 0.9656 - val_digit_1_accuracy: 0.9605 - val_digit_2_accuracy: 0.9624\n",
      "Epoch 9/20\n",
      "1600/1600 [==============================] - 42s 27ms/step - loss: 0.2915 - digit_0_loss: 0.0408 - digit_1_loss: 0.0409 - digit_2_loss: 0.0386 - digit_0_accuracy: 0.9472 - digit_1_accuracy: 0.9478 - digit_2_accuracy: 0.9519 - val_loss: 0.2703 - val_digit_0_loss: 0.0300 - val_digit_1_loss: 0.0368 - val_digit_2_loss: 0.0310 - val_digit_0_accuracy: 0.9507 - val_digit_1_accuracy: 0.9411 - val_digit_2_accuracy: 0.9513\n",
      "Epoch 10/20\n",
      "1600/1600 [==============================] - 44s 28ms/step - loss: 0.2875 - digit_0_loss: 0.0396 - digit_1_loss: 0.0396 - digit_2_loss: 0.0383 - digit_0_accuracy: 0.9499 - digit_1_accuracy: 0.9483 - digit_2_accuracy: 0.9507 - val_loss: 0.2162 - val_digit_0_loss: 0.0157 - val_digit_1_loss: 0.0146 - val_digit_2_loss: 0.0152 - val_digit_0_accuracy: 0.9760 - val_digit_1_accuracy: 0.9768 - val_digit_2_accuracy: 0.9766\n",
      "Epoch 11/20\n",
      "1600/1600 [==============================] - 46s 29ms/step - loss: 0.2846 - digit_0_loss: 0.0397 - digit_1_loss: 0.0393 - digit_2_loss: 0.0385 - digit_0_accuracy: 0.9486 - digit_1_accuracy: 0.9484 - digit_2_accuracy: 0.9508 - val_loss: 0.2316 - val_digit_0_loss: 0.0248 - val_digit_1_loss: 0.0206 - val_digit_2_loss: 0.0194 - val_digit_0_accuracy: 0.9584 - val_digit_1_accuracy: 0.9661 - val_digit_2_accuracy: 0.9679\n",
      "Epoch 12/20\n",
      "1600/1600 [==============================] - 46s 29ms/step - loss: 0.2188 - digit_0_loss: 0.0263 - digit_1_loss: 0.0260 - digit_2_loss: 0.0249 - digit_0_accuracy: 0.9670 - digit_1_accuracy: 0.9678 - digit_2_accuracy: 0.9699 - val_loss: 0.1464 - val_digit_0_loss: 0.0093 - val_digit_1_loss: 0.0091 - val_digit_2_loss: 0.0092 - val_digit_0_accuracy: 0.9845 - val_digit_1_accuracy: 0.9850 - val_digit_2_accuracy: 0.9847\n",
      "Epoch 13/20\n",
      "1600/1600 [==============================] - 46s 29ms/step - loss: 0.1645 - digit_0_loss: 0.0211 - digit_1_loss: 0.0211 - digit_2_loss: 0.0205 - digit_0_accuracy: 0.9743 - digit_1_accuracy: 0.9735 - digit_2_accuracy: 0.9757 - val_loss: 0.1141 - val_digit_0_loss: 0.0088 - val_digit_1_loss: 0.0089 - val_digit_2_loss: 0.0084 - val_digit_0_accuracy: 0.9852 - val_digit_1_accuracy: 0.9850 - val_digit_2_accuracy: 0.9853\n",
      "Epoch 14/20\n",
      "1600/1600 [==============================] - 46s 29ms/step - loss: 0.1344 - digit_0_loss: 0.0191 - digit_1_loss: 0.0189 - digit_2_loss: 0.0181 - digit_0_accuracy: 0.9774 - digit_1_accuracy: 0.9771 - digit_2_accuracy: 0.9789 - val_loss: 0.0945 - val_digit_0_loss: 0.0081 - val_digit_1_loss: 0.0080 - val_digit_2_loss: 0.0079 - val_digit_0_accuracy: 0.9859 - val_digit_1_accuracy: 0.9873 - val_digit_2_accuracy: 0.9868\n",
      "Epoch 15/20\n",
      "1600/1600 [==============================] - 47s 29ms/step - loss: 0.1184 - digit_0_loss: 0.0176 - digit_1_loss: 0.0186 - digit_2_loss: 0.0174 - digit_0_accuracy: 0.9791 - digit_1_accuracy: 0.9775 - digit_2_accuracy: 0.9791 - val_loss: 0.0834 - val_digit_0_loss: 0.0078 - val_digit_1_loss: 0.0077 - val_digit_2_loss: 0.0077 - val_digit_0_accuracy: 0.9870 - val_digit_1_accuracy: 0.9875 - val_digit_2_accuracy: 0.9874\n",
      "Epoch 16/20\n",
      "1600/1600 [==============================] - 50s 31ms/step - loss: 0.1080 - digit_0_loss: 0.0176 - digit_1_loss: 0.0175 - digit_2_loss: 0.0164 - digit_0_accuracy: 0.9791 - digit_1_accuracy: 0.9790 - digit_2_accuracy: 0.9805 - val_loss: 0.0763 - val_digit_0_loss: 0.0077 - val_digit_1_loss: 0.0078 - val_digit_2_loss: 0.0073 - val_digit_0_accuracy: 0.9877 - val_digit_1_accuracy: 0.9881 - val_digit_2_accuracy: 0.9887\n",
      "Epoch 17/20\n",
      "1600/1600 [==============================] - 47s 29ms/step - loss: 0.1009 - digit_0_loss: 0.0165 - digit_1_loss: 0.0168 - digit_2_loss: 0.0164 - digit_0_accuracy: 0.9809 - digit_1_accuracy: 0.9802 - digit_2_accuracy: 0.9814 - val_loss: 0.0719 - val_digit_0_loss: 0.0078 - val_digit_1_loss: 0.0078 - val_digit_2_loss: 0.0072 - val_digit_0_accuracy: 0.9873 - val_digit_1_accuracy: 0.9879 - val_digit_2_accuracy: 0.9881\n",
      "Epoch 18/20\n",
      "1600/1600 [==============================] - 46s 29ms/step - loss: 0.0947 - digit_0_loss: 0.0161 - digit_1_loss: 0.0157 - digit_2_loss: 0.0155 - digit_0_accuracy: 0.9812 - digit_1_accuracy: 0.9810 - digit_2_accuracy: 0.9820 - val_loss: 0.0696 - val_digit_0_loss: 0.0082 - val_digit_1_loss: 0.0076 - val_digit_2_loss: 0.0078 - val_digit_0_accuracy: 0.9873 - val_digit_1_accuracy: 0.9877 - val_digit_2_accuracy: 0.9878\n",
      "Epoch 19/20\n",
      "1600/1600 [==============================] - 46s 29ms/step - loss: 0.0920 - digit_0_loss: 0.0158 - digit_1_loss: 0.0159 - digit_2_loss: 0.0154 - digit_0_accuracy: 0.9809 - digit_1_accuracy: 0.9819 - digit_2_accuracy: 0.9822 - val_loss: 0.0662 - val_digit_0_loss: 0.0079 - val_digit_1_loss: 0.0073 - val_digit_2_loss: 0.0071 - val_digit_0_accuracy: 0.9870 - val_digit_1_accuracy: 0.9880 - val_digit_2_accuracy: 0.9889\n",
      "Epoch 20/20\n",
      "1600/1600 [==============================] - 46s 29ms/step - loss: 0.0884 - digit_0_loss: 0.0152 - digit_1_loss: 0.0159 - digit_2_loss: 0.0144 - digit_0_accuracy: 0.9827 - digit_1_accuracy: 0.9817 - digit_2_accuracy: 0.9836 - val_loss: 0.0637 - val_digit_0_loss: 0.0077 - val_digit_1_loss: 0.0068 - val_digit_2_loss: 0.0070 - val_digit_0_accuracy: 0.9878 - val_digit_1_accuracy: 0.9894 - val_digit_2_accuracy: 0.9892\n",
      "Epoch 1/20\n",
      "1600/1600 [==============================] - 58s 34ms/step - loss: 1.0029 - digit_0_loss: 0.2202 - digit_1_loss: 0.2222 - digit_2_loss: 0.2269 - digit_0_accuracy: 0.6304 - digit_1_accuracy: 0.6236 - digit_2_accuracy: 0.6093 - val_loss: 0.3359 - val_digit_0_loss: 0.0520 - val_digit_1_loss: 0.0585 - val_digit_2_loss: 0.0530 - val_digit_0_accuracy: 0.9450 - val_digit_1_accuracy: 0.9233 - val_digit_2_accuracy: 0.9438\n",
      "Epoch 2/20\n",
      "1600/1600 [==============================] - 51s 32ms/step - loss: 0.3590 - digit_0_loss: 0.0596 - digit_1_loss: 0.0607 - digit_2_loss: 0.0611 - digit_0_accuracy: 0.9298 - digit_1_accuracy: 0.9278 - digit_2_accuracy: 0.9270 - val_loss: 0.2726 - val_digit_0_loss: 0.0268 - val_digit_1_loss: 0.0306 - val_digit_2_loss: 0.0289 - val_digit_0_accuracy: 0.9666 - val_digit_1_accuracy: 0.9613 - val_digit_2_accuracy: 0.9650\n",
      "Epoch 3/20\n",
      "1600/1600 [==============================] - 51s 32ms/step - loss: 0.3465 - digit_0_loss: 0.0533 - digit_1_loss: 0.0528 - digit_2_loss: 0.0524 - digit_0_accuracy: 0.9378 - digit_1_accuracy: 0.9378 - digit_2_accuracy: 0.9389 - val_loss: 0.2683 - val_digit_0_loss: 0.0266 - val_digit_1_loss: 0.0272 - val_digit_2_loss: 0.0229 - val_digit_0_accuracy: 0.9641 - val_digit_1_accuracy: 0.9643 - val_digit_2_accuracy: 0.9715\n",
      "Epoch 4/20\n",
      "1600/1600 [==============================] - 43s 27ms/step - loss: 0.3325 - digit_0_loss: 0.0485 - digit_1_loss: 0.0482 - digit_2_loss: 0.0479 - digit_0_accuracy: 0.9429 - digit_1_accuracy: 0.9433 - digit_2_accuracy: 0.9428 - val_loss: 0.3069 - val_digit_0_loss: 0.0374 - val_digit_1_loss: 0.0540 - val_digit_2_loss: 0.0306 - val_digit_0_accuracy: 0.9501 - val_digit_1_accuracy: 0.9280 - val_digit_2_accuracy: 0.9590\n",
      "Epoch 5/20\n",
      "1600/1600 [==============================] - 44s 28ms/step - loss: 0.3174 - digit_0_loss: 0.0448 - digit_1_loss: 0.0448 - digit_2_loss: 0.0442 - digit_0_accuracy: 0.9455 - digit_1_accuracy: 0.9470 - digit_2_accuracy: 0.9475 - val_loss: 0.2845 - val_digit_0_loss: 0.0337 - val_digit_1_loss: 0.0387 - val_digit_2_loss: 0.0302 - val_digit_0_accuracy: 0.9471 - val_digit_1_accuracy: 0.9420 - val_digit_2_accuracy: 0.9553\n",
      "Epoch 6/20\n",
      "1600/1600 [==============================] - 48s 30ms/step - loss: 0.3059 - digit_0_loss: 0.0430 - digit_1_loss: 0.0424 - digit_2_loss: 0.0423 - digit_0_accuracy: 0.9470 - digit_1_accuracy: 0.9479 - digit_2_accuracy: 0.9482 - val_loss: 0.2518 - val_digit_0_loss: 0.0247 - val_digit_1_loss: 0.0267 - val_digit_2_loss: 0.0236 - val_digit_0_accuracy: 0.9600 - val_digit_1_accuracy: 0.9591 - val_digit_2_accuracy: 0.9655\n",
      "Epoch 7/20\n",
      "1600/1600 [==============================] - 46s 29ms/step - loss: 0.2978 - digit_0_loss: 0.0410 - digit_1_loss: 0.0424 - digit_2_loss: 0.0407 - digit_0_accuracy: 0.9495 - digit_1_accuracy: 0.9475 - digit_2_accuracy: 0.9494 - val_loss: 0.2294 - val_digit_0_loss: 0.0188 - val_digit_1_loss: 0.0207 - val_digit_2_loss: 0.0175 - val_digit_0_accuracy: 0.9738 - val_digit_1_accuracy: 0.9690 - val_digit_2_accuracy: 0.9729\n",
      "Epoch 8/20\n",
      "1600/1600 [==============================] - 44s 28ms/step - loss: 0.2929 - digit_0_loss: 0.0406 - digit_1_loss: 0.0411 - digit_2_loss: 0.0405 - digit_0_accuracy: 0.9494 - digit_1_accuracy: 0.9486 - digit_2_accuracy: 0.9498 - val_loss: 0.2407 - val_digit_0_loss: 0.0228 - val_digit_1_loss: 0.0246 - val_digit_2_loss: 0.0222 - val_digit_0_accuracy: 0.9664 - val_digit_1_accuracy: 0.9617 - val_digit_2_accuracy: 0.9672\n",
      "Epoch 9/20\n",
      "1600/1600 [==============================] - 48s 30ms/step - loss: 0.2890 - digit_0_loss: 0.0399 - digit_1_loss: 0.0404 - digit_2_loss: 0.0399 - digit_0_accuracy: 0.9486 - digit_1_accuracy: 0.9486 - digit_2_accuracy: 0.9506 - val_loss: 0.2397 - val_digit_0_loss: 0.0232 - val_digit_1_loss: 0.0266 - val_digit_2_loss: 0.0225 - val_digit_0_accuracy: 0.9649 - val_digit_1_accuracy: 0.9586 - val_digit_2_accuracy: 0.9667\n",
      "Epoch 10/20\n",
      "1600/1600 [==============================] - 44s 27ms/step - loss: 0.2846 - digit_0_loss: 0.0395 - digit_1_loss: 0.0396 - digit_2_loss: 0.0393 - digit_0_accuracy: 0.9500 - digit_1_accuracy: 0.9488 - digit_2_accuracy: 0.9506 - val_loss: 0.2259 - val_digit_0_loss: 0.0205 - val_digit_1_loss: 0.0219 - val_digit_2_loss: 0.0181 - val_digit_0_accuracy: 0.9670 - val_digit_1_accuracy: 0.9654 - val_digit_2_accuracy: 0.9730\n",
      "Epoch 11/20\n",
      "1600/1600 [==============================] - 47s 30ms/step - loss: 0.2823 - digit_0_loss: 0.0387 - digit_1_loss: 0.0399 - digit_2_loss: 0.0392 - digit_0_accuracy: 0.9504 - digit_1_accuracy: 0.9484 - digit_2_accuracy: 0.9508 - val_loss: 0.2157 - val_digit_0_loss: 0.0174 - val_digit_1_loss: 0.0178 - val_digit_2_loss: 0.0173 - val_digit_0_accuracy: 0.9730 - val_digit_1_accuracy: 0.9723 - val_digit_2_accuracy: 0.9724\n",
      "Epoch 12/20\n",
      "1600/1600 [==============================] - 48s 30ms/step - loss: 0.2158 - digit_0_loss: 0.0254 - digit_1_loss: 0.0261 - digit_2_loss: 0.0254 - digit_0_accuracy: 0.9692 - digit_1_accuracy: 0.9674 - digit_2_accuracy: 0.9693 - val_loss: 0.1434 - val_digit_0_loss: 0.0093 - val_digit_1_loss: 0.0091 - val_digit_2_loss: 0.0082 - val_digit_0_accuracy: 0.9845 - val_digit_1_accuracy: 0.9849 - val_digit_2_accuracy: 0.9871\n",
      "Epoch 13/20\n",
      "1600/1600 [==============================] - 47s 30ms/step - loss: 0.1606 - digit_0_loss: 0.0198 - digit_1_loss: 0.0207 - digit_2_loss: 0.0199 - digit_0_accuracy: 0.9760 - digit_1_accuracy: 0.9755 - digit_2_accuracy: 0.9765 - val_loss: 0.1094 - val_digit_0_loss: 0.0077 - val_digit_1_loss: 0.0080 - val_digit_2_loss: 0.0073 - val_digit_0_accuracy: 0.9873 - val_digit_1_accuracy: 0.9863 - val_digit_2_accuracy: 0.9891\n",
      "Epoch 14/20\n",
      "1600/1600 [==============================] - 46s 29ms/step - loss: 0.1327 - digit_0_loss: 0.0183 - digit_1_loss: 0.0188 - digit_2_loss: 0.0185 - digit_0_accuracy: 0.9780 - digit_1_accuracy: 0.9768 - digit_2_accuracy: 0.9777 - val_loss: 0.0921 - val_digit_0_loss: 0.0077 - val_digit_1_loss: 0.0079 - val_digit_2_loss: 0.0071 - val_digit_0_accuracy: 0.9867 - val_digit_1_accuracy: 0.9875 - val_digit_2_accuracy: 0.9882\n",
      "Epoch 15/20\n",
      "1600/1600 [==============================] - 44s 28ms/step - loss: 0.1163 - digit_0_loss: 0.0176 - digit_1_loss: 0.0174 - digit_2_loss: 0.0172 - digit_0_accuracy: 0.9793 - digit_1_accuracy: 0.9795 - digit_2_accuracy: 0.9801 - val_loss: 0.0799 - val_digit_0_loss: 0.0070 - val_digit_1_loss: 0.0072 - val_digit_2_loss: 0.0064 - val_digit_0_accuracy: 0.9881 - val_digit_1_accuracy: 0.9874 - val_digit_2_accuracy: 0.9902\n",
      "Epoch 16/20\n",
      "1600/1600 [==============================] - 47s 30ms/step - loss: 0.1064 - digit_0_loss: 0.0163 - digit_1_loss: 0.0172 - digit_2_loss: 0.0171 - digit_0_accuracy: 0.9813 - digit_1_accuracy: 0.9800 - digit_2_accuracy: 0.9805 - val_loss: 0.0738 - val_digit_0_loss: 0.0068 - val_digit_1_loss: 0.0075 - val_digit_2_loss: 0.0065 - val_digit_0_accuracy: 0.9886 - val_digit_1_accuracy: 0.9884 - val_digit_2_accuracy: 0.9891\n",
      "Epoch 17/20\n",
      "1600/1600 [==============================] - 48s 30ms/step - loss: 0.0993 - digit_0_loss: 0.0163 - digit_1_loss: 0.0166 - digit_2_loss: 0.0158 - digit_0_accuracy: 0.9812 - digit_1_accuracy: 0.9803 - digit_2_accuracy: 0.9810 - val_loss: 0.0694 - val_digit_0_loss: 0.0068 - val_digit_1_loss: 0.0072 - val_digit_2_loss: 0.0067 - val_digit_0_accuracy: 0.9887 - val_digit_1_accuracy: 0.9885 - val_digit_2_accuracy: 0.9891\n",
      "Epoch 18/20\n",
      "1600/1600 [==============================] - 45s 28ms/step - loss: 0.0951 - digit_0_loss: 0.0161 - digit_1_loss: 0.0162 - digit_2_loss: 0.0156 - digit_0_accuracy: 0.9809 - digit_1_accuracy: 0.9809 - digit_2_accuracy: 0.9817 - val_loss: 0.0669 - val_digit_0_loss: 0.0069 - val_digit_1_loss: 0.0074 - val_digit_2_loss: 0.0068 - val_digit_0_accuracy: 0.9887 - val_digit_1_accuracy: 0.9882 - val_digit_2_accuracy: 0.9893\n",
      "Epoch 19/20\n",
      "1600/1600 [==============================] - 44s 28ms/step - loss: 0.0909 - digit_0_loss: 0.0155 - digit_1_loss: 0.0159 - digit_2_loss: 0.0149 - digit_0_accuracy: 0.9815 - digit_1_accuracy: 0.9816 - digit_2_accuracy: 0.9833 - val_loss: 0.0636 - val_digit_0_loss: 0.0069 - val_digit_1_loss: 0.0071 - val_digit_2_loss: 0.0061 - val_digit_0_accuracy: 0.9885 - val_digit_1_accuracy: 0.9883 - val_digit_2_accuracy: 0.9904\n",
      "Epoch 20/20\n",
      "1600/1600 [==============================] - 45s 28ms/step - loss: 0.0882 - digit_0_loss: 0.0155 - digit_1_loss: 0.0154 - digit_2_loss: 0.0146 - digit_0_accuracy: 0.9812 - digit_1_accuracy: 0.9821 - digit_2_accuracy: 0.9835 - val_loss: 0.0616 - val_digit_0_loss: 0.0065 - val_digit_1_loss: 0.0071 - val_digit_2_loss: 0.0061 - val_digit_0_accuracy: 0.9896 - val_digit_1_accuracy: 0.9879 - val_digit_2_accuracy: 0.9902\n",
      "Epoch 1/20\n",
      "1600/1600 [==============================] - 52s 31ms/step - loss: 1.0049 - digit_0_loss: 0.2213 - digit_1_loss: 0.2236 - digit_2_loss: 0.2264 - digit_0_accuracy: 0.6271 - digit_1_accuracy: 0.6231 - digit_2_accuracy: 0.6090 - val_loss: 0.2880 - val_digit_0_loss: 0.0414 - val_digit_1_loss: 0.0382 - val_digit_2_loss: 0.0376 - val_digit_0_accuracy: 0.9476 - val_digit_1_accuracy: 0.9565 - val_digit_2_accuracy: 0.9564\n",
      "Epoch 2/20\n",
      "1600/1600 [==============================] - 47s 30ms/step - loss: 0.3552 - digit_0_loss: 0.0602 - digit_1_loss: 0.0605 - digit_2_loss: 0.0590 - digit_0_accuracy: 0.9293 - digit_1_accuracy: 0.9280 - digit_2_accuracy: 0.9306 - val_loss: 0.2782 - val_digit_0_loss: 0.0337 - val_digit_1_loss: 0.0344 - val_digit_2_loss: 0.0292 - val_digit_0_accuracy: 0.9596 - val_digit_1_accuracy: 0.9548 - val_digit_2_accuracy: 0.9646\n",
      "Epoch 3/20\n",
      "1600/1600 [==============================] - 46s 28ms/step - loss: 0.3471 - digit_0_loss: 0.0532 - digit_1_loss: 0.0535 - digit_2_loss: 0.0525 - digit_0_accuracy: 0.9387 - digit_1_accuracy: 0.9367 - digit_2_accuracy: 0.9389 - val_loss: 0.2812 - val_digit_0_loss: 0.0308 - val_digit_1_loss: 0.0301 - val_digit_2_loss: 0.0304 - val_digit_0_accuracy: 0.9580 - val_digit_1_accuracy: 0.9614 - val_digit_2_accuracy: 0.9595\n",
      "Epoch 4/20\n",
      "1600/1600 [==============================] - 46s 29ms/step - loss: 0.3318 - digit_0_loss: 0.0484 - digit_1_loss: 0.0483 - digit_2_loss: 0.0473 - digit_0_accuracy: 0.9448 - digit_1_accuracy: 0.9440 - digit_2_accuracy: 0.9454 - val_loss: 0.2728 - val_digit_0_loss: 0.0322 - val_digit_1_loss: 0.0282 - val_digit_2_loss: 0.0271 - val_digit_0_accuracy: 0.9579 - val_digit_1_accuracy: 0.9644 - val_digit_2_accuracy: 0.9674\n",
      "Epoch 5/20\n",
      "1600/1600 [==============================] - 40s 25ms/step - loss: 0.3163 - digit_0_loss: 0.0448 - digit_1_loss: 0.0449 - digit_2_loss: 0.0443 - digit_0_accuracy: 0.9480 - digit_1_accuracy: 0.9453 - digit_2_accuracy: 0.9474 - val_loss: 0.2381 - val_digit_0_loss: 0.0214 - val_digit_1_loss: 0.0207 - val_digit_2_loss: 0.0190 - val_digit_0_accuracy: 0.9677 - val_digit_1_accuracy: 0.9698 - val_digit_2_accuracy: 0.9701\n",
      "Epoch 6/20\n",
      "1600/1600 [==============================] - 39s 24ms/step - loss: 0.3048 - digit_0_loss: 0.0427 - digit_1_loss: 0.0436 - digit_2_loss: 0.0422 - digit_0_accuracy: 0.9481 - digit_1_accuracy: 0.9459 - digit_2_accuracy: 0.9485 - val_loss: 0.4423 - val_digit_0_loss: 0.0897 - val_digit_1_loss: 0.0892 - val_digit_2_loss: 0.0933 - val_digit_0_accuracy: 0.8548 - val_digit_1_accuracy: 0.8502 - val_digit_2_accuracy: 0.8417\n",
      "Epoch 7/20\n",
      "1600/1600 [==============================] - 42s 26ms/step - loss: 0.2945 - digit_0_loss: 0.0427 - digit_1_loss: 0.0417 - digit_2_loss: 0.0399 - digit_0_accuracy: 0.9467 - digit_1_accuracy: 0.9479 - digit_2_accuracy: 0.9513 - val_loss: 0.2724 - val_digit_0_loss: 0.0324 - val_digit_1_loss: 0.0398 - val_digit_2_loss: 0.0317 - val_digit_0_accuracy: 0.9497 - val_digit_1_accuracy: 0.9352 - val_digit_2_accuracy: 0.9502\n",
      "Epoch 8/20\n",
      "1600/1600 [==============================] - 38s 24ms/step - loss: 0.2908 - digit_0_loss: 0.0407 - digit_1_loss: 0.0407 - digit_2_loss: 0.0405 - digit_0_accuracy: 0.9490 - digit_1_accuracy: 0.9473 - digit_2_accuracy: 0.9498 - val_loss: 0.2438 - val_digit_0_loss: 0.0260 - val_digit_1_loss: 0.0244 - val_digit_2_loss: 0.0254 - val_digit_0_accuracy: 0.9602 - val_digit_1_accuracy: 0.9642 - val_digit_2_accuracy: 0.9604\n",
      "Epoch 9/20\n",
      "1600/1600 [==============================] - 38s 24ms/step - loss: 0.2859 - digit_0_loss: 0.0396 - digit_1_loss: 0.0402 - digit_2_loss: 0.0391 - digit_0_accuracy: 0.9498 - digit_1_accuracy: 0.9497 - digit_2_accuracy: 0.9508 - val_loss: 0.2212 - val_digit_0_loss: 0.0187 - val_digit_1_loss: 0.0183 - val_digit_2_loss: 0.0192 - val_digit_0_accuracy: 0.9704 - val_digit_1_accuracy: 0.9723 - val_digit_2_accuracy: 0.9704\n",
      "Epoch 10/20\n",
      "1600/1600 [==============================] - 37s 23ms/step - loss: 0.2818 - digit_0_loss: 0.0393 - digit_1_loss: 0.0389 - digit_2_loss: 0.0382 - digit_0_accuracy: 0.9496 - digit_1_accuracy: 0.9494 - digit_2_accuracy: 0.9518 - val_loss: 0.2106 - val_digit_0_loss: 0.0160 - val_digit_1_loss: 0.0170 - val_digit_2_loss: 0.0162 - val_digit_0_accuracy: 0.9764 - val_digit_1_accuracy: 0.9737 - val_digit_2_accuracy: 0.9746\n",
      "Epoch 11/20\n",
      "1600/1600 [==============================] - 38s 24ms/step - loss: 0.2803 - digit_0_loss: 0.0389 - digit_1_loss: 0.0396 - digit_2_loss: 0.0379 - digit_0_accuracy: 0.9502 - digit_1_accuracy: 0.9502 - digit_2_accuracy: 0.9511 - val_loss: 0.2384 - val_digit_0_loss: 0.0256 - val_digit_1_loss: 0.0248 - val_digit_2_loss: 0.0269 - val_digit_0_accuracy: 0.9602 - val_digit_1_accuracy: 0.9602 - val_digit_2_accuracy: 0.9548\n",
      "Epoch 12/20\n",
      "1600/1600 [==============================] - 37s 23ms/step - loss: 0.2150 - digit_0_loss: 0.0259 - digit_1_loss: 0.0260 - digit_2_loss: 0.0252 - digit_0_accuracy: 0.9679 - digit_1_accuracy: 0.9677 - digit_2_accuracy: 0.9695 - val_loss: 0.1435 - val_digit_0_loss: 0.0087 - val_digit_1_loss: 0.0092 - val_digit_2_loss: 0.0090 - val_digit_0_accuracy: 0.9852 - val_digit_1_accuracy: 0.9844 - val_digit_2_accuracy: 0.9848\n",
      "Epoch 13/20\n",
      "1600/1600 [==============================] - 41s 26ms/step - loss: 0.1611 - digit_0_loss: 0.0202 - digit_1_loss: 0.0203 - digit_2_loss: 0.0204 - digit_0_accuracy: 0.9753 - digit_1_accuracy: 0.9756 - digit_2_accuracy: 0.9755 - val_loss: 0.1120 - val_digit_0_loss: 0.0081 - val_digit_1_loss: 0.0088 - val_digit_2_loss: 0.0084 - val_digit_0_accuracy: 0.9869 - val_digit_1_accuracy: 0.9859 - val_digit_2_accuracy: 0.9856\n",
      "Epoch 14/20\n",
      "1600/1600 [==============================] - 39s 25ms/step - loss: 0.1336 - digit_0_loss: 0.0190 - digit_1_loss: 0.0188 - digit_2_loss: 0.0185 - digit_0_accuracy: 0.9775 - digit_1_accuracy: 0.9777 - digit_2_accuracy: 0.9791 - val_loss: 0.0930 - val_digit_0_loss: 0.0075 - val_digit_1_loss: 0.0081 - val_digit_2_loss: 0.0078 - val_digit_0_accuracy: 0.9883 - val_digit_1_accuracy: 0.9867 - val_digit_2_accuracy: 0.9866\n",
      "Epoch 15/20\n",
      "1600/1600 [==============================] - 38s 24ms/step - loss: 0.1176 - digit_0_loss: 0.0179 - digit_1_loss: 0.0180 - digit_2_loss: 0.0176 - digit_0_accuracy: 0.9781 - digit_1_accuracy: 0.9784 - digit_2_accuracy: 0.9794 - val_loss: 0.0818 - val_digit_0_loss: 0.0073 - val_digit_1_loss: 0.0077 - val_digit_2_loss: 0.0071 - val_digit_0_accuracy: 0.9888 - val_digit_1_accuracy: 0.9883 - val_digit_2_accuracy: 0.9877\n",
      "Epoch 16/20\n",
      "1600/1600 [==============================] - 37s 23ms/step - loss: 0.1056 - digit_0_loss: 0.0167 - digit_1_loss: 0.0166 - digit_2_loss: 0.0163 - digit_0_accuracy: 0.9806 - digit_1_accuracy: 0.9804 - digit_2_accuracy: 0.9812 - val_loss: 0.0751 - val_digit_0_loss: 0.0070 - val_digit_1_loss: 0.0076 - val_digit_2_loss: 0.0074 - val_digit_0_accuracy: 0.9884 - val_digit_1_accuracy: 0.9886 - val_digit_2_accuracy: 0.9867\n",
      "Epoch 17/20\n",
      "1600/1600 [==============================] - 37s 23ms/step - loss: 0.0998 - digit_0_loss: 0.0166 - digit_1_loss: 0.0168 - digit_2_loss: 0.0158 - digit_0_accuracy: 0.9801 - digit_1_accuracy: 0.9797 - digit_2_accuracy: 0.9822 - val_loss: 0.0709 - val_digit_0_loss: 0.0068 - val_digit_1_loss: 0.0078 - val_digit_2_loss: 0.0077 - val_digit_0_accuracy: 0.9888 - val_digit_1_accuracy: 0.9877 - val_digit_2_accuracy: 0.9871\n",
      "Epoch 18/20\n",
      "1600/1600 [==============================] - 37s 23ms/step - loss: 0.0948 - digit_0_loss: 0.0159 - digit_1_loss: 0.0161 - digit_2_loss: 0.0157 - digit_0_accuracy: 0.9809 - digit_1_accuracy: 0.9810 - digit_2_accuracy: 0.9822 - val_loss: 0.0670 - val_digit_0_loss: 0.0066 - val_digit_1_loss: 0.0074 - val_digit_2_loss: 0.0073 - val_digit_0_accuracy: 0.9898 - val_digit_1_accuracy: 0.9882 - val_digit_2_accuracy: 0.9878\n",
      "Epoch 19/20\n",
      "1600/1600 [==============================] - 40s 25ms/step - loss: 0.0906 - digit_0_loss: 0.0150 - digit_1_loss: 0.0161 - digit_2_loss: 0.0150 - digit_0_accuracy: 0.9819 - digit_1_accuracy: 0.9811 - digit_2_accuracy: 0.9831 - val_loss: 0.0664 - val_digit_0_loss: 0.0073 - val_digit_1_loss: 0.0079 - val_digit_2_loss: 0.0077 - val_digit_0_accuracy: 0.9884 - val_digit_1_accuracy: 0.9878 - val_digit_2_accuracy: 0.9868\n",
      "Epoch 20/20\n",
      "1600/1600 [==============================] - 40s 25ms/step - loss: 0.0891 - digit_0_loss: 0.0160 - digit_1_loss: 0.0155 - digit_2_loss: 0.0149 - digit_0_accuracy: 0.9811 - digit_1_accuracy: 0.9817 - digit_2_accuracy: 0.9830 - val_loss: 0.0628 - val_digit_0_loss: 0.0069 - val_digit_1_loss: 0.0069 - val_digit_2_loss: 0.0069 - val_digit_0_accuracy: 0.9895 - val_digit_1_accuracy: 0.9884 - val_digit_2_accuracy: 0.9880\n"
     ]
    }
   ],
   "source": [
    "for train_index, val_index in kf.split(X_train):\n",
    "    X_train_fold, X_val_fold = X_train[train_index], X_train[val_index]\n",
    "    y_train_fold = {key: y_train_dict[key][train_index] for key in y_train_dict}\n",
    "    y_val_fold = {key: y_train_dict[key][val_index] for key in y_train_dict}\n",
    "\n",
    "    model = create_cnn_model_smaxbc_hyper()  # Using CNN model using the best hyperparameters obtained from the tuning process\n",
    "\n",
    "    history = model.fit(\n",
    "        custom_data_generator(X_train_fold, y_train_fold, batch_size=32),\n",
    "        epochs=20, verbose=1, steps_per_epoch=len(X_train_fold) // 32,\n",
    "        validation_data=(X_val_fold, y_val_fold),\n",
    "        callbacks=[early_stopping, lr_scheduler, tensorboard_callback]    )"
   ]
  },
  {
   "cell_type": "code",
   "execution_count": 118,
   "id": "be6e65ac-98ed-4d7c-9631-cfe678a08830",
   "metadata": {},
   "outputs": [
    {
     "data": {
      "image/png": "[encoded data removed]",
      "text/plain": [
       "<Figure size 1400x500 with 2 Axes>"
      ]
     },
     "metadata": {},
     "output_type": "display_data"
    }
   ],
   "source": [
    "# Plot learning curves for the last fold\n",
    "plot_learning_curves(history)"
   ]
  },
  {
   "cell_type": "markdown",
   "id": "240c24f1-62c1-4f2c-bbd5-ec3ea2436fab",
   "metadata": {},
   "source": [
    "## **11. Re-Evaluate The Model**\n",
    "Re-Evaluate The Model after Hyperparameter Tuning"
   ]
  },
  {
   "cell_type": "code",
   "execution_count": 121,
   "id": "55f0db3b-7f98-48fe-9065-0218aed11464",
   "metadata": {},
   "outputs": [
    {
     "data": {
      "text/html": [
       "\n",
       "      <iframe id=\"tensorboard-frame-cd5b7f63d081eec8\" width=\"100%\" height=\"800\" frameborder=\"0\">\n",
       "      </iframe>\n",
       "      <script>\n",
       "        (function() {\n",
       "          const frame = document.getElementById(\"tensorboard-frame-cd5b7f63d081eec8\");\n",
       "          const url = new URL(\"/\", window.location);\n",
       "          const port = 6006;\n",
       "          if (port) {\n",
       "            url.port = port;\n",
       "          }\n",
       "          frame.src = url;\n",
       "        })();\n",
       "      </script>\n",
       "    "
      ],
      "text/plain": [
       "<IPython.core.display.HTML object>"
      ]
     },
     "metadata": {},
     "output_type": "display_data"
    }
   ],
   "source": [
    "%reload_ext tensorboard\n",
    "%tensorboard --logdir logs/fit"
   ]
  },
  {
   "cell_type": "markdown",
   "id": "b9f5667d-9786-4d4f-a4fc-de372b472dac",
   "metadata": {},
   "source": [
    "## Interpretation\n",
    "\n",
    "-There are some fluctuations in the early epochs, but overall, the training and validation accuracies are close to each other. The model is showing improvement and better performance after hyperparameter tuning. The tuning made the model way better. Both training and validation accuracies are higher, and losses are lower.\n",
    "\n",
    "### Training and Validation Accuracy\n",
    "- The training accuracy has gotten better and keeps going up more than 96%. It means the model is learning more about the digits.\n",
    "- The validation accuracy is also getting better and follows the training accuracy closely. This means the model isn’t just memorizing the training data but is also good at predicting new data. The validation accuracy goes up to about the same level as the training accuracy, which is great because it shows there’s no overfitting.\n",
    "\n",
    "### Training and validation Loss\n",
    "The training loss keeps going down, showing the model is making fewer mistakes on the training data.\n",
    "There’s a drop around epoch 2-3. After that, the loss keeps going down but a bit slower.\n",
    "The validation loss is also going down and matches the training loss trend. This means the model is doing better on new data too.\n",
    "The validation loss is close to the training loss, which is good, because it means the model is not overfitting.\n",
    "\n",
    "##### The lowest loss using 'binary-crossentropy' as the loss function is around  is around 0.1, which is lower than loss using 'categorical-crossentropy' as the loss function."
   ]
  },
  {
   "cell_type": "markdown",
   "id": "55012ae8-b490-4d75-bc6e-e2b7a3490194",
   "metadata": {},
   "source": [
    "## **Final evaluation on the test set Using CNN model with Softmax activation function and binary crossentropy**"
   ]
  },
  {
   "cell_type": "code",
   "execution_count": 127,
   "id": "3cb8da00-4629-454c-9df3-56ae3656ec39",
   "metadata": {},
   "outputs": [
    {
     "name": "stdout",
     "output_type": "stream",
     "text": [
      "Epoch 1/20\n",
      "1600/1600 [==============================] - 49s 29ms/step - loss: 0.9998 - digit_0_loss: 0.2179 - digit_1_loss: 0.2215 - digit_2_loss: 0.2249 - digit_0_accuracy: 0.6391 - digit_1_accuracy: 0.6298 - digit_2_accuracy: 0.6178 - val_loss: 0.2763 - val_digit_0_loss: 0.0362 - val_digit_1_loss: 0.0368 - val_digit_2_loss: 0.0332 - val_digit_0_accuracy: 0.9640 - val_digit_1_accuracy: 0.9609 - val_digit_2_accuracy: 0.9660\n",
      "Epoch 2/20\n",
      "1600/1600 [==============================] - 41s 26ms/step - loss: 0.3554 - digit_0_loss: 0.0590 - digit_1_loss: 0.0610 - digit_2_loss: 0.0603 - digit_0_accuracy: 0.9306 - digit_1_accuracy: 0.9271 - digit_2_accuracy: 0.9285 - val_loss: 0.2914 - val_digit_0_loss: 0.0379 - val_digit_1_loss: 0.0360 - val_digit_2_loss: 0.0333 - val_digit_0_accuracy: 0.9520 - val_digit_1_accuracy: 0.9556 - val_digit_2_accuracy: 0.9614\n",
      "Epoch 3/20\n",
      "1600/1600 [==============================] - 39s 24ms/step - loss: 0.3472 - digit_0_loss: 0.0530 - digit_1_loss: 0.0530 - digit_2_loss: 0.0528 - digit_0_accuracy: 0.9383 - digit_1_accuracy: 0.9385 - digit_2_accuracy: 0.9377 - val_loss: 0.3080 - val_digit_0_loss: 0.0439 - val_digit_1_loss: 0.0380 - val_digit_2_loss: 0.0383 - val_digit_0_accuracy: 0.9480 - val_digit_1_accuracy: 0.9528 - val_digit_2_accuracy: 0.9516\n",
      "Epoch 4/20\n",
      "1600/1600 [==============================] - 38s 24ms/step - loss: 0.3310 - digit_0_loss: 0.0478 - digit_1_loss: 0.0480 - digit_2_loss: 0.0480 - digit_0_accuracy: 0.9438 - digit_1_accuracy: 0.9427 - digit_2_accuracy: 0.9430 - val_loss: 0.2521 - val_digit_0_loss: 0.0227 - val_digit_1_loss: 0.0235 - val_digit_2_loss: 0.0199 - val_digit_0_accuracy: 0.9684 - val_digit_1_accuracy: 0.9678 - val_digit_2_accuracy: 0.9730\n",
      "Epoch 5/20\n",
      "1600/1600 [==============================] - 38s 24ms/step - loss: 0.3171 - digit_0_loss: 0.0453 - digit_1_loss: 0.0446 - digit_2_loss: 0.0435 - digit_0_accuracy: 0.9458 - digit_1_accuracy: 0.9458 - digit_2_accuracy: 0.9482 - val_loss: 0.2418 - val_digit_0_loss: 0.0230 - val_digit_1_loss: 0.0221 - val_digit_2_loss: 0.0183 - val_digit_0_accuracy: 0.9709 - val_digit_1_accuracy: 0.9717 - val_digit_2_accuracy: 0.9771\n",
      "Epoch 6/20\n",
      "1600/1600 [==============================] - 40s 25ms/step - loss: 0.3072 - digit_0_loss: 0.0432 - digit_1_loss: 0.0435 - digit_2_loss: 0.0419 - digit_0_accuracy: 0.9471 - digit_1_accuracy: 0.9462 - digit_2_accuracy: 0.9490 - val_loss: 0.2404 - val_digit_0_loss: 0.0251 - val_digit_1_loss: 0.0237 - val_digit_2_loss: 0.0206 - val_digit_0_accuracy: 0.9630 - val_digit_1_accuracy: 0.9667 - val_digit_2_accuracy: 0.9709\n",
      "Epoch 7/20\n",
      "1600/1600 [==============================] - 41s 26ms/step - loss: 0.2975 - digit_0_loss: 0.0416 - digit_1_loss: 0.0417 - digit_2_loss: 0.0416 - digit_0_accuracy: 0.9484 - digit_1_accuracy: 0.9482 - digit_2_accuracy: 0.9488 - val_loss: 0.2353 - val_digit_0_loss: 0.0234 - val_digit_1_loss: 0.0224 - val_digit_2_loss: 0.0192 - val_digit_0_accuracy: 0.9635 - val_digit_1_accuracy: 0.9650 - val_digit_2_accuracy: 0.9688\n",
      "Epoch 8/20\n",
      "1600/1600 [==============================] - 40s 25ms/step - loss: 0.2938 - digit_0_loss: 0.0410 - digit_1_loss: 0.0420 - digit_2_loss: 0.0403 - digit_0_accuracy: 0.9477 - digit_1_accuracy: 0.9471 - digit_2_accuracy: 0.9486 - val_loss: 0.2236 - val_digit_0_loss: 0.0187 - val_digit_1_loss: 0.0179 - val_digit_2_loss: 0.0168 - val_digit_0_accuracy: 0.9719 - val_digit_1_accuracy: 0.9748 - val_digit_2_accuracy: 0.9752\n",
      "Epoch 9/20\n",
      "1600/1600 [==============================] - 39s 24ms/step - loss: 0.2861 - digit_0_loss: 0.0393 - digit_1_loss: 0.0405 - digit_2_loss: 0.0398 - digit_0_accuracy: 0.9510 - digit_1_accuracy: 0.9477 - digit_2_accuracy: 0.9494 - val_loss: 0.2294 - val_digit_0_loss: 0.0229 - val_digit_1_loss: 0.0214 - val_digit_2_loss: 0.0178 - val_digit_0_accuracy: 0.9648 - val_digit_1_accuracy: 0.9668 - val_digit_2_accuracy: 0.9725\n",
      "Epoch 10/20\n",
      "1600/1600 [==============================] - 40s 25ms/step - loss: 0.2810 - digit_0_loss: 0.0392 - digit_1_loss: 0.0394 - digit_2_loss: 0.0389 - digit_0_accuracy: 0.9497 - digit_1_accuracy: 0.9501 - digit_2_accuracy: 0.9511 - val_loss: 0.2133 - val_digit_0_loss: 0.0184 - val_digit_1_loss: 0.0159 - val_digit_2_loss: 0.0144 - val_digit_0_accuracy: 0.9715 - val_digit_1_accuracy: 0.9762 - val_digit_2_accuracy: 0.9777\n",
      "Epoch 11/20\n",
      "1600/1600 [==============================] - 40s 25ms/step - loss: 0.2764 - digit_0_loss: 0.0377 - digit_1_loss: 0.0399 - digit_2_loss: 0.0385 - digit_0_accuracy: 0.9522 - digit_1_accuracy: 0.9483 - digit_2_accuracy: 0.9506 - val_loss: 0.2176 - val_digit_0_loss: 0.0197 - val_digit_1_loss: 0.0215 - val_digit_2_loss: 0.0187 - val_digit_0_accuracy: 0.9695 - val_digit_1_accuracy: 0.9669 - val_digit_2_accuracy: 0.9719\n",
      "Epoch 12/20\n",
      "1600/1600 [==============================] - 42s 27ms/step - loss: 0.2133 - digit_0_loss: 0.0258 - digit_1_loss: 0.0266 - digit_2_loss: 0.0259 - digit_0_accuracy: 0.9693 - digit_1_accuracy: 0.9671 - digit_2_accuracy: 0.9683 - val_loss: 0.1404 - val_digit_0_loss: 0.0095 - val_digit_1_loss: 0.0092 - val_digit_2_loss: 0.0076 - val_digit_0_accuracy: 0.9840 - val_digit_1_accuracy: 0.9847 - val_digit_2_accuracy: 0.9885\n",
      "Epoch 13/20\n",
      "1600/1600 [==============================] - 42s 26ms/step - loss: 0.1594 - digit_0_loss: 0.0204 - digit_1_loss: 0.0206 - digit_2_loss: 0.0202 - digit_0_accuracy: 0.9761 - digit_1_accuracy: 0.9749 - digit_2_accuracy: 0.9759 - val_loss: 0.1099 - val_digit_0_loss: 0.0090 - val_digit_1_loss: 0.0087 - val_digit_2_loss: 0.0070 - val_digit_0_accuracy: 0.9848 - val_digit_1_accuracy: 0.9851 - val_digit_2_accuracy: 0.9895\n",
      "Epoch 14/20\n",
      "1600/1600 [==============================] - 41s 26ms/step - loss: 0.1326 - digit_0_loss: 0.0187 - digit_1_loss: 0.0190 - digit_2_loss: 0.0187 - digit_0_accuracy: 0.9775 - digit_1_accuracy: 0.9776 - digit_2_accuracy: 0.9773 - val_loss: 0.0923 - val_digit_0_loss: 0.0083 - val_digit_1_loss: 0.0085 - val_digit_2_loss: 0.0068 - val_digit_0_accuracy: 0.9868 - val_digit_1_accuracy: 0.9865 - val_digit_2_accuracy: 0.9895\n",
      "Epoch 15/20\n",
      "1600/1600 [==============================] - 39s 25ms/step - loss: 0.1181 - digit_0_loss: 0.0182 - digit_1_loss: 0.0186 - digit_2_loss: 0.0179 - digit_0_accuracy: 0.9781 - digit_1_accuracy: 0.9771 - digit_2_accuracy: 0.9794 - val_loss: 0.0819 - val_digit_0_loss: 0.0081 - val_digit_1_loss: 0.0081 - val_digit_2_loss: 0.0067 - val_digit_0_accuracy: 0.9866 - val_digit_1_accuracy: 0.9863 - val_digit_2_accuracy: 0.9893\n",
      "Epoch 16/20\n",
      "1600/1600 [==============================] - 39s 24ms/step - loss: 0.1079 - digit_0_loss: 0.0169 - digit_1_loss: 0.0180 - digit_2_loss: 0.0173 - digit_0_accuracy: 0.9802 - digit_1_accuracy: 0.9779 - digit_2_accuracy: 0.9801 - val_loss: 0.0745 - val_digit_0_loss: 0.0078 - val_digit_1_loss: 0.0074 - val_digit_2_loss: 0.0065 - val_digit_0_accuracy: 0.9874 - val_digit_1_accuracy: 0.9880 - val_digit_2_accuracy: 0.9893\n",
      "Epoch 17/20\n",
      "1600/1600 [==============================] - 38s 24ms/step - loss: 0.1004 - digit_0_loss: 0.0164 - digit_1_loss: 0.0173 - digit_2_loss: 0.0163 - digit_0_accuracy: 0.9806 - digit_1_accuracy: 0.9797 - digit_2_accuracy: 0.9814 - val_loss: 0.0698 - val_digit_0_loss: 0.0079 - val_digit_1_loss: 0.0073 - val_digit_2_loss: 0.0061 - val_digit_0_accuracy: 0.9866 - val_digit_1_accuracy: 0.9884 - val_digit_2_accuracy: 0.9895\n",
      "Epoch 18/20\n",
      "1600/1600 [==============================] - 42s 27ms/step - loss: 0.0955 - digit_0_loss: 0.0163 - digit_1_loss: 0.0165 - digit_2_loss: 0.0159 - digit_0_accuracy: 0.9804 - digit_1_accuracy: 0.9806 - digit_2_accuracy: 0.9813 - val_loss: 0.0662 - val_digit_0_loss: 0.0076 - val_digit_1_loss: 0.0071 - val_digit_2_loss: 0.0062 - val_digit_0_accuracy: 0.9884 - val_digit_1_accuracy: 0.9890 - val_digit_2_accuracy: 0.9900\n",
      "Epoch 19/20\n",
      "1600/1600 [==============================] - 43s 27ms/step - loss: 0.0914 - digit_0_loss: 0.0156 - digit_1_loss: 0.0162 - digit_2_loss: 0.0155 - digit_0_accuracy: 0.9821 - digit_1_accuracy: 0.9809 - digit_2_accuracy: 0.9819 - val_loss: 0.0654 - val_digit_0_loss: 0.0080 - val_digit_1_loss: 0.0076 - val_digit_2_loss: 0.0065 - val_digit_0_accuracy: 0.9877 - val_digit_1_accuracy: 0.9878 - val_digit_2_accuracy: 0.9900\n",
      "Epoch 20/20\n",
      "1600/1600 [==============================] - 39s 25ms/step - loss: 0.0886 - digit_0_loss: 0.0155 - digit_1_loss: 0.0155 - digit_2_loss: 0.0154 - digit_0_accuracy: 0.9815 - digit_1_accuracy: 0.9818 - digit_2_accuracy: 0.9818 - val_loss: 0.0629 - val_digit_0_loss: 0.0079 - val_digit_1_loss: 0.0075 - val_digit_2_loss: 0.0061 - val_digit_0_accuracy: 0.9877 - val_digit_1_accuracy: 0.9880 - val_digit_2_accuracy: 0.9907\n",
      "625/625 [==============================] - 11s 17ms/step - loss: 0.0656 - digit_0_loss: 0.0087 - digit_1_loss: 0.0081 - digit_2_loss: 0.0073 - digit_0_accuracy: 0.9863 - digit_1_accuracy: 0.9872 - digit_2_accuracy: 0.9888\n",
      "Test loss: 0.06563404202461243\n",
      "0.008683374151587486\n",
      "0.008130848407745361\n",
      "0.007283779326826334\n",
      "0.986299991607666\n",
      "0.9872499704360962\n",
      "0.9888499975204468\n"
     ]
    }
   ],
   "source": [
    "# Final evaluation on the test set Using CNN model with Softmax activation function and binary crossentropy\n",
    "for train_index, val_index in kf.split(X_train):\n",
    "    X_train_fold, X_val_fold = X_train[train_index], X_train[val_index]\n",
    "    y_train_fold = {key: y_train_dict[key][train_index] for key in y_train_dict}\n",
    "    y_val_fold = {key: y_train_dict[key][val_index] for key in y_train_dict}\n",
    "\n",
    "model = create_cnn_model_smaxbc_hyper()   \n",
    "\n",
    "history = model.fit(\n",
    "        custom_data_generator(X_train_fold, y_train_fold, batch_size=32),\n",
    "        epochs=20, verbose=1, steps_per_epoch=len(X_train_fold) // 32,\n",
    "        validation_data=(X_val_fold, y_val_fold),\n",
    "        callbacks=[early_stopping, lr_scheduler, tensorboard_callback]    )\n",
    "\n",
    "# Evaluate the model on the test set\n",
    "test_metrics = model.evaluate(X_test, y_test_dict)\n",
    "test_loss = test_metrics[0]\n",
    "test_accuracy = test_metrics[1:]\n",
    "\n",
    "print(f'Test loss: {test_loss}')\n",
    "for i, acc in enumerate(test_accuracy):\n",
    "    print(acc)"
   ]
  },
  {
   "cell_type": "markdown",
   "id": "011f04af-d6eb-4cd7-92bd-7938f49b41c6",
   "metadata": {},
   "source": [
    "## Interpretation:\n",
    "\n",
    "The model achieves the ***highest accuracy on the test set*** when using the ***Softmax activation function and binary crossentropy for the loss function***, as opposed to using the sigmoid activation function with the same loss function.\n",
    "\n",
    "The optimal parameters, based on Keras Tuner, are {'conv_1_filters': 96, 'conv_2_filters': 128, 'conv_3_filters': 128, 'dense_units': 256}."
   ]
  }
 ],
 "metadata": {
  "accelerator": "GPU",
  "colab": {
   "gpuType": "T4",
   "provenance": []
  },
  "kernelspec": {
   "display_name": "Python (tf-gpu)",
   "language": "python",
   "name": "tf-gpu"
  },
  "language_info": {
   "codemirror_mode": {
    "name": "ipython",
    "version": 3
   },
   "file_extension": ".py",
   "mimetype": "text/x-python",
   "name": "python",
   "nbconvert_exporter": "python",
   "pygments_lexer": "ipython3",
   "version": "3.8.18"
  },
  "varInspector": {
   "cols": {
    "lenName": 16,
    "lenType": 16,
    "lenVar": 40
   },
   "kernels_config": {
    "python": {
     "delete_cmd_postfix": "",
     "delete_cmd_prefix": "del ",
     "library": "var_list.py",
     "varRefreshCmd": "print(var_dic_list())"
    },
    "r": {
     "delete_cmd_postfix": ") ",
     "delete_cmd_prefix": "rm(",
     "library": "var_list.r",
     "varRefreshCmd": "cat(var_dic_list()) "
    }
   },
   "types_to_exclude": [
    "module",
    "function",
    "builtin_function_or_method",
    "instance",
    "_Feature"
   ],
   "window_display": false
  },
  "widgets": {
   "application/vnd.jupyter.widget-state+json": {
    "05da8026d1dd404aaf3387a0a79d9b29": {
     "model_module": "@jupyter-widgets/controls",
     "model_module_version": "1.5.0",
     "model_name": "HTMLModel",
     "state": {
      "_dom_classes": [],
      "_model_module": "@jupyter-widgets/controls",
      "_model_module_version": "1.5.0",
      "_model_name": "HTMLModel",
      "_view_count": null,
      "_view_module": "@jupyter-widgets/controls",
      "_view_module_version": "1.5.0",
      "_view_name": "HTMLView",
      "description": "",
      "description_tooltip": null,
      "layout": "IPY_MODEL_3f4655c7109342a7a6bf644115f2cbe9",
      "placeholder": "​",
      "style": "IPY_MODEL_bb646fb17c664faf939a7e8737f24dfb",
      "value": " 16000/16000 [00:00&lt;00:00,  4.80it/s]"
     }
    },
    "09331ebdddbd44029bc7f391ae031828": {
     "model_module": "@jupyter-widgets/base",
     "model_module_version": "1.2.0",
     "model_name": "LayoutModel",
     "state": {
      "_model_module": "@jupyter-widgets/base",
      "_model_module_version": "1.2.0",
      "_model_name": "LayoutModel",
      "_view_count": null,
      "_view_module": "@jupyter-widgets/base",
      "_view_module_version": "1.2.0",
      "_view_name": "LayoutView",
      "align_content": null,
      "align_items": null,
      "align_self": null,
      "border": null,
      "bottom": null,
      "display": null,
      "flex": null,
      "flex_flow": null,
      "grid_area": null,
      "grid_auto_columns": null,
      "grid_auto_flow": null,
      "grid_auto_rows": null,
      "grid_column": null,
      "grid_gap": null,
      "grid_row": null,
      "grid_template_areas": null,
      "grid_template_columns": null,
      "grid_template_rows": null,
      "height": null,
      "justify_content": null,
      "justify_items": null,
      "left": null,
      "margin": null,
      "max_height": null,
      "max_width": null,
      "min_height": null,
      "min_width": null,
      "object_fit": null,
      "object_position": null,
      "order": null,
      "overflow": null,
      "overflow_x": null,
      "overflow_y": null,
      "padding": null,
      "right": null,
      "top": null,
      "visibility": null,
      "width": null
     }
    },
    "0bde536ef6fb470298d418149b97f4f9": {
     "model_module": "@jupyter-widgets/controls",
     "model_module_version": "1.5.0",
     "model_name": "HBoxModel",
     "state": {
      "_dom_classes": [],
      "_model_module": "@jupyter-widgets/controls",
      "_model_module_version": "1.5.0",
      "_model_name": "HBoxModel",
      "_view_count": null,
      "_view_module": "@jupyter-widgets/controls",
      "_view_module_version": "1.5.0",
      "_view_name": "HBoxView",
      "box_style": "",
      "children": [
       "IPY_MODEL_a915432dcfea481c84bd941e524f9fb4",
       "IPY_MODEL_1a1bb057e86d4a95a17e6e106fe9100a",
       "IPY_MODEL_05da8026d1dd404aaf3387a0a79d9b29"
      ],
      "layout": "IPY_MODEL_b097b1a472f54c8c9d4dc15db5999007"
     }
    },
    "10462ca8646e404192ca88a98352bbea": {
     "model_module": "@jupyter-widgets/controls",
     "model_module_version": "1.5.0",
     "model_name": "PasswordModel",
     "state": {
      "_dom_classes": [],
      "_model_module": "@jupyter-widgets/controls",
      "_model_module_version": "1.5.0",
      "_model_name": "PasswordModel",
      "_view_count": null,
      "_view_module": "@jupyter-widgets/controls",
      "_view_module_version": "1.5.0",
      "_view_name": "PasswordView",
      "continuous_update": true,
      "description": "Token:",
      "description_tooltip": null,
      "disabled": false,
      "layout": "IPY_MODEL_cff52d752df340afaeeb63fcbb63e328",
      "placeholder": "​",
      "style": "IPY_MODEL_601c0140859240d89716f692ab517aad",
      "value": ""
     }
    },
    "108b19f5590448c5bfe5e9b495cefdac": {
     "model_module": "@jupyter-widgets/base",
     "model_module_version": "1.2.0",
     "model_name": "LayoutModel",
     "state": {
      "_model_module": "@jupyter-widgets/base",
      "_model_module_version": "1.2.0",
      "_model_name": "LayoutModel",
      "_view_count": null,
      "_view_module": "@jupyter-widgets/base",
      "_view_module_version": "1.2.0",
      "_view_name": "LayoutView",
      "align_content": null,
      "align_items": null,
      "align_self": null,
      "border": null,
      "bottom": null,
      "display": null,
      "flex": null,
      "flex_flow": null,
      "grid_area": null,
      "grid_auto_columns": null,
      "grid_auto_flow": null,
      "grid_auto_rows": null,
      "grid_column": null,
      "grid_gap": null,
      "grid_row": null,
      "grid_template_areas": null,
      "grid_template_columns": null,
      "grid_template_rows": null,
      "height": null,
      "justify_content": null,
      "justify_items": null,
      "left": null,
      "margin": null,
      "max_height": null,
      "max_width": null,
      "min_height": null,
      "min_width": null,
      "object_fit": null,
      "object_position": null,
      "order": null,
      "overflow": null,
      "overflow_x": null,
      "overflow_y": null,
      "padding": null,
      "right": null,
      "top": null,
      "visibility": null,
      "width": null
     }
    },
    "127d688781044feba7d85df0560577aa": {
     "model_module": "@jupyter-widgets/base",
     "model_module_version": "1.2.0",
     "model_name": "LayoutModel",
     "state": {
      "_model_module": "@jupyter-widgets/base",
      "_model_module_version": "1.2.0",
      "_model_name": "LayoutModel",
      "_view_count": null,
      "_view_module": "@jupyter-widgets/base",
      "_view_module_version": "1.2.0",
      "_view_name": "LayoutView",
      "align_content": null,
      "align_items": null,
      "align_self": null,
      "border": null,
      "bottom": null,
      "display": null,
      "flex": null,
      "flex_flow": null,
      "grid_area": null,
      "grid_auto_columns": null,
      "grid_auto_flow": null,
      "grid_auto_rows": null,
      "grid_column": null,
      "grid_gap": null,
      "grid_row": null,
      "grid_template_areas": null,
      "grid_template_columns": null,
      "grid_template_rows": null,
      "height": null,
      "justify_content": null,
      "justify_items": null,
      "left": null,
      "margin": null,
      "max_height": null,
      "max_width": null,
      "min_height": null,
      "min_width": null,
      "object_fit": null,
      "object_position": null,
      "order": null,
      "overflow": null,
      "overflow_x": null,
      "overflow_y": null,
      "padding": null,
      "right": null,
      "top": null,
      "visibility": null,
      "width": null
     }
    },
    "131a6301e2794aefb2548cbae50d953a": {
     "model_module": "@jupyter-widgets/controls",
     "model_module_version": "1.5.0",
     "model_name": "HTMLModel",
     "state": {
      "_dom_classes": [],
      "_model_module": "@jupyter-widgets/controls",
      "_model_module_version": "1.5.0",
      "_model_name": "HTMLModel",
      "_view_count": null,
      "_view_module": "@jupyter-widgets/controls",
      "_view_module_version": "1.5.0",
      "_view_name": "HTMLView",
      "description": "",
      "description_tooltip": null,
      "layout": "IPY_MODEL_127d688781044feba7d85df0560577aa",
      "placeholder": "​",
      "style": "IPY_MODEL_7d36927816264e02ab8bfe559915cd23",
      "value": "Downloading data:   6%"
     }
    },
    "14a840110f8648e2aff7555f0b57fbae": {
     "model_module": "@jupyter-widgets/controls",
     "model_module_version": "1.5.0",
     "model_name": "DescriptionStyleModel",
     "state": {
      "_model_module": "@jupyter-widgets/controls",
      "_model_module_version": "1.5.0",
      "_model_name": "DescriptionStyleModel",
      "_view_count": null,
      "_view_module": "@jupyter-widgets/base",
      "_view_module_version": "1.2.0",
      "_view_name": "StyleView",
      "description_width": ""
     }
    },
    "1a1bb057e86d4a95a17e6e106fe9100a": {
     "model_module": "@jupyter-widgets/controls",
     "model_module_version": "1.5.0",
     "model_name": "FloatProgressModel",
     "state": {
      "_dom_classes": [],
      "_model_module": "@jupyter-widgets/controls",
      "_model_module_version": "1.5.0",
      "_model_name": "FloatProgressModel",
      "_view_count": null,
      "_view_module": "@jupyter-widgets/controls",
      "_view_module_version": "1.5.0",
      "_view_name": "ProgressView",
      "bar_style": "success",
      "description": "",
      "description_tooltip": null,
      "layout": "IPY_MODEL_d17f2f30872d4c26b523b8ceb2693ec3",
      "max": 16000,
      "min": 0,
      "orientation": "horizontal",
      "style": "IPY_MODEL_82732b9e492f427995e27823caf54ac6",
      "value": 16000
     }
    },
    "1abe239b455f48fd8232d716e6cfd8f4": {
     "model_module": "@jupyter-widgets/controls",
     "model_module_version": "1.5.0",
     "model_name": "DescriptionStyleModel",
     "state": {
      "_model_module": "@jupyter-widgets/controls",
      "_model_module_version": "1.5.0",
      "_model_name": "DescriptionStyleModel",
      "_view_count": null,
      "_view_module": "@jupyter-widgets/base",
      "_view_module_version": "1.2.0",
      "_view_name": "StyleView",
      "description_width": ""
     }
    },
    "24dba4e7de0a4c05aa980830b8f06128": {
     "model_module": "@jupyter-widgets/base",
     "model_module_version": "1.2.0",
     "model_name": "LayoutModel",
     "state": {
      "_model_module": "@jupyter-widgets/base",
      "_model_module_version": "1.2.0",
      "_model_name": "LayoutModel",
      "_view_count": null,
      "_view_module": "@jupyter-widgets/base",
      "_view_module_version": "1.2.0",
      "_view_name": "LayoutView",
      "align_content": null,
      "align_items": null,
      "align_self": null,
      "border": null,
      "bottom": null,
      "display": null,
      "flex": null,
      "flex_flow": null,
      "grid_area": null,
      "grid_auto_columns": null,
      "grid_auto_flow": null,
      "grid_auto_rows": null,
      "grid_column": null,
      "grid_gap": null,
      "grid_row": null,
      "grid_template_areas": null,
      "grid_template_columns": null,
      "grid_template_rows": null,
      "height": null,
      "justify_content": null,
      "justify_items": null,
      "left": null,
      "margin": null,
      "max_height": null,
      "max_width": null,
      "min_height": null,
      "min_width": null,
      "object_fit": null,
      "object_position": null,
      "order": null,
      "overflow": null,
      "overflow_x": null,
      "overflow_y": null,
      "padding": null,
      "right": null,
      "top": null,
      "visibility": null,
      "width": null
     }
    },
    "2ad420317e5e45e080dfb9f38b0414da": {
     "model_module": "@jupyter-widgets/controls",
     "model_module_version": "1.5.0",
     "model_name": "HTMLModel",
     "state": {
      "_dom_classes": [],
      "_model_module": "@jupyter-widgets/controls",
      "_model_module_version": "1.5.0",
      "_model_name": "HTMLModel",
      "_view_count": null,
      "_view_module": "@jupyter-widgets/controls",
      "_view_module_version": "1.5.0",
      "_view_name": "HTMLView",
      "description": "",
      "description_tooltip": null,
      "layout": "IPY_MODEL_9f3bd75d33214ead98487dec70d8d6e9",
      "placeholder": "​",
      "style": "IPY_MODEL_7856e961d7964cf8b272550bbadf5237",
      "value": "\n<b>Pro Tip:</b> If you don't already have one, you can create a dedicated\n'notebooks' token with 'write' access, that you can then easily reuse for all\nnotebooks. </center>"
     }
    },
    "2d0ae237bb5c439cb0069f1fe903929c": {
     "model_module": "@jupyter-widgets/controls",
     "model_module_version": "1.5.0",
     "model_name": "HBoxModel",
     "state": {
      "_dom_classes": [],
      "_model_module": "@jupyter-widgets/controls",
      "_model_module_version": "1.5.0",
      "_model_name": "HBoxModel",
      "_view_count": null,
      "_view_module": "@jupyter-widgets/controls",
      "_view_module_version": "1.5.0",
      "_view_name": "HBoxView",
      "box_style": "",
      "children": [
       "IPY_MODEL_3c6b4e7ca68e4424ad54ff3ec7f15805",
       "IPY_MODEL_56c1bb6e8bbd451aae06d098471ba2a1",
       "IPY_MODEL_e0d968c643844e89b475714eba81a634"
      ],
      "layout": "IPY_MODEL_2e3043ec9fe644aea9906905ec2849b5"
     }
    },
    "2e3043ec9fe644aea9906905ec2849b5": {
     "model_module": "@jupyter-widgets/base",
     "model_module_version": "1.2.0",
     "model_name": "LayoutModel",
     "state": {
      "_model_module": "@jupyter-widgets/base",
      "_model_module_version": "1.2.0",
      "_model_name": "LayoutModel",
      "_view_count": null,
      "_view_module": "@jupyter-widgets/base",
      "_view_module_version": "1.2.0",
      "_view_name": "LayoutView",
      "align_content": null,
      "align_items": null,
      "align_self": null,
      "border": null,
      "bottom": null,
      "display": null,
      "flex": null,
      "flex_flow": null,
      "grid_area": null,
      "grid_auto_columns": null,
      "grid_auto_flow": null,
      "grid_auto_rows": null,
      "grid_column": null,
      "grid_gap": null,
      "grid_row": null,
      "grid_template_areas": null,
      "grid_template_columns": null,
      "grid_template_rows": null,
      "height": null,
      "justify_content": null,
      "justify_items": null,
      "left": null,
      "margin": null,
      "max_height": null,
      "max_width": null,
      "min_height": null,
      "min_width": null,
      "object_fit": null,
      "object_position": null,
      "order": null,
      "overflow": null,
      "overflow_x": null,
      "overflow_y": null,
      "padding": null,
      "right": null,
      "top": null,
      "visibility": null,
      "width": null
     }
    },
    "3459d255e7be4fcd8fac3d1c2711ecb4": {
     "model_module": "@jupyter-widgets/controls",
     "model_module_version": "1.5.0",
     "model_name": "DescriptionStyleModel",
     "state": {
      "_model_module": "@jupyter-widgets/controls",
      "_model_module_version": "1.5.0",
      "_model_name": "DescriptionStyleModel",
      "_view_count": null,
      "_view_module": "@jupyter-widgets/base",
      "_view_module_version": "1.2.0",
      "_view_name": "StyleView",
      "description_width": ""
     }
    },
    "39281672306b45568a90b7e68bc7402f": {
     "model_module": "@jupyter-widgets/controls",
     "model_module_version": "1.5.0",
     "model_name": "DescriptionStyleModel",
     "state": {
      "_model_module": "@jupyter-widgets/controls",
      "_model_module_version": "1.5.0",
      "_model_name": "DescriptionStyleModel",
      "_view_count": null,
      "_view_module": "@jupyter-widgets/base",
      "_view_module_version": "1.2.0",
      "_view_name": "StyleView",
      "description_width": ""
     }
    },
    "3b60f8a24aee4982a73ba30cd3381671": {
     "model_module": "@jupyter-widgets/controls",
     "model_module_version": "1.5.0",
     "model_name": "DescriptionStyleModel",
     "state": {
      "_model_module": "@jupyter-widgets/controls",
      "_model_module_version": "1.5.0",
      "_model_name": "DescriptionStyleModel",
      "_view_count": null,
      "_view_module": "@jupyter-widgets/base",
      "_view_module_version": "1.2.0",
      "_view_name": "StyleView",
      "description_width": ""
     }
    },
    "3c6b4e7ca68e4424ad54ff3ec7f15805": {
     "model_module": "@jupyter-widgets/controls",
     "model_module_version": "1.5.0",
     "model_name": "HTMLModel",
     "state": {
      "_dom_classes": [],
      "_model_module": "@jupyter-widgets/controls",
      "_model_module_version": "1.5.0",
      "_model_name": "HTMLModel",
      "_view_count": null,
      "_view_module": "@jupyter-widgets/controls",
      "_view_module_version": "1.5.0",
      "_view_name": "HTMLView",
      "description": "",
      "description_tooltip": null,
      "layout": "IPY_MODEL_6432c5e04b9a4fb9a9b647e3de03dbaa",
      "placeholder": "​",
      "style": "IPY_MODEL_3459d255e7be4fcd8fac3d1c2711ecb4",
      "value": "Resolving data files: 100%"
     }
    },
    "3f4655c7109342a7a6bf644115f2cbe9": {
     "model_module": "@jupyter-widgets/base",
     "model_module_version": "1.2.0",
     "model_name": "LayoutModel",
     "state": {
      "_model_module": "@jupyter-widgets/base",
      "_model_module_version": "1.2.0",
      "_model_name": "LayoutModel",
      "_view_count": null,
      "_view_module": "@jupyter-widgets/base",
      "_view_module_version": "1.2.0",
      "_view_name": "LayoutView",
      "align_content": null,
      "align_items": null,
      "align_self": null,
      "border": null,
      "bottom": null,
      "display": null,
      "flex": null,
      "flex_flow": null,
      "grid_area": null,
      "grid_auto_columns": null,
      "grid_auto_flow": null,
      "grid_auto_rows": null,
      "grid_column": null,
      "grid_gap": null,
      "grid_row": null,
      "grid_template_areas": null,
      "grid_template_columns": null,
      "grid_template_rows": null,
      "height": null,
      "justify_content": null,
      "justify_items": null,
      "left": null,
      "margin": null,
      "max_height": null,
      "max_width": null,
      "min_height": null,
      "min_width": null,
      "object_fit": null,
      "object_position": null,
      "order": null,
      "overflow": null,
      "overflow_x": null,
      "overflow_y": null,
      "padding": null,
      "right": null,
      "top": null,
      "visibility": null,
      "width": null
     }
    },
    "44a84e6538f749af8f9c178ba00a53d2": {
     "model_module": "@jupyter-widgets/controls",
     "model_module_version": "1.5.0",
     "model_name": "LabelModel",
     "state": {
      "_dom_classes": [],
      "_model_module": "@jupyter-widgets/controls",
      "_model_module_version": "1.5.0",
      "_model_name": "LabelModel",
      "_view_count": null,
      "_view_module": "@jupyter-widgets/controls",
      "_view_module_version": "1.5.0",
      "_view_name": "LabelView",
      "description": "",
      "description_tooltip": null,
      "layout": "IPY_MODEL_6ad248916e0d4c22bd496329427dcb1d",
      "placeholder": "​",
      "style": "IPY_MODEL_3b60f8a24aee4982a73ba30cd3381671",
      "value": "Your token has been saved to /root/.cache/huggingface/token"
     }
    },
    "46356b8166d7489c96f2cda204bb7dd5": {
     "model_module": "@jupyter-widgets/controls",
     "model_module_version": "1.5.0",
     "model_name": "LabelModel",
     "state": {
      "_dom_classes": [],
      "_model_module": "@jupyter-widgets/controls",
      "_model_module_version": "1.5.0",
      "_model_name": "LabelModel",
      "_view_count": null,
      "_view_module": "@jupyter-widgets/controls",
      "_view_module_version": "1.5.0",
      "_view_name": "LabelView",
      "description": "",
      "description_tooltip": null,
      "layout": "IPY_MODEL_24dba4e7de0a4c05aa980830b8f06128",
      "placeholder": "​",
      "style": "IPY_MODEL_39281672306b45568a90b7e68bc7402f",
      "value": "Token is valid (permission: read)."
     }
    },
    "48bfa5cef4df418a8201d40075bf5541": {
     "model_module": "@jupyter-widgets/controls",
     "model_module_version": "1.5.0",
     "model_name": "HTMLModel",
     "state": {
      "_dom_classes": [],
      "_model_module": "@jupyter-widgets/controls",
      "_model_module_version": "1.5.0",
      "_model_name": "HTMLModel",
      "_view_count": null,
      "_view_module": "@jupyter-widgets/controls",
      "_view_module_version": "1.5.0",
      "_view_name": "HTMLView",
      "description": "",
      "description_tooltip": null,
      "layout": "IPY_MODEL_09331ebdddbd44029bc7f391ae031828",
      "placeholder": "​",
      "style": "IPY_MODEL_ae5ebed580e24e0aacc7dc7850d19bd7",
      "value": " 64000/64000 [00:00&lt;00:00, 229294.73it/s]"
     }
    },
    "4c8bf1d21cf140f89c5076de1f3de487": {
     "model_module": "@jupyter-widgets/controls",
     "model_module_version": "1.5.0",
     "model_name": "HTMLModel",
     "state": {
      "_dom_classes": [],
      "_model_module": "@jupyter-widgets/controls",
      "_model_module_version": "1.5.0",
      "_model_name": "HTMLModel",
      "_view_count": null,
      "_view_module": "@jupyter-widgets/controls",
      "_view_module_version": "1.5.0",
      "_view_name": "HTMLView",
      "description": "",
      "description_tooltip": null,
      "layout": "IPY_MODEL_a6443421ea1348ecb84ab14834ac2f1a",
      "placeholder": "​",
      "style": "IPY_MODEL_a8aa4945f45c4e38aab63c7032e7c7a8",
      "value": "<center> <img\nsrc=https://huggingface.co/front/assets/huggingface_logo-noborder.svg\nalt='Hugging Face'> <br> Copy a token from <a\nhref=\"https://huggingface.co/settings/tokens\" target=\"_blank\">your Hugging Face\ntokens page</a> and paste it below. <br> Immediately click login after copying\nyour token or it might be stored in plain text in this notebook file. </center>"
     }
    },
    "4db4d65e07b14c78bcaf8a238fc610d1": {
     "model_module": "@jupyter-widgets/controls",
     "model_module_version": "1.5.0",
     "model_name": "FloatProgressModel",
     "state": {
      "_dom_classes": [],
      "_model_module": "@jupyter-widgets/controls",
      "_model_module_version": "1.5.0",
      "_model_name": "FloatProgressModel",
      "_view_count": null,
      "_view_module": "@jupyter-widgets/controls",
      "_view_module_version": "1.5.0",
      "_view_name": "ProgressView",
      "bar_style": "success",
      "description": "",
      "description_tooltip": null,
      "layout": "IPY_MODEL_108b19f5590448c5bfe5e9b495cefdac",
      "max": 64000,
      "min": 0,
      "orientation": "horizontal",
      "style": "IPY_MODEL_92f2aca528304ef3a636579986847237",
      "value": 64000
     }
    },
    "4f07ce474f5a4c569be2f8f1cf6194d6": {
     "model_module": "@jupyter-widgets/controls",
     "model_module_version": "1.5.0",
     "model_name": "ProgressStyleModel",
     "state": {
      "_model_module": "@jupyter-widgets/controls",
      "_model_module_version": "1.5.0",
      "_model_name": "ProgressStyleModel",
      "_view_count": null,
      "_view_module": "@jupyter-widgets/base",
      "_view_module_version": "1.2.0",
      "_view_name": "StyleView",
      "bar_color": null,
      "description_width": ""
     }
    },
    "53775632c03f49fbb2055c8453485ec4": {
     "model_module": "@jupyter-widgets/controls",
     "model_module_version": "1.5.0",
     "model_name": "DescriptionStyleModel",
     "state": {
      "_model_module": "@jupyter-widgets/controls",
      "_model_module_version": "1.5.0",
      "_model_name": "DescriptionStyleModel",
      "_view_count": null,
      "_view_module": "@jupyter-widgets/base",
      "_view_module_version": "1.2.0",
      "_view_name": "StyleView",
      "description_width": ""
     }
    },
    "56c1bb6e8bbd451aae06d098471ba2a1": {
     "model_module": "@jupyter-widgets/controls",
     "model_module_version": "1.5.0",
     "model_name": "FloatProgressModel",
     "state": {
      "_dom_classes": [],
      "_model_module": "@jupyter-widgets/controls",
      "_model_module_version": "1.5.0",
      "_model_name": "FloatProgressModel",
      "_view_count": null,
      "_view_module": "@jupyter-widgets/controls",
      "_view_module_version": "1.5.0",
      "_view_name": "ProgressView",
      "bar_style": "success",
      "description": "",
      "description_tooltip": null,
      "layout": "IPY_MODEL_b9f8027e21b94bd7bebc6b7ebc7d53c1",
      "max": 20000,
      "min": 0,
      "orientation": "horizontal",
      "style": "IPY_MODEL_97b1df56e01c4fb99babe4f5e3730bf1",
      "value": 20000
     }
    },
    "601c0140859240d89716f692ab517aad": {
     "model_module": "@jupyter-widgets/controls",
     "model_module_version": "1.5.0",
     "model_name": "DescriptionStyleModel",
     "state": {
      "_model_module": "@jupyter-widgets/controls",
      "_model_module_version": "1.5.0",
      "_model_name": "DescriptionStyleModel",
      "_view_count": null,
      "_view_module": "@jupyter-widgets/base",
      "_view_module_version": "1.2.0",
      "_view_name": "StyleView",
      "description_width": ""
     }
    },
    "62a9d67f70534949886a5e4108dde435": {
     "model_module": "@jupyter-widgets/base",
     "model_module_version": "1.2.0",
     "model_name": "LayoutModel",
     "state": {
      "_model_module": "@jupyter-widgets/base",
      "_model_module_version": "1.2.0",
      "_model_name": "LayoutModel",
      "_view_count": null,
      "_view_module": "@jupyter-widgets/base",
      "_view_module_version": "1.2.0",
      "_view_name": "LayoutView",
      "align_content": null,
      "align_items": null,
      "align_self": null,
      "border": null,
      "bottom": null,
      "display": null,
      "flex": null,
      "flex_flow": null,
      "grid_area": null,
      "grid_auto_columns": null,
      "grid_auto_flow": null,
      "grid_auto_rows": null,
      "grid_column": null,
      "grid_gap": null,
      "grid_row": null,
      "grid_template_areas": null,
      "grid_template_columns": null,
      "grid_template_rows": null,
      "height": null,
      "justify_content": null,
      "justify_items": null,
      "left": null,
      "margin": null,
      "max_height": null,
      "max_width": null,
      "min_height": null,
      "min_width": null,
      "object_fit": null,
      "object_position": null,
      "order": null,
      "overflow": null,
      "overflow_x": null,
      "overflow_y": null,
      "padding": null,
      "right": null,
      "top": null,
      "visibility": null,
      "width": null
     }
    },
    "6432c5e04b9a4fb9a9b647e3de03dbaa": {
     "model_module": "@jupyter-widgets/base",
     "model_module_version": "1.2.0",
     "model_name": "LayoutModel",
     "state": {
      "_model_module": "@jupyter-widgets/base",
      "_model_module_version": "1.2.0",
      "_model_name": "LayoutModel",
      "_view_count": null,
      "_view_module": "@jupyter-widgets/base",
      "_view_module_version": "1.2.0",
      "_view_name": "LayoutView",
      "align_content": null,
      "align_items": null,
      "align_self": null,
      "border": null,
      "bottom": null,
      "display": null,
      "flex": null,
      "flex_flow": null,
      "grid_area": null,
      "grid_auto_columns": null,
      "grid_auto_flow": null,
      "grid_auto_rows": null,
      "grid_column": null,
      "grid_gap": null,
      "grid_row": null,
      "grid_template_areas": null,
      "grid_template_columns": null,
      "grid_template_rows": null,
      "height": null,
      "justify_content": null,
      "justify_items": null,
      "left": null,
      "margin": null,
      "max_height": null,
      "max_width": null,
      "min_height": null,
      "min_width": null,
      "object_fit": null,
      "object_position": null,
      "order": null,
      "overflow": null,
      "overflow_x": null,
      "overflow_y": null,
      "padding": null,
      "right": null,
      "top": null,
      "visibility": null,
      "width": null
     }
    },
    "64d0effcc779444cbc4ce910de0ceae9": {
     "model_module": "@jupyter-widgets/controls",
     "model_module_version": "1.5.0",
     "model_name": "DescriptionStyleModel",
     "state": {
      "_model_module": "@jupyter-widgets/controls",
      "_model_module_version": "1.5.0",
      "_model_name": "DescriptionStyleModel",
      "_view_count": null,
      "_view_module": "@jupyter-widgets/base",
      "_view_module_version": "1.2.0",
      "_view_name": "StyleView",
      "description_width": ""
     }
    },
    "6ad248916e0d4c22bd496329427dcb1d": {
     "model_module": "@jupyter-widgets/base",
     "model_module_version": "1.2.0",
     "model_name": "LayoutModel",
     "state": {
      "_model_module": "@jupyter-widgets/base",
      "_model_module_version": "1.2.0",
      "_model_name": "LayoutModel",
      "_view_count": null,
      "_view_module": "@jupyter-widgets/base",
      "_view_module_version": "1.2.0",
      "_view_name": "LayoutView",
      "align_content": null,
      "align_items": null,
      "align_self": null,
      "border": null,
      "bottom": null,
      "display": null,
      "flex": null,
      "flex_flow": null,
      "grid_area": null,
      "grid_auto_columns": null,
      "grid_auto_flow": null,
      "grid_auto_rows": null,
      "grid_column": null,
      "grid_gap": null,
      "grid_row": null,
      "grid_template_areas": null,
      "grid_template_columns": null,
      "grid_template_rows": null,
      "height": null,
      "justify_content": null,
      "justify_items": null,
      "left": null,
      "margin": null,
      "max_height": null,
      "max_width": null,
      "min_height": null,
      "min_width": null,
      "object_fit": null,
      "object_position": null,
      "order": null,
      "overflow": null,
      "overflow_x": null,
      "overflow_y": null,
      "padding": null,
      "right": null,
      "top": null,
      "visibility": null,
      "width": null
     }
    },
    "6b669ee8aa6e4ff7ab3ef991dda89609": {
     "model_module": "@jupyter-widgets/controls",
     "model_module_version": "1.5.0",
     "model_name": "DescriptionStyleModel",
     "state": {
      "_model_module": "@jupyter-widgets/controls",
      "_model_module_version": "1.5.0",
      "_model_name": "DescriptionStyleModel",
      "_view_count": null,
      "_view_module": "@jupyter-widgets/base",
      "_view_module_version": "1.2.0",
      "_view_name": "StyleView",
      "description_width": ""
     }
    },
    "6c18649dbf5f4e74bdacef3f566259bb": {
     "model_module": "@jupyter-widgets/base",
     "model_module_version": "1.2.0",
     "model_name": "LayoutModel",
     "state": {
      "_model_module": "@jupyter-widgets/base",
      "_model_module_version": "1.2.0",
      "_model_name": "LayoutModel",
      "_view_count": null,
      "_view_module": "@jupyter-widgets/base",
      "_view_module_version": "1.2.0",
      "_view_name": "LayoutView",
      "align_content": null,
      "align_items": null,
      "align_self": null,
      "border": null,
      "bottom": null,
      "display": null,
      "flex": null,
      "flex_flow": null,
      "grid_area": null,
      "grid_auto_columns": null,
      "grid_auto_flow": null,
      "grid_auto_rows": null,
      "grid_column": null,
      "grid_gap": null,
      "grid_row": null,
      "grid_template_areas": null,
      "grid_template_columns": null,
      "grid_template_rows": null,
      "height": null,
      "justify_content": null,
      "justify_items": null,
      "left": null,
      "margin": null,
      "max_height": null,
      "max_width": null,
      "min_height": null,
      "min_width": null,
      "object_fit": null,
      "object_position": null,
      "order": null,
      "overflow": null,
      "overflow_x": null,
      "overflow_y": null,
      "padding": null,
      "right": null,
      "top": null,
      "visibility": null,
      "width": null
     }
    },
    "6cb6f012cf4243d88ea529c20e2096ef": {
     "model_module": "@jupyter-widgets/controls",
     "model_module_version": "1.5.0",
     "model_name": "CheckboxModel",
     "state": {
      "_dom_classes": [],
      "_model_module": "@jupyter-widgets/controls",
      "_model_module_version": "1.5.0",
      "_model_name": "CheckboxModel",
      "_view_count": null,
      "_view_module": "@jupyter-widgets/controls",
      "_view_module_version": "1.5.0",
      "_view_name": "CheckboxView",
      "description": "Add token as git credential?",
      "description_tooltip": null,
      "disabled": false,
      "indent": true,
      "layout": "IPY_MODEL_884b5d33e6eb477d9482f301fd700306",
      "style": "IPY_MODEL_53775632c03f49fbb2055c8453485ec4",
      "value": true
     }
    },
    "6e07b52f6eac46c1a770d97a99aa7d6a": {
     "model_module": "@jupyter-widgets/controls",
     "model_module_version": "1.5.0",
     "model_name": "HTMLModel",
     "state": {
      "_dom_classes": [],
      "_model_module": "@jupyter-widgets/controls",
      "_model_module_version": "1.5.0",
      "_model_name": "HTMLModel",
      "_view_count": null,
      "_view_module": "@jupyter-widgets/controls",
      "_view_module_version": "1.5.0",
      "_view_name": "HTMLView",
      "description": "",
      "description_tooltip": null,
      "layout": "IPY_MODEL_7758833494f84dfb8673ddc53fdc35c1",
      "placeholder": "​",
      "style": "IPY_MODEL_6b669ee8aa6e4ff7ab3ef991dda89609",
      "value": " 3900/64000 [00:56&lt;13:53, 72.09files/s]"
     }
    },
    "71c26445d56d4ce69c24541d4b3a5683": {
     "model_module": "@jupyter-widgets/controls",
     "model_module_version": "1.5.0",
     "model_name": "ButtonModel",
     "state": {
      "_dom_classes": [],
      "_model_module": "@jupyter-widgets/controls",
      "_model_module_version": "1.5.0",
      "_model_name": "ButtonModel",
      "_view_count": null,
      "_view_module": "@jupyter-widgets/controls",
      "_view_module_version": "1.5.0",
      "_view_name": "ButtonView",
      "button_style": "",
      "description": "Login",
      "disabled": false,
      "icon": "",
      "layout": "IPY_MODEL_62a9d67f70534949886a5e4108dde435",
      "style": "IPY_MODEL_79b7181674094bf2b1430f700d4bb2b9",
      "tooltip": ""
     }
    },
    "753623ce05cb4ad09eb964ba3380a7d4": {
     "model_module": "@jupyter-widgets/controls",
     "model_module_version": "1.5.0",
     "model_name": "LabelModel",
     "state": {
      "_dom_classes": [],
      "_model_module": "@jupyter-widgets/controls",
      "_model_module_version": "1.5.0",
      "_model_name": "LabelModel",
      "_view_count": null,
      "_view_module": "@jupyter-widgets/controls",
      "_view_module_version": "1.5.0",
      "_view_name": "LabelView",
      "description": "",
      "description_tooltip": null,
      "layout": "IPY_MODEL_b7cd69dbb0ee47edbcb5d179a5b964da",
      "placeholder": "​",
      "style": "IPY_MODEL_64d0effcc779444cbc4ce910de0ceae9",
      "value": "Your token has been saved in your configured git credential helpers (store)."
     }
    },
    "76147c4ed08c431ea1709e5b0b8bf67f": {
     "model_module": "@jupyter-widgets/controls",
     "model_module_version": "1.5.0",
     "model_name": "DescriptionStyleModel",
     "state": {
      "_model_module": "@jupyter-widgets/controls",
      "_model_module_version": "1.5.0",
      "_model_name": "DescriptionStyleModel",
      "_view_count": null,
      "_view_module": "@jupyter-widgets/base",
      "_view_module_version": "1.2.0",
      "_view_name": "StyleView",
      "description_width": ""
     }
    },
    "7758833494f84dfb8673ddc53fdc35c1": {
     "model_module": "@jupyter-widgets/base",
     "model_module_version": "1.2.0",
     "model_name": "LayoutModel",
     "state": {
      "_model_module": "@jupyter-widgets/base",
      "_model_module_version": "1.2.0",
      "_model_name": "LayoutModel",
      "_view_count": null,
      "_view_module": "@jupyter-widgets/base",
      "_view_module_version": "1.2.0",
      "_view_name": "LayoutView",
      "align_content": null,
      "align_items": null,
      "align_self": null,
      "border": null,
      "bottom": null,
      "display": null,
      "flex": null,
      "flex_flow": null,
      "grid_area": null,
      "grid_auto_columns": null,
      "grid_auto_flow": null,
      "grid_auto_rows": null,
      "grid_column": null,
      "grid_gap": null,
      "grid_row": null,
      "grid_template_areas": null,
      "grid_template_columns": null,
      "grid_template_rows": null,
      "height": null,
      "justify_content": null,
      "justify_items": null,
      "left": null,
      "margin": null,
      "max_height": null,
      "max_width": null,
      "min_height": null,
      "min_width": null,
      "object_fit": null,
      "object_position": null,
      "order": null,
      "overflow": null,
      "overflow_x": null,
      "overflow_y": null,
      "padding": null,
      "right": null,
      "top": null,
      "visibility": null,
      "width": null
     }
    },
    "7856e961d7964cf8b272550bbadf5237": {
     "model_module": "@jupyter-widgets/controls",
     "model_module_version": "1.5.0",
     "model_name": "DescriptionStyleModel",
     "state": {
      "_model_module": "@jupyter-widgets/controls",
      "_model_module_version": "1.5.0",
      "_model_name": "DescriptionStyleModel",
      "_view_count": null,
      "_view_module": "@jupyter-widgets/base",
      "_view_module_version": "1.2.0",
      "_view_name": "StyleView",
      "description_width": ""
     }
    },
    "7918cc7cdce44e79976b50264fe2ef32": {
     "model_module": "@jupyter-widgets/controls",
     "model_module_version": "1.5.0",
     "model_name": "HTMLModel",
     "state": {
      "_dom_classes": [],
      "_model_module": "@jupyter-widgets/controls",
      "_model_module_version": "1.5.0",
      "_model_name": "HTMLModel",
      "_view_count": null,
      "_view_module": "@jupyter-widgets/controls",
      "_view_module_version": "1.5.0",
      "_view_name": "HTMLView",
      "description": "",
      "description_tooltip": null,
      "layout": "IPY_MODEL_b984309c4ded488eaffba89d4defed62",
      "placeholder": "​",
      "style": "IPY_MODEL_14a840110f8648e2aff7555f0b57fbae",
      "value": "Resolving data files: 100%"
     }
    },
    "79b7181674094bf2b1430f700d4bb2b9": {
     "model_module": "@jupyter-widgets/controls",
     "model_module_version": "1.5.0",
     "model_name": "ButtonStyleModel",
     "state": {
      "_model_module": "@jupyter-widgets/controls",
      "_model_module_version": "1.5.0",
      "_model_name": "ButtonStyleModel",
      "_view_count": null,
      "_view_module": "@jupyter-widgets/base",
      "_view_module_version": "1.2.0",
      "_view_name": "StyleView",
      "button_color": null,
      "font_weight": ""
     }
    },
    "7d36927816264e02ab8bfe559915cd23": {
     "model_module": "@jupyter-widgets/controls",
     "model_module_version": "1.5.0",
     "model_name": "DescriptionStyleModel",
     "state": {
      "_model_module": "@jupyter-widgets/controls",
      "_model_module_version": "1.5.0",
      "_model_name": "DescriptionStyleModel",
      "_view_count": null,
      "_view_module": "@jupyter-widgets/base",
      "_view_module_version": "1.2.0",
      "_view_name": "StyleView",
      "description_width": ""
     }
    },
    "82732b9e492f427995e27823caf54ac6": {
     "model_module": "@jupyter-widgets/controls",
     "model_module_version": "1.5.0",
     "model_name": "ProgressStyleModel",
     "state": {
      "_model_module": "@jupyter-widgets/controls",
      "_model_module_version": "1.5.0",
      "_model_name": "ProgressStyleModel",
      "_view_count": null,
      "_view_module": "@jupyter-widgets/base",
      "_view_module_version": "1.2.0",
      "_view_name": "StyleView",
      "bar_color": null,
      "description_width": ""
     }
    },
    "884b5d33e6eb477d9482f301fd700306": {
     "model_module": "@jupyter-widgets/base",
     "model_module_version": "1.2.0",
     "model_name": "LayoutModel",
     "state": {
      "_model_module": "@jupyter-widgets/base",
      "_model_module_version": "1.2.0",
      "_model_name": "LayoutModel",
      "_view_count": null,
      "_view_module": "@jupyter-widgets/base",
      "_view_module_version": "1.2.0",
      "_view_name": "LayoutView",
      "align_content": null,
      "align_items": null,
      "align_self": null,
      "border": null,
      "bottom": null,
      "display": null,
      "flex": null,
      "flex_flow": null,
      "grid_area": null,
      "grid_auto_columns": null,
      "grid_auto_flow": null,
      "grid_auto_rows": null,
      "grid_column": null,
      "grid_gap": null,
      "grid_row": null,
      "grid_template_areas": null,
      "grid_template_columns": null,
      "grid_template_rows": null,
      "height": null,
      "justify_content": null,
      "justify_items": null,
      "left": null,
      "margin": null,
      "max_height": null,
      "max_width": null,
      "min_height": null,
      "min_width": null,
      "object_fit": null,
      "object_position": null,
      "order": null,
      "overflow": null,
      "overflow_x": null,
      "overflow_y": null,
      "padding": null,
      "right": null,
      "top": null,
      "visibility": null,
      "width": null
     }
    },
    "8e11e0846127481e86cfecb347cd4d5a": {
     "model_module": "@jupyter-widgets/controls",
     "model_module_version": "1.5.0",
     "model_name": "HBoxModel",
     "state": {
      "_dom_classes": [],
      "_model_module": "@jupyter-widgets/controls",
      "_model_module_version": "1.5.0",
      "_model_name": "HBoxModel",
      "_view_count": null,
      "_view_module": "@jupyter-widgets/controls",
      "_view_module_version": "1.5.0",
      "_view_name": "HBoxView",
      "box_style": "",
      "children": [
       "IPY_MODEL_7918cc7cdce44e79976b50264fe2ef32",
       "IPY_MODEL_4db4d65e07b14c78bcaf8a238fc610d1",
       "IPY_MODEL_48bfa5cef4df418a8201d40075bf5541"
      ],
      "layout": "IPY_MODEL_d2e1fde5e3e8499ca60e2ba5094f292d"
     }
    },
    "92f2aca528304ef3a636579986847237": {
     "model_module": "@jupyter-widgets/controls",
     "model_module_version": "1.5.0",
     "model_name": "ProgressStyleModel",
     "state": {
      "_model_module": "@jupyter-widgets/controls",
      "_model_module_version": "1.5.0",
      "_model_name": "ProgressStyleModel",
      "_view_count": null,
      "_view_module": "@jupyter-widgets/base",
      "_view_module_version": "1.2.0",
      "_view_name": "StyleView",
      "bar_color": null,
      "description_width": ""
     }
    },
    "97b1df56e01c4fb99babe4f5e3730bf1": {
     "model_module": "@jupyter-widgets/controls",
     "model_module_version": "1.5.0",
     "model_name": "ProgressStyleModel",
     "state": {
      "_model_module": "@jupyter-widgets/controls",
      "_model_module_version": "1.5.0",
      "_model_name": "ProgressStyleModel",
      "_view_count": null,
      "_view_module": "@jupyter-widgets/base",
      "_view_module_version": "1.2.0",
      "_view_name": "StyleView",
      "bar_color": null,
      "description_width": ""
     }
    },
    "9f12f94ff9604d78ba5045aa0b35412b": {
     "model_module": "@jupyter-widgets/controls",
     "model_module_version": "1.5.0",
     "model_name": "LabelModel",
     "state": {
      "_dom_classes": [],
      "_model_module": "@jupyter-widgets/controls",
      "_model_module_version": "1.5.0",
      "_model_name": "LabelModel",
      "_view_count": null,
      "_view_module": "@jupyter-widgets/controls",
      "_view_module_version": "1.5.0",
      "_view_name": "LabelView",
      "description": "",
      "description_tooltip": null,
      "layout": "IPY_MODEL_6c18649dbf5f4e74bdacef3f566259bb",
      "placeholder": "​",
      "style": "IPY_MODEL_1abe239b455f48fd8232d716e6cfd8f4",
      "value": "Login successful"
     }
    },
    "9f3bd75d33214ead98487dec70d8d6e9": {
     "model_module": "@jupyter-widgets/base",
     "model_module_version": "1.2.0",
     "model_name": "LayoutModel",
     "state": {
      "_model_module": "@jupyter-widgets/base",
      "_model_module_version": "1.2.0",
      "_model_name": "LayoutModel",
      "_view_count": null,
      "_view_module": "@jupyter-widgets/base",
      "_view_module_version": "1.2.0",
      "_view_name": "LayoutView",
      "align_content": null,
      "align_items": null,
      "align_self": null,
      "border": null,
      "bottom": null,
      "display": null,
      "flex": null,
      "flex_flow": null,
      "grid_area": null,
      "grid_auto_columns": null,
      "grid_auto_flow": null,
      "grid_auto_rows": null,
      "grid_column": null,
      "grid_gap": null,
      "grid_row": null,
      "grid_template_areas": null,
      "grid_template_columns": null,
      "grid_template_rows": null,
      "height": null,
      "justify_content": null,
      "justify_items": null,
      "left": null,
      "margin": null,
      "max_height": null,
      "max_width": null,
      "min_height": null,
      "min_width": null,
      "object_fit": null,
      "object_position": null,
      "order": null,
      "overflow": null,
      "overflow_x": null,
      "overflow_y": null,
      "padding": null,
      "right": null,
      "top": null,
      "visibility": null,
      "width": null
     }
    },
    "a031ac09918443c78b6e3cbd8058c221": {
     "model_module": "@jupyter-widgets/controls",
     "model_module_version": "1.5.0",
     "model_name": "DescriptionStyleModel",
     "state": {
      "_model_module": "@jupyter-widgets/controls",
      "_model_module_version": "1.5.0",
      "_model_name": "DescriptionStyleModel",
      "_view_count": null,
      "_view_module": "@jupyter-widgets/base",
      "_view_module_version": "1.2.0",
      "_view_name": "StyleView",
      "description_width": ""
     }
    },
    "a3089a97bed44808ba99bd8eeb22bf4f": {
     "model_module": "@jupyter-widgets/controls",
     "model_module_version": "1.5.0",
     "model_name": "FloatProgressModel",
     "state": {
      "_dom_classes": [],
      "_model_module": "@jupyter-widgets/controls",
      "_model_module_version": "1.5.0",
      "_model_name": "FloatProgressModel",
      "_view_count": null,
      "_view_module": "@jupyter-widgets/controls",
      "_view_module_version": "1.5.0",
      "_view_name": "ProgressView",
      "bar_style": "danger",
      "description": "",
      "description_tooltip": null,
      "layout": "IPY_MODEL_e1d3edeba958404c94fd11f2a6facc87",
      "max": 64000,
      "min": 0,
      "orientation": "horizontal",
      "style": "IPY_MODEL_4f07ce474f5a4c569be2f8f1cf6194d6",
      "value": 3900
     }
    },
    "a6443421ea1348ecb84ab14834ac2f1a": {
     "model_module": "@jupyter-widgets/base",
     "model_module_version": "1.2.0",
     "model_name": "LayoutModel",
     "state": {
      "_model_module": "@jupyter-widgets/base",
      "_model_module_version": "1.2.0",
      "_model_name": "LayoutModel",
      "_view_count": null,
      "_view_module": "@jupyter-widgets/base",
      "_view_module_version": "1.2.0",
      "_view_name": "LayoutView",
      "align_content": null,
      "align_items": null,
      "align_self": null,
      "border": null,
      "bottom": null,
      "display": null,
      "flex": null,
      "flex_flow": null,
      "grid_area": null,
      "grid_auto_columns": null,
      "grid_auto_flow": null,
      "grid_auto_rows": null,
      "grid_column": null,
      "grid_gap": null,
      "grid_row": null,
      "grid_template_areas": null,
      "grid_template_columns": null,
      "grid_template_rows": null,
      "height": null,
      "justify_content": null,
      "justify_items": null,
      "left": null,
      "margin": null,
      "max_height": null,
      "max_width": null,
      "min_height": null,
      "min_width": null,
      "object_fit": null,
      "object_position": null,
      "order": null,
      "overflow": null,
      "overflow_x": null,
      "overflow_y": null,
      "padding": null,
      "right": null,
      "top": null,
      "visibility": null,
      "width": null
     }
    },
    "a8aa4945f45c4e38aab63c7032e7c7a8": {
     "model_module": "@jupyter-widgets/controls",
     "model_module_version": "1.5.0",
     "model_name": "DescriptionStyleModel",
     "state": {
      "_model_module": "@jupyter-widgets/controls",
      "_model_module_version": "1.5.0",
      "_model_name": "DescriptionStyleModel",
      "_view_count": null,
      "_view_module": "@jupyter-widgets/base",
      "_view_module_version": "1.2.0",
      "_view_name": "StyleView",
      "description_width": ""
     }
    },
    "a915432dcfea481c84bd941e524f9fb4": {
     "model_module": "@jupyter-widgets/controls",
     "model_module_version": "1.5.0",
     "model_name": "HTMLModel",
     "state": {
      "_dom_classes": [],
      "_model_module": "@jupyter-widgets/controls",
      "_model_module_version": "1.5.0",
      "_model_name": "HTMLModel",
      "_view_count": null,
      "_view_module": "@jupyter-widgets/controls",
      "_view_module_version": "1.5.0",
      "_view_name": "HTMLView",
      "description": "",
      "description_tooltip": null,
      "layout": "IPY_MODEL_b995652059df47af92adc905b6c5a7bf",
      "placeholder": "​",
      "style": "IPY_MODEL_c6ffbd9f30074cc8a1edce79a8686be9",
      "value": "Resolving data files: 100%"
     }
    },
    "ae5ebed580e24e0aacc7dc7850d19bd7": {
     "model_module": "@jupyter-widgets/controls",
     "model_module_version": "1.5.0",
     "model_name": "DescriptionStyleModel",
     "state": {
      "_model_module": "@jupyter-widgets/controls",
      "_model_module_version": "1.5.0",
      "_model_name": "DescriptionStyleModel",
      "_view_count": null,
      "_view_module": "@jupyter-widgets/base",
      "_view_module_version": "1.2.0",
      "_view_name": "StyleView",
      "description_width": ""
     }
    },
    "af0504cc963e4aa097f38d6257ba8739": {
     "model_module": "@jupyter-widgets/base",
     "model_module_version": "1.2.0",
     "model_name": "LayoutModel",
     "state": {
      "_model_module": "@jupyter-widgets/base",
      "_model_module_version": "1.2.0",
      "_model_name": "LayoutModel",
      "_view_count": null,
      "_view_module": "@jupyter-widgets/base",
      "_view_module_version": "1.2.0",
      "_view_name": "LayoutView",
      "align_content": null,
      "align_items": "center",
      "align_self": null,
      "border": null,
      "bottom": null,
      "display": "flex",
      "flex": null,
      "flex_flow": "column",
      "grid_area": null,
      "grid_auto_columns": null,
      "grid_auto_flow": null,
      "grid_auto_rows": null,
      "grid_column": null,
      "grid_gap": null,
      "grid_row": null,
      "grid_template_areas": null,
      "grid_template_columns": null,
      "grid_template_rows": null,
      "height": null,
      "justify_content": null,
      "justify_items": null,
      "left": null,
      "margin": null,
      "max_height": null,
      "max_width": null,
      "min_height": null,
      "min_width": null,
      "object_fit": null,
      "object_position": null,
      "order": null,
      "overflow": null,
      "overflow_x": null,
      "overflow_y": null,
      "padding": null,
      "right": null,
      "top": null,
      "visibility": null,
      "width": "50%"
     }
    },
    "b097b1a472f54c8c9d4dc15db5999007": {
     "model_module": "@jupyter-widgets/base",
     "model_module_version": "1.2.0",
     "model_name": "LayoutModel",
     "state": {
      "_model_module": "@jupyter-widgets/base",
      "_model_module_version": "1.2.0",
      "_model_name": "LayoutModel",
      "_view_count": null,
      "_view_module": "@jupyter-widgets/base",
      "_view_module_version": "1.2.0",
      "_view_name": "LayoutView",
      "align_content": null,
      "align_items": null,
      "align_self": null,
      "border": null,
      "bottom": null,
      "display": null,
      "flex": null,
      "flex_flow": null,
      "grid_area": null,
      "grid_auto_columns": null,
      "grid_auto_flow": null,
      "grid_auto_rows": null,
      "grid_column": null,
      "grid_gap": null,
      "grid_row": null,
      "grid_template_areas": null,
      "grid_template_columns": null,
      "grid_template_rows": null,
      "height": null,
      "justify_content": null,
      "justify_items": null,
      "left": null,
      "margin": null,
      "max_height": null,
      "max_width": null,
      "min_height": null,
      "min_width": null,
      "object_fit": null,
      "object_position": null,
      "order": null,
      "overflow": null,
      "overflow_x": null,
      "overflow_y": null,
      "padding": null,
      "right": null,
      "top": null,
      "visibility": null,
      "width": null
     }
    },
    "b7cd69dbb0ee47edbcb5d179a5b964da": {
     "model_module": "@jupyter-widgets/base",
     "model_module_version": "1.2.0",
     "model_name": "LayoutModel",
     "state": {
      "_model_module": "@jupyter-widgets/base",
      "_model_module_version": "1.2.0",
      "_model_name": "LayoutModel",
      "_view_count": null,
      "_view_module": "@jupyter-widgets/base",
      "_view_module_version": "1.2.0",
      "_view_name": "LayoutView",
      "align_content": null,
      "align_items": null,
      "align_self": null,
      "border": null,
      "bottom": null,
      "display": null,
      "flex": null,
      "flex_flow": null,
      "grid_area": null,
      "grid_auto_columns": null,
      "grid_auto_flow": null,
      "grid_auto_rows": null,
      "grid_column": null,
      "grid_gap": null,
      "grid_row": null,
      "grid_template_areas": null,
      "grid_template_columns": null,
      "grid_template_rows": null,
      "height": null,
      "justify_content": null,
      "justify_items": null,
      "left": null,
      "margin": null,
      "max_height": null,
      "max_width": null,
      "min_height": null,
      "min_width": null,
      "object_fit": null,
      "object_position": null,
      "order": null,
      "overflow": null,
      "overflow_x": null,
      "overflow_y": null,
      "padding": null,
      "right": null,
      "top": null,
      "visibility": null,
      "width": null
     }
    },
    "b984309c4ded488eaffba89d4defed62": {
     "model_module": "@jupyter-widgets/base",
     "model_module_version": "1.2.0",
     "model_name": "LayoutModel",
     "state": {
      "_model_module": "@jupyter-widgets/base",
      "_model_module_version": "1.2.0",
      "_model_name": "LayoutModel",
      "_view_count": null,
      "_view_module": "@jupyter-widgets/base",
      "_view_module_version": "1.2.0",
      "_view_name": "LayoutView",
      "align_content": null,
      "align_items": null,
      "align_self": null,
      "border": null,
      "bottom": null,
      "display": null,
      "flex": null,
      "flex_flow": null,
      "grid_area": null,
      "grid_auto_columns": null,
      "grid_auto_flow": null,
      "grid_auto_rows": null,
      "grid_column": null,
      "grid_gap": null,
      "grid_row": null,
      "grid_template_areas": null,
      "grid_template_columns": null,
      "grid_template_rows": null,
      "height": null,
      "justify_content": null,
      "justify_items": null,
      "left": null,
      "margin": null,
      "max_height": null,
      "max_width": null,
      "min_height": null,
      "min_width": null,
      "object_fit": null,
      "object_position": null,
      "order": null,
      "overflow": null,
      "overflow_x": null,
      "overflow_y": null,
      "padding": null,
      "right": null,
      "top": null,
      "visibility": null,
      "width": null
     }
    },
    "b995652059df47af92adc905b6c5a7bf": {
     "model_module": "@jupyter-widgets/base",
     "model_module_version": "1.2.0",
     "model_name": "LayoutModel",
     "state": {
      "_model_module": "@jupyter-widgets/base",
      "_model_module_version": "1.2.0",
      "_model_name": "LayoutModel",
      "_view_count": null,
      "_view_module": "@jupyter-widgets/base",
      "_view_module_version": "1.2.0",
      "_view_name": "LayoutView",
      "align_content": null,
      "align_items": null,
      "align_self": null,
      "border": null,
      "bottom": null,
      "display": null,
      "flex": null,
      "flex_flow": null,
      "grid_area": null,
      "grid_auto_columns": null,
      "grid_auto_flow": null,
      "grid_auto_rows": null,
      "grid_column": null,
      "grid_gap": null,
      "grid_row": null,
      "grid_template_areas": null,
      "grid_template_columns": null,
      "grid_template_rows": null,
      "height": null,
      "justify_content": null,
      "justify_items": null,
      "left": null,
      "margin": null,
      "max_height": null,
      "max_width": null,
      "min_height": null,
      "min_width": null,
      "object_fit": null,
      "object_position": null,
      "order": null,
      "overflow": null,
      "overflow_x": null,
      "overflow_y": null,
      "padding": null,
      "right": null,
      "top": null,
      "visibility": null,
      "width": null
     }
    },
    "b9f8027e21b94bd7bebc6b7ebc7d53c1": {
     "model_module": "@jupyter-widgets/base",
     "model_module_version": "1.2.0",
     "model_name": "LayoutModel",
     "state": {
      "_model_module": "@jupyter-widgets/base",
      "_model_module_version": "1.2.0",
      "_model_name": "LayoutModel",
      "_view_count": null,
      "_view_module": "@jupyter-widgets/base",
      "_view_module_version": "1.2.0",
      "_view_name": "LayoutView",
      "align_content": null,
      "align_items": null,
      "align_self": null,
      "border": null,
      "bottom": null,
      "display": null,
      "flex": null,
      "flex_flow": null,
      "grid_area": null,
      "grid_auto_columns": null,
      "grid_auto_flow": null,
      "grid_auto_rows": null,
      "grid_column": null,
      "grid_gap": null,
      "grid_row": null,
      "grid_template_areas": null,
      "grid_template_columns": null,
      "grid_template_rows": null,
      "height": null,
      "justify_content": null,
      "justify_items": null,
      "left": null,
      "margin": null,
      "max_height": null,
      "max_width": null,
      "min_height": null,
      "min_width": null,
      "object_fit": null,
      "object_position": null,
      "order": null,
      "overflow": null,
      "overflow_x": null,
      "overflow_y": null,
      "padding": null,
      "right": null,
      "top": null,
      "visibility": null,
      "width": null
     }
    },
    "bb646fb17c664faf939a7e8737f24dfb": {
     "model_module": "@jupyter-widgets/controls",
     "model_module_version": "1.5.0",
     "model_name": "DescriptionStyleModel",
     "state": {
      "_model_module": "@jupyter-widgets/controls",
      "_model_module_version": "1.5.0",
      "_model_name": "DescriptionStyleModel",
      "_view_count": null,
      "_view_module": "@jupyter-widgets/base",
      "_view_module_version": "1.2.0",
      "_view_name": "StyleView",
      "description_width": ""
     }
    },
    "c2b607f7929a4f499394dcd018bf1984": {
     "model_module": "@jupyter-widgets/base",
     "model_module_version": "1.2.0",
     "model_name": "LayoutModel",
     "state": {
      "_model_module": "@jupyter-widgets/base",
      "_model_module_version": "1.2.0",
      "_model_name": "LayoutModel",
      "_view_count": null,
      "_view_module": "@jupyter-widgets/base",
      "_view_module_version": "1.2.0",
      "_view_name": "LayoutView",
      "align_content": null,
      "align_items": null,
      "align_self": null,
      "border": null,
      "bottom": null,
      "display": null,
      "flex": null,
      "flex_flow": null,
      "grid_area": null,
      "grid_auto_columns": null,
      "grid_auto_flow": null,
      "grid_auto_rows": null,
      "grid_column": null,
      "grid_gap": null,
      "grid_row": null,
      "grid_template_areas": null,
      "grid_template_columns": null,
      "grid_template_rows": null,
      "height": null,
      "justify_content": null,
      "justify_items": null,
      "left": null,
      "margin": null,
      "max_height": null,
      "max_width": null,
      "min_height": null,
      "min_width": null,
      "object_fit": null,
      "object_position": null,
      "order": null,
      "overflow": null,
      "overflow_x": null,
      "overflow_y": null,
      "padding": null,
      "right": null,
      "top": null,
      "visibility": null,
      "width": null
     }
    },
    "c6ffbd9f30074cc8a1edce79a8686be9": {
     "model_module": "@jupyter-widgets/controls",
     "model_module_version": "1.5.0",
     "model_name": "DescriptionStyleModel",
     "state": {
      "_model_module": "@jupyter-widgets/controls",
      "_model_module_version": "1.5.0",
      "_model_name": "DescriptionStyleModel",
      "_view_count": null,
      "_view_module": "@jupyter-widgets/base",
      "_view_module_version": "1.2.0",
      "_view_name": "StyleView",
      "description_width": ""
     }
    },
    "cff52d752df340afaeeb63fcbb63e328": {
     "model_module": "@jupyter-widgets/base",
     "model_module_version": "1.2.0",
     "model_name": "LayoutModel",
     "state": {
      "_model_module": "@jupyter-widgets/base",
      "_model_module_version": "1.2.0",
      "_model_name": "LayoutModel",
      "_view_count": null,
      "_view_module": "@jupyter-widgets/base",
      "_view_module_version": "1.2.0",
      "_view_name": "LayoutView",
      "align_content": null,
      "align_items": null,
      "align_self": null,
      "border": null,
      "bottom": null,
      "display": null,
      "flex": null,
      "flex_flow": null,
      "grid_area": null,
      "grid_auto_columns": null,
      "grid_auto_flow": null,
      "grid_auto_rows": null,
      "grid_column": null,
      "grid_gap": null,
      "grid_row": null,
      "grid_template_areas": null,
      "grid_template_columns": null,
      "grid_template_rows": null,
      "height": null,
      "justify_content": null,
      "justify_items": null,
      "left": null,
      "margin": null,
      "max_height": null,
      "max_width": null,
      "min_height": null,
      "min_width": null,
      "object_fit": null,
      "object_position": null,
      "order": null,
      "overflow": null,
      "overflow_x": null,
      "overflow_y": null,
      "padding": null,
      "right": null,
      "top": null,
      "visibility": null,
      "width": null
     }
    },
    "d0e17e9e075e4c07b76230c049678c6d": {
     "model_module": "@jupyter-widgets/controls",
     "model_module_version": "1.5.0",
     "model_name": "HBoxModel",
     "state": {
      "_dom_classes": [],
      "_model_module": "@jupyter-widgets/controls",
      "_model_module_version": "1.5.0",
      "_model_name": "HBoxModel",
      "_view_count": null,
      "_view_module": "@jupyter-widgets/controls",
      "_view_module_version": "1.5.0",
      "_view_name": "HBoxView",
      "box_style": "",
      "children": [
       "IPY_MODEL_131a6301e2794aefb2548cbae50d953a",
       "IPY_MODEL_a3089a97bed44808ba99bd8eeb22bf4f",
       "IPY_MODEL_6e07b52f6eac46c1a770d97a99aa7d6a"
      ],
      "layout": "IPY_MODEL_c2b607f7929a4f499394dcd018bf1984"
     }
    },
    "d17f2f30872d4c26b523b8ceb2693ec3": {
     "model_module": "@jupyter-widgets/base",
     "model_module_version": "1.2.0",
     "model_name": "LayoutModel",
     "state": {
      "_model_module": "@jupyter-widgets/base",
      "_model_module_version": "1.2.0",
      "_model_name": "LayoutModel",
      "_view_count": null,
      "_view_module": "@jupyter-widgets/base",
      "_view_module_version": "1.2.0",
      "_view_name": "LayoutView",
      "align_content": null,
      "align_items": null,
      "align_self": null,
      "border": null,
      "bottom": null,
      "display": null,
      "flex": null,
      "flex_flow": null,
      "grid_area": null,
      "grid_auto_columns": null,
      "grid_auto_flow": null,
      "grid_auto_rows": null,
      "grid_column": null,
      "grid_gap": null,
      "grid_row": null,
      "grid_template_areas": null,
      "grid_template_columns": null,
      "grid_template_rows": null,
      "height": null,
      "justify_content": null,
      "justify_items": null,
      "left": null,
      "margin": null,
      "max_height": null,
      "max_width": null,
      "min_height": null,
      "min_width": null,
      "object_fit": null,
      "object_position": null,
      "order": null,
      "overflow": null,
      "overflow_x": null,
      "overflow_y": null,
      "padding": null,
      "right": null,
      "top": null,
      "visibility": null,
      "width": null
     }
    },
    "d2e1fde5e3e8499ca60e2ba5094f292d": {
     "model_module": "@jupyter-widgets/base",
     "model_module_version": "1.2.0",
     "model_name": "LayoutModel",
     "state": {
      "_model_module": "@jupyter-widgets/base",
      "_model_module_version": "1.2.0",
      "_model_name": "LayoutModel",
      "_view_count": null,
      "_view_module": "@jupyter-widgets/base",
      "_view_module_version": "1.2.0",
      "_view_name": "LayoutView",
      "align_content": null,
      "align_items": null,
      "align_self": null,
      "border": null,
      "bottom": null,
      "display": null,
      "flex": null,
      "flex_flow": null,
      "grid_area": null,
      "grid_auto_columns": null,
      "grid_auto_flow": null,
      "grid_auto_rows": null,
      "grid_column": null,
      "grid_gap": null,
      "grid_row": null,
      "grid_template_areas": null,
      "grid_template_columns": null,
      "grid_template_rows": null,
      "height": null,
      "justify_content": null,
      "justify_items": null,
      "left": null,
      "margin": null,
      "max_height": null,
      "max_width": null,
      "min_height": null,
      "min_width": null,
      "object_fit": null,
      "object_position": null,
      "order": null,
      "overflow": null,
      "overflow_x": null,
      "overflow_y": null,
      "padding": null,
      "right": null,
      "top": null,
      "visibility": null,
      "width": null
     }
    },
    "e0d968c643844e89b475714eba81a634": {
     "model_module": "@jupyter-widgets/controls",
     "model_module_version": "1.5.0",
     "model_name": "HTMLModel",
     "state": {
      "_dom_classes": [],
      "_model_module": "@jupyter-widgets/controls",
      "_model_module_version": "1.5.0",
      "_model_name": "HTMLModel",
      "_view_count": null,
      "_view_module": "@jupyter-widgets/controls",
      "_view_module_version": "1.5.0",
      "_view_name": "HTMLView",
      "description": "",
      "description_tooltip": null,
      "layout": "IPY_MODEL_e7e84d7cbf9f458ab293ef8b4c4cdc41",
      "placeholder": "​",
      "style": "IPY_MODEL_76147c4ed08c431ea1709e5b0b8bf67f",
      "value": " 20000/20000 [00:00&lt;00:00, 64416.90it/s]"
     }
    },
    "e1d3edeba958404c94fd11f2a6facc87": {
     "model_module": "@jupyter-widgets/base",
     "model_module_version": "1.2.0",
     "model_name": "LayoutModel",
     "state": {
      "_model_module": "@jupyter-widgets/base",
      "_model_module_version": "1.2.0",
      "_model_name": "LayoutModel",
      "_view_count": null,
      "_view_module": "@jupyter-widgets/base",
      "_view_module_version": "1.2.0",
      "_view_name": "LayoutView",
      "align_content": null,
      "align_items": null,
      "align_self": null,
      "border": null,
      "bottom": null,
      "display": null,
      "flex": null,
      "flex_flow": null,
      "grid_area": null,
      "grid_auto_columns": null,
      "grid_auto_flow": null,
      "grid_auto_rows": null,
      "grid_column": null,
      "grid_gap": null,
      "grid_row": null,
      "grid_template_areas": null,
      "grid_template_columns": null,
      "grid_template_rows": null,
      "height": null,
      "justify_content": null,
      "justify_items": null,
      "left": null,
      "margin": null,
      "max_height": null,
      "max_width": null,
      "min_height": null,
      "min_width": null,
      "object_fit": null,
      "object_position": null,
      "order": null,
      "overflow": null,
      "overflow_x": null,
      "overflow_y": null,
      "padding": null,
      "right": null,
      "top": null,
      "visibility": null,
      "width": null
     }
    },
    "e7e84d7cbf9f458ab293ef8b4c4cdc41": {
     "model_module": "@jupyter-widgets/base",
     "model_module_version": "1.2.0",
     "model_name": "LayoutModel",
     "state": {
      "_model_module": "@jupyter-widgets/base",
      "_model_module_version": "1.2.0",
      "_model_name": "LayoutModel",
      "_view_count": null,
      "_view_module": "@jupyter-widgets/base",
      "_view_module_version": "1.2.0",
      "_view_name": "LayoutView",
      "align_content": null,
      "align_items": null,
      "align_self": null,
      "border": null,
      "bottom": null,
      "display": null,
      "flex": null,
      "flex_flow": null,
      "grid_area": null,
      "grid_auto_columns": null,
      "grid_auto_flow": null,
      "grid_auto_rows": null,
      "grid_column": null,
      "grid_gap": null,
      "grid_row": null,
      "grid_template_areas": null,
      "grid_template_columns": null,
      "grid_template_rows": null,
      "height": null,
      "justify_content": null,
      "justify_items": null,
      "left": null,
      "margin": null,
      "max_height": null,
      "max_width": null,
      "min_height": null,
      "min_width": null,
      "object_fit": null,
      "object_position": null,
      "order": null,
      "overflow": null,
      "overflow_x": null,
      "overflow_y": null,
      "padding": null,
      "right": null,
      "top": null,
      "visibility": null,
      "width": null
     }
    },
    "f4fc6786328e4fc69641a9606d075519": {
     "model_module": "@jupyter-widgets/controls",
     "model_module_version": "1.5.0",
     "model_name": "LabelModel",
     "state": {
      "_dom_classes": [],
      "_model_module": "@jupyter-widgets/controls",
      "_model_module_version": "1.5.0",
      "_model_name": "LabelModel",
      "_view_count": null,
      "_view_module": "@jupyter-widgets/controls",
      "_view_module_version": "1.5.0",
      "_view_name": "LabelView",
      "description": "",
      "description_tooltip": null,
      "layout": "IPY_MODEL_fb3ee54cb951435698b9aa66fc2b388d",
      "placeholder": "​",
      "style": "IPY_MODEL_a031ac09918443c78b6e3cbd8058c221",
      "value": "Connecting..."
     }
    },
    "fb3ee54cb951435698b9aa66fc2b388d": {
     "model_module": "@jupyter-widgets/base",
     "model_module_version": "1.2.0",
     "model_name": "LayoutModel",
     "state": {
      "_model_module": "@jupyter-widgets/base",
      "_model_module_version": "1.2.0",
      "_model_name": "LayoutModel",
      "_view_count": null,
      "_view_module": "@jupyter-widgets/base",
      "_view_module_version": "1.2.0",
      "_view_name": "LayoutView",
      "align_content": null,
      "align_items": null,
      "align_self": null,
      "border": null,
      "bottom": null,
      "display": null,
      "flex": null,
      "flex_flow": null,
      "grid_area": null,
      "grid_auto_columns": null,
      "grid_auto_flow": null,
      "grid_auto_rows": null,
      "grid_column": null,
      "grid_gap": null,
      "grid_row": null,
      "grid_template_areas": null,
      "grid_template_columns": null,
      "grid_template_rows": null,
      "height": null,
      "justify_content": null,
      "justify_items": null,
      "left": null,
      "margin": null,
      "max_height": null,
      "max_width": null,
      "min_height": null,
      "min_width": null,
      "object_fit": null,
      "object_position": null,
      "order": null,
      "overflow": null,
      "overflow_x": null,
      "overflow_y": null,
      "padding": null,
      "right": null,
      "top": null,
      "visibility": null,
      "width": null
     }
    },
    "fe0b92abeea84b6f83ffc6521b5c3072": {
     "model_module": "@jupyter-widgets/controls",
     "model_module_version": "1.5.0",
     "model_name": "VBoxModel",
     "state": {
      "_dom_classes": [],
      "_model_module": "@jupyter-widgets/controls",
      "_model_module_version": "1.5.0",
      "_model_name": "VBoxModel",
      "_view_count": null,
      "_view_module": "@jupyter-widgets/controls",
      "_view_module_version": "1.5.0",
      "_view_name": "VBoxView",
      "box_style": "",
      "children": [
       "IPY_MODEL_46356b8166d7489c96f2cda204bb7dd5",
       "IPY_MODEL_753623ce05cb4ad09eb964ba3380a7d4",
       "IPY_MODEL_44a84e6538f749af8f9c178ba00a53d2",
       "IPY_MODEL_9f12f94ff9604d78ba5045aa0b35412b"
      ],
      "layout": "IPY_MODEL_af0504cc963e4aa097f38d6257ba8739"
     }
    }
   }
  }
 },
 "nbformat": 4,
 "nbformat_minor": 5
}

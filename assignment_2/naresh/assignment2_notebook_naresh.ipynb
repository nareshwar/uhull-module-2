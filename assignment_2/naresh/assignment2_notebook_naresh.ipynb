{
 "cells": [
  {
   "cell_type": "code",
   "execution_count": 1,
   "metadata": {},
   "outputs": [
    {
     "name": "stdout",
     "output_type": "stream",
     "text": [
      "Note: you may need to restart the kernel to use updated packages.\n",
      "Note: you may need to restart the kernel to use updated packages.\n",
      "Note: you may need to restart the kernel to use updated packages.\n",
      "Note: you may need to restart the kernel to use updated packages.\n",
      "Note: you may need to restart the kernel to use updated packages.\n",
      "Note: you may need to restart the kernel to use updated packages.\n",
      "Note: you may need to restart the kernel to use updated packages.\n"
     ]
    }
   ],
   "source": [
    "%pip install -q numpy\n",
    "%pip install -q pandas\n",
    "%pip install -q Pillow\n",
    "%pip install -q tensorflow\n",
    "%pip install -q keras\n",
    "%pip install -q keras.utils\n",
    "%pip install -q ipywidgets"
   ]
  },
  {
   "cell_type": "code",
   "execution_count": 2,
   "metadata": {},
   "outputs": [],
   "source": [
    "import os\n",
    "import numpy as np\n",
    "from PIL import Image\n",
    "from collections import defaultdict\n",
    "from sklearn.model_selection import train_test_split"
   ]
  },
  {
   "cell_type": "code",
   "execution_count": 3,
   "metadata": {},
   "outputs": [],
   "source": [
    "# Configuration\n",
    "image_size = (28, 28)  # Resize images to 28x28 pixels\n",
    "data_dir = 'dataset2/'  # Update to your dataset folder"
   ]
  },
  {
   "cell_type": "code",
   "execution_count": 6,
   "metadata": {},
   "outputs": [],
   "source": [
    "def determine_max_classes(data_dir):\n",
    "    label_set = set()\n",
    "\n",
    "    # Traverse the data directory to find all unique labels\n",
    "    for split in ['train', 'test', 'val']:\n",
    "        split_dir = os.path.join(data_dir, split)\n",
    "        for label_folder in os.listdir(split_dir):\n",
    "            label_folder_path = os.path.join(split_dir, label_folder)\n",
    "            if os.path.isdir(label_folder_path):\n",
    "                try:\n",
    "                    label = int(label_folder)  # Assuming folder names are the labels\n",
    "                    label_set.add(label)\n",
    "                except ValueError:\n",
    "                    print(f\"Skipping non-numeric folder: {label_folder}\")\n",
    "\n",
    "    num_classes = max(label_set) + 1  # Adjust the number of classes to the maximum label value plus one\n",
    "    return num_classes"
   ]
  },
  {
   "cell_type": "code",
   "execution_count": 8,
   "metadata": {},
   "outputs": [],
   "source": [
    "def load_images_and_labels(data_dir, num_classes):\n",
    "    labels_dict = defaultdict(set)\n",
    "\n",
    "    # Traverse the data directory to collect image paths and labels\n",
    "    for label_folder in os.listdir(data_dir):\n",
    "        label_folder_path = os.path.join(data_dir, label_folder)\n",
    "        if os.path.isdir(label_folder_path):\n",
    "            try:\n",
    "                label = int(label_folder)  # Assuming folder names are the labels\n",
    "                for image_filename in os.listdir(label_folder_path):\n",
    "                    image_path = os.path.join(label_folder_path, image_filename)\n",
    "                    labels_dict[image_path].add(label)\n",
    "            except ValueError:\n",
    "                print(f\"Skipping non-numeric folder: {label_folder}\")\n",
    "\n",
    "    # Initialize lists to hold the data and labels\n",
    "    image_data = []\n",
    "    labels = []\n",
    "\n",
    "    # Load and preprocess the images\n",
    "    for image_path, labels_set in labels_dict.items():\n",
    "        # Open the image\n",
    "        image = Image.open(image_path).convert('L')  # Convert to grayscale\n",
    "        image = image.resize(image_size)  # Resize the image\n",
    "        image = np.array(image, dtype=np.float32) / 255.0  # Normalize pixel values\n",
    "        \n",
    "        # Append to image data list\n",
    "        image_data.append(image)\n",
    "        \n",
    "        # Convert labels to one-hot encoding\n",
    "        one_hot_labels = np.zeros(num_classes)\n",
    "        for label in labels_set:\n",
    "            if label >= num_classes:\n",
    "                print(f\"Label {label} out of range for image {image_path}\")\n",
    "            else:\n",
    "                one_hot_labels[label] = 1\n",
    "        labels.append(one_hot_labels)\n",
    "\n",
    "    # Convert lists to numpy arrays\n",
    "    image_data = np.array(image_data)\n",
    "    labels = np.array(labels)\n",
    "    \n",
    "    # If necessary, add a channel dimension to the images\n",
    "    image_data = np.expand_dims(image_data, axis=-1)\n",
    "    \n",
    "    return image_data, labels"
   ]
  },
  {
   "cell_type": "code",
   "execution_count": 9,
   "metadata": {},
   "outputs": [
    {
     "name": "stdout",
     "output_type": "stream",
     "text": [
      "Determined number of classes: 1000\n",
      "x_train shape: (64000, 28, 28, 1)\n",
      "y_train shape: (64000, 1000)\n",
      "x_test shape: (20000, 28, 28, 1)\n",
      "y_test shape: (20000, 1000)\n",
      "x_val shape: (16000, 28, 28, 1)\n",
      "y_val shape: (16000, 1000)\n"
     ]
    }
   ],
   "source": [
    "# Determine the maximum number of classes across all datasets\n",
    "num_classes = determine_max_classes(data_dir)\n",
    "print(f\"Determined number of classes: {num_classes}\")\n",
    "\n",
    "# Load datasets\n",
    "x_train, y_train = load_images_and_labels(os.path.join(data_dir, 'train'), num_classes)\n",
    "x_test, y_test = load_images_and_labels(os.path.join(data_dir, 'test'), num_classes)\n",
    "x_val, y_val = load_images_and_labels(os.path.join(data_dir, 'val'), num_classes)\n",
    "\n",
    "# Verify the shapes of the processed data\n",
    "print(\"x_train shape:\", x_train.shape)\n",
    "print(\"y_train shape:\", y_train.shape)\n",
    "print(\"x_test shape:\", x_test.shape)\n",
    "print(\"y_test shape:\", y_test.shape)\n",
    "print(\"x_val shape:\", x_val.shape)\n",
    "print(\"y_val shape:\", y_val.shape)"
   ]
  }
 ],
 "metadata": {
  "kernelspec": {
   "display_name": "Python 3",
   "language": "python",
   "name": "python3"
  },
  "language_info": {
   "codemirror_mode": {
    "name": "ipython",
    "version": 3
   },
   "file_extension": ".py",
   "mimetype": "text/x-python",
   "name": "python",
   "nbconvert_exporter": "python",
   "pygments_lexer": "ipython3",
   "version": "3.12.4"
  }
 },
 "nbformat": 4,
 "nbformat_minor": 2
}
